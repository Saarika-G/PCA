{
 "cells": [
  {
   "cell_type": "code",
   "execution_count": 6,
   "metadata": {},
   "outputs": [],
   "source": [
    "import pandas as pd \n",
    "import numpy as np\n",
    "import seaborn as sns\n",
    "from sklearn.decomposition import PCA\n",
    "import matplotlib.pyplot as plt\n",
    "from sklearn.preprocessing import scale "
   ]
  },
  {
   "cell_type": "code",
   "execution_count": 7,
   "metadata": {},
   "outputs": [
    {
     "data": {
      "text/html": [
       "<div>\n",
       "<style scoped>\n",
       "    .dataframe tbody tr th:only-of-type {\n",
       "        vertical-align: middle;\n",
       "    }\n",
       "\n",
       "    .dataframe tbody tr th {\n",
       "        vertical-align: top;\n",
       "    }\n",
       "\n",
       "    .dataframe thead th {\n",
       "        text-align: right;\n",
       "    }\n",
       "</style>\n",
       "<table border=\"1\" class=\"dataframe\">\n",
       "  <thead>\n",
       "    <tr style=\"text-align: right;\">\n",
       "      <th></th>\n",
       "      <th>Type</th>\n",
       "      <th>Alcohol</th>\n",
       "      <th>Malic</th>\n",
       "      <th>Ash</th>\n",
       "      <th>Alcalinity</th>\n",
       "      <th>Magnesium</th>\n",
       "      <th>Phenols</th>\n",
       "      <th>Flavanoids</th>\n",
       "      <th>Nonflavanoids</th>\n",
       "      <th>Proanthocyanins</th>\n",
       "      <th>Color</th>\n",
       "      <th>Hue</th>\n",
       "      <th>Dilution</th>\n",
       "      <th>Proline</th>\n",
       "    </tr>\n",
       "  </thead>\n",
       "  <tbody>\n",
       "    <tr>\n",
       "      <th>0</th>\n",
       "      <td>1</td>\n",
       "      <td>14.23</td>\n",
       "      <td>1.71</td>\n",
       "      <td>2.43</td>\n",
       "      <td>15.6</td>\n",
       "      <td>127</td>\n",
       "      <td>2.80</td>\n",
       "      <td>3.06</td>\n",
       "      <td>0.28</td>\n",
       "      <td>2.29</td>\n",
       "      <td>5.64</td>\n",
       "      <td>1.04</td>\n",
       "      <td>3.92</td>\n",
       "      <td>1065</td>\n",
       "    </tr>\n",
       "    <tr>\n",
       "      <th>1</th>\n",
       "      <td>1</td>\n",
       "      <td>13.20</td>\n",
       "      <td>1.78</td>\n",
       "      <td>2.14</td>\n",
       "      <td>11.2</td>\n",
       "      <td>100</td>\n",
       "      <td>2.65</td>\n",
       "      <td>2.76</td>\n",
       "      <td>0.26</td>\n",
       "      <td>1.28</td>\n",
       "      <td>4.38</td>\n",
       "      <td>1.05</td>\n",
       "      <td>3.40</td>\n",
       "      <td>1050</td>\n",
       "    </tr>\n",
       "    <tr>\n",
       "      <th>2</th>\n",
       "      <td>1</td>\n",
       "      <td>13.16</td>\n",
       "      <td>2.36</td>\n",
       "      <td>2.67</td>\n",
       "      <td>18.6</td>\n",
       "      <td>101</td>\n",
       "      <td>2.80</td>\n",
       "      <td>3.24</td>\n",
       "      <td>0.30</td>\n",
       "      <td>2.81</td>\n",
       "      <td>5.68</td>\n",
       "      <td>1.03</td>\n",
       "      <td>3.17</td>\n",
       "      <td>1185</td>\n",
       "    </tr>\n",
       "    <tr>\n",
       "      <th>3</th>\n",
       "      <td>1</td>\n",
       "      <td>14.37</td>\n",
       "      <td>1.95</td>\n",
       "      <td>2.50</td>\n",
       "      <td>16.8</td>\n",
       "      <td>113</td>\n",
       "      <td>3.85</td>\n",
       "      <td>3.49</td>\n",
       "      <td>0.24</td>\n",
       "      <td>2.18</td>\n",
       "      <td>7.80</td>\n",
       "      <td>0.86</td>\n",
       "      <td>3.45</td>\n",
       "      <td>1480</td>\n",
       "    </tr>\n",
       "    <tr>\n",
       "      <th>4</th>\n",
       "      <td>1</td>\n",
       "      <td>13.24</td>\n",
       "      <td>2.59</td>\n",
       "      <td>2.87</td>\n",
       "      <td>21.0</td>\n",
       "      <td>118</td>\n",
       "      <td>2.80</td>\n",
       "      <td>2.69</td>\n",
       "      <td>0.39</td>\n",
       "      <td>1.82</td>\n",
       "      <td>4.32</td>\n",
       "      <td>1.04</td>\n",
       "      <td>2.93</td>\n",
       "      <td>735</td>\n",
       "    </tr>\n",
       "    <tr>\n",
       "      <th>...</th>\n",
       "      <td>...</td>\n",
       "      <td>...</td>\n",
       "      <td>...</td>\n",
       "      <td>...</td>\n",
       "      <td>...</td>\n",
       "      <td>...</td>\n",
       "      <td>...</td>\n",
       "      <td>...</td>\n",
       "      <td>...</td>\n",
       "      <td>...</td>\n",
       "      <td>...</td>\n",
       "      <td>...</td>\n",
       "      <td>...</td>\n",
       "      <td>...</td>\n",
       "    </tr>\n",
       "    <tr>\n",
       "      <th>173</th>\n",
       "      <td>3</td>\n",
       "      <td>13.71</td>\n",
       "      <td>5.65</td>\n",
       "      <td>2.45</td>\n",
       "      <td>20.5</td>\n",
       "      <td>95</td>\n",
       "      <td>1.68</td>\n",
       "      <td>0.61</td>\n",
       "      <td>0.52</td>\n",
       "      <td>1.06</td>\n",
       "      <td>7.70</td>\n",
       "      <td>0.64</td>\n",
       "      <td>1.74</td>\n",
       "      <td>740</td>\n",
       "    </tr>\n",
       "    <tr>\n",
       "      <th>174</th>\n",
       "      <td>3</td>\n",
       "      <td>13.40</td>\n",
       "      <td>3.91</td>\n",
       "      <td>2.48</td>\n",
       "      <td>23.0</td>\n",
       "      <td>102</td>\n",
       "      <td>1.80</td>\n",
       "      <td>0.75</td>\n",
       "      <td>0.43</td>\n",
       "      <td>1.41</td>\n",
       "      <td>7.30</td>\n",
       "      <td>0.70</td>\n",
       "      <td>1.56</td>\n",
       "      <td>750</td>\n",
       "    </tr>\n",
       "    <tr>\n",
       "      <th>175</th>\n",
       "      <td>3</td>\n",
       "      <td>13.27</td>\n",
       "      <td>4.28</td>\n",
       "      <td>2.26</td>\n",
       "      <td>20.0</td>\n",
       "      <td>120</td>\n",
       "      <td>1.59</td>\n",
       "      <td>0.69</td>\n",
       "      <td>0.43</td>\n",
       "      <td>1.35</td>\n",
       "      <td>10.20</td>\n",
       "      <td>0.59</td>\n",
       "      <td>1.56</td>\n",
       "      <td>835</td>\n",
       "    </tr>\n",
       "    <tr>\n",
       "      <th>176</th>\n",
       "      <td>3</td>\n",
       "      <td>13.17</td>\n",
       "      <td>2.59</td>\n",
       "      <td>2.37</td>\n",
       "      <td>20.0</td>\n",
       "      <td>120</td>\n",
       "      <td>1.65</td>\n",
       "      <td>0.68</td>\n",
       "      <td>0.53</td>\n",
       "      <td>1.46</td>\n",
       "      <td>9.30</td>\n",
       "      <td>0.60</td>\n",
       "      <td>1.62</td>\n",
       "      <td>840</td>\n",
       "    </tr>\n",
       "    <tr>\n",
       "      <th>177</th>\n",
       "      <td>3</td>\n",
       "      <td>14.13</td>\n",
       "      <td>4.10</td>\n",
       "      <td>2.74</td>\n",
       "      <td>24.5</td>\n",
       "      <td>96</td>\n",
       "      <td>2.05</td>\n",
       "      <td>0.76</td>\n",
       "      <td>0.56</td>\n",
       "      <td>1.35</td>\n",
       "      <td>9.20</td>\n",
       "      <td>0.61</td>\n",
       "      <td>1.60</td>\n",
       "      <td>560</td>\n",
       "    </tr>\n",
       "  </tbody>\n",
       "</table>\n",
       "<p>178 rows × 14 columns</p>\n",
       "</div>"
      ],
      "text/plain": [
       "     Type  Alcohol  Malic   Ash  Alcalinity  Magnesium  Phenols  Flavanoids  \\\n",
       "0       1    14.23   1.71  2.43        15.6        127     2.80        3.06   \n",
       "1       1    13.20   1.78  2.14        11.2        100     2.65        2.76   \n",
       "2       1    13.16   2.36  2.67        18.6        101     2.80        3.24   \n",
       "3       1    14.37   1.95  2.50        16.8        113     3.85        3.49   \n",
       "4       1    13.24   2.59  2.87        21.0        118     2.80        2.69   \n",
       "..    ...      ...    ...   ...         ...        ...      ...         ...   \n",
       "173     3    13.71   5.65  2.45        20.5         95     1.68        0.61   \n",
       "174     3    13.40   3.91  2.48        23.0        102     1.80        0.75   \n",
       "175     3    13.27   4.28  2.26        20.0        120     1.59        0.69   \n",
       "176     3    13.17   2.59  2.37        20.0        120     1.65        0.68   \n",
       "177     3    14.13   4.10  2.74        24.5         96     2.05        0.76   \n",
       "\n",
       "     Nonflavanoids  Proanthocyanins  Color   Hue  Dilution  Proline  \n",
       "0             0.28             2.29   5.64  1.04      3.92     1065  \n",
       "1             0.26             1.28   4.38  1.05      3.40     1050  \n",
       "2             0.30             2.81   5.68  1.03      3.17     1185  \n",
       "3             0.24             2.18   7.80  0.86      3.45     1480  \n",
       "4             0.39             1.82   4.32  1.04      2.93      735  \n",
       "..             ...              ...    ...   ...       ...      ...  \n",
       "173           0.52             1.06   7.70  0.64      1.74      740  \n",
       "174           0.43             1.41   7.30  0.70      1.56      750  \n",
       "175           0.43             1.35  10.20  0.59      1.56      835  \n",
       "176           0.53             1.46   9.30  0.60      1.62      840  \n",
       "177           0.56             1.35   9.20  0.61      1.60      560  \n",
       "\n",
       "[178 rows x 14 columns]"
      ]
     },
     "execution_count": 7,
     "metadata": {},
     "output_type": "execute_result"
    }
   ],
   "source": [
    "w = pd.read_csv('wine.csv')\n",
    "w"
   ]
  },
  {
   "cell_type": "code",
   "execution_count": 8,
   "metadata": {},
   "outputs": [
    {
     "name": "stdout",
     "output_type": "stream",
     "text": [
      "<class 'pandas.core.frame.DataFrame'>\n",
      "RangeIndex: 178 entries, 0 to 177\n",
      "Data columns (total 14 columns):\n",
      " #   Column           Non-Null Count  Dtype  \n",
      "---  ------           --------------  -----  \n",
      " 0   Type             178 non-null    int64  \n",
      " 1   Alcohol          178 non-null    float64\n",
      " 2   Malic            178 non-null    float64\n",
      " 3   Ash              178 non-null    float64\n",
      " 4   Alcalinity       178 non-null    float64\n",
      " 5   Magnesium        178 non-null    int64  \n",
      " 6   Phenols          178 non-null    float64\n",
      " 7   Flavanoids       178 non-null    float64\n",
      " 8   Nonflavanoids    178 non-null    float64\n",
      " 9   Proanthocyanins  178 non-null    float64\n",
      " 10  Color            178 non-null    float64\n",
      " 11  Hue              178 non-null    float64\n",
      " 12  Dilution         178 non-null    float64\n",
      " 13  Proline          178 non-null    int64  \n",
      "dtypes: float64(11), int64(3)\n",
      "memory usage: 19.6 KB\n"
     ]
    }
   ],
   "source": [
    "#To find whether there are any existing null values or not\n",
    "w.info()"
   ]
  },
  {
   "cell_type": "code",
   "execution_count": 9,
   "metadata": {},
   "outputs": [
    {
     "data": {
      "text/html": [
       "<div>\n",
       "<style scoped>\n",
       "    .dataframe tbody tr th:only-of-type {\n",
       "        vertical-align: middle;\n",
       "    }\n",
       "\n",
       "    .dataframe tbody tr th {\n",
       "        vertical-align: top;\n",
       "    }\n",
       "\n",
       "    .dataframe thead th {\n",
       "        text-align: right;\n",
       "    }\n",
       "</style>\n",
       "<table border=\"1\" class=\"dataframe\">\n",
       "  <thead>\n",
       "    <tr style=\"text-align: right;\">\n",
       "      <th></th>\n",
       "      <th>Type</th>\n",
       "      <th>Alcohol</th>\n",
       "      <th>Malic</th>\n",
       "      <th>Ash</th>\n",
       "      <th>Alcalinity</th>\n",
       "      <th>Magnesium</th>\n",
       "      <th>Phenols</th>\n",
       "      <th>Flavanoids</th>\n",
       "      <th>Nonflavanoids</th>\n",
       "      <th>Proanthocyanins</th>\n",
       "      <th>Color</th>\n",
       "      <th>Hue</th>\n",
       "      <th>Dilution</th>\n",
       "      <th>Proline</th>\n",
       "    </tr>\n",
       "  </thead>\n",
       "  <tbody>\n",
       "  </tbody>\n",
       "</table>\n",
       "</div>"
      ],
      "text/plain": [
       "Empty DataFrame\n",
       "Columns: [Type, Alcohol, Malic, Ash, Alcalinity, Magnesium, Phenols, Flavanoids, Nonflavanoids, Proanthocyanins, Color, Hue, Dilution, Proline]\n",
       "Index: []"
      ]
     },
     "execution_count": 9,
     "metadata": {},
     "output_type": "execute_result"
    }
   ],
   "source": [
    "#Count of duplicated rows\n",
    "w[w.duplicated()]"
   ]
  },
  {
   "cell_type": "code",
   "execution_count": 10,
   "metadata": {},
   "outputs": [
    {
     "data": {
      "text/plain": [
       "<AxesSubplot:>"
      ]
     },
     "execution_count": 10,
     "metadata": {},
     "output_type": "execute_result"
    },
    {
     "data": {
      "image/png": "[encoded data removed]",
      "text/plain": [
       "<Figure size 432x288 with 1 Axes>"
      ]
     },
     "metadata": {
      "needs_background": "light"
     },
     "output_type": "display_data"
    }
   ],
   "source": [
    "#Outlier Detection\n",
    "w.plot(kind='box')"
   ]
  },
  {
   "cell_type": "code",
   "execution_count": 11,
   "metadata": {},
   "outputs": [
    {
     "data": {
      "text/plain": [
       "<AxesSubplot:>"
      ]
     },
     "execution_count": 11,
     "metadata": {},
     "output_type": "execute_result"
    },
    {
     "data": {
      "image/png": "[encoded data removed]",
      "text/plain": [
       "<Figure size 432x288 with 1 Axes>"
      ]
     },
     "metadata": {
      "needs_background": "light"
     },
     "output_type": "display_data"
    }
   ],
   "source": [
    "w.Alcohol.plot(kind='box')"
   ]
  },
  {
   "cell_type": "code",
   "execution_count": 12,
   "metadata": {},
   "outputs": [
    {
     "data": {
      "text/plain": [
       "<AxesSubplot:>"
      ]
     },
     "execution_count": 12,
     "metadata": {},
     "output_type": "execute_result"
    },
    {
     "data": {
      "image/png": "[encoded data removed]",
      "text/plain": [
       "<Figure size 432x288 with 1 Axes>"
      ]
     },
     "metadata": {
      "needs_background": "light"
     },
     "output_type": "display_data"
    }
   ],
   "source": [
    "w.Malic.plot(kind='box')"
   ]
  },
  {
   "cell_type": "code",
   "execution_count": 13,
   "metadata": {},
   "outputs": [
    {
     "data": {
      "text/plain": [
       "count    178.000000\n",
       "mean       2.336348\n",
       "std        1.117146\n",
       "min        0.740000\n",
       "25%        1.602500\n",
       "50%        1.865000\n",
       "75%        3.082500\n",
       "max        5.800000\n",
       "Name: Malic, dtype: float64"
      ]
     },
     "execution_count": 13,
     "metadata": {},
     "output_type": "execute_result"
    }
   ],
   "source": [
    "w.Malic.describe()"
   ]
  },
  {
   "cell_type": "code",
   "execution_count": 14,
   "metadata": {},
   "outputs": [
    {
     "data": {
      "text/plain": [
       "1.48"
      ]
     },
     "execution_count": 14,
     "metadata": {},
     "output_type": "execute_result"
    }
   ],
   "source": [
    "IQR = 3.082500 - 1.602500\n",
    "IQR"
   ]
  },
  {
   "cell_type": "code",
   "execution_count": 15,
   "metadata": {},
   "outputs": [
    {
     "data": {
      "text/plain": [
       "5.3025"
      ]
     },
     "execution_count": 15,
     "metadata": {},
     "output_type": "execute_result"
    }
   ],
   "source": [
    "#Calculation of upper fence\n",
    "upper_fence = 3.082500 + (1.5*IQR)\n",
    "upper_fence"
   ]
  },
  {
   "cell_type": "code",
   "execution_count": 16,
   "metadata": {},
   "outputs": [],
   "source": [
    "index=w[w.Malic>3.6224999999999996].index\n",
    "w = w.drop(index,axis=0)"
   ]
  },
  {
   "cell_type": "code",
   "execution_count": 17,
   "metadata": {},
   "outputs": [
    {
     "data": {
      "text/plain": [
       "<AxesSubplot:>"
      ]
     },
     "execution_count": 17,
     "metadata": {},
     "output_type": "execute_result"
    },
    {
     "data": {
      "image/png": "[encoded data removed]",
      "text/plain": [
       "<Figure size 432x288 with 1 Axes>"
      ]
     },
     "metadata": {
      "needs_background": "light"
     },
     "output_type": "display_data"
    }
   ],
   "source": [
    "w.Ash.plot(kind='box')"
   ]
  },
  {
   "cell_type": "code",
   "execution_count": 18,
   "metadata": {},
   "outputs": [
    {
     "data": {
      "text/plain": [
       "count    149.000000\n",
       "mean       2.359262\n",
       "std        0.284786\n",
       "min        1.360000\n",
       "25%        2.200000\n",
       "50%        2.350000\n",
       "75%        2.560000\n",
       "max        3.230000\n",
       "Name: Ash, dtype: float64"
      ]
     },
     "execution_count": 18,
     "metadata": {},
     "output_type": "execute_result"
    }
   ],
   "source": [
    "w.Ash.describe()"
   ]
  },
  {
   "cell_type": "code",
   "execution_count": 19,
   "metadata": {},
   "outputs": [
    {
     "data": {
      "text/plain": [
       "0.3599999999999999"
      ]
     },
     "execution_count": 19,
     "metadata": {},
     "output_type": "execute_result"
    }
   ],
   "source": [
    "IQR = 2.560000 - 2.200000\n",
    "IQR"
   ]
  },
  {
   "cell_type": "code",
   "execution_count": 20,
   "metadata": {},
   "outputs": [
    {
     "data": {
      "text/plain": [
       "3.0999999999999996"
      ]
     },
     "execution_count": 20,
     "metadata": {},
     "output_type": "execute_result"
    }
   ],
   "source": [
    "#Calculation of upper fence\n",
    "upper_fence = 2.560000 + (1.5*IQR)\n",
    "upper_fence"
   ]
  },
  {
   "cell_type": "code",
   "execution_count": 21,
   "metadata": {},
   "outputs": [
    {
     "data": {
      "text/plain": [
       "1.6600000000000004"
      ]
     },
     "execution_count": 21,
     "metadata": {},
     "output_type": "execute_result"
    }
   ],
   "source": [
    "#Calculation of lower fence\n",
    "lower_fence = 2.200000 - (1.5*IQR)\n",
    "lower_fence"
   ]
  },
  {
   "cell_type": "code",
   "execution_count": 22,
   "metadata": {},
   "outputs": [],
   "source": [
    "index=w[w.Ash<1.6600000000000004].index\n",
    "w = w.drop(index,axis=0)"
   ]
  },
  {
   "cell_type": "code",
   "execution_count": 23,
   "metadata": {},
   "outputs": [],
   "source": [
    "index=w[w.Ash>3.0999999999999996].index\n",
    "w = w.drop(index,axis=0)"
   ]
  },
  {
   "cell_type": "code",
   "execution_count": 24,
   "metadata": {},
   "outputs": [
    {
     "data": {
      "text/plain": [
       "<AxesSubplot:>"
      ]
     },
     "execution_count": 24,
     "metadata": {},
     "output_type": "execute_result"
    },
    {
     "data": {
      "image/png": "[encoded data removed]",
      "text/plain": [
       "<Figure size 432x288 with 1 Axes>"
      ]
     },
     "metadata": {
      "needs_background": "light"
     },
     "output_type": "display_data"
    }
   ],
   "source": [
    "w.Alcalinity.plot(kind='box')"
   ]
  },
  {
   "cell_type": "code",
   "execution_count": 25,
   "metadata": {},
   "outputs": [
    {
     "data": {
      "text/plain": [
       "count    146.000000\n",
       "mean      19.140411\n",
       "std        3.212145\n",
       "min       11.200000\n",
       "25%       16.800000\n",
       "50%       19.000000\n",
       "75%       21.000000\n",
       "max       30.000000\n",
       "Name: Alcalinity, dtype: float64"
      ]
     },
     "execution_count": 25,
     "metadata": {},
     "output_type": "execute_result"
    }
   ],
   "source": [
    "w.Alcalinity.describe()"
   ]
  },
  {
   "cell_type": "code",
   "execution_count": 26,
   "metadata": {},
   "outputs": [
    {
     "data": {
      "text/plain": [
       "4.199999999999999"
      ]
     },
     "execution_count": 26,
     "metadata": {},
     "output_type": "execute_result"
    }
   ],
   "source": [
    "IQR = 21.000000 - 16.800000\n",
    "IQR"
   ]
  },
  {
   "cell_type": "code",
   "execution_count": 27,
   "metadata": {},
   "outputs": [
    {
     "data": {
      "text/plain": [
       "27.299999999999997"
      ]
     },
     "execution_count": 27,
     "metadata": {},
     "output_type": "execute_result"
    }
   ],
   "source": [
    "#Calculation of upper fence\n",
    "upper_fence = 21.000000 + (1.5*IQR)\n",
    "upper_fence"
   ]
  },
  {
   "cell_type": "code",
   "execution_count": 28,
   "metadata": {},
   "outputs": [
    {
     "data": {
      "text/plain": [
       "10.500000000000002"
      ]
     },
     "execution_count": 28,
     "metadata": {},
     "output_type": "execute_result"
    }
   ],
   "source": [
    "#Calculation of lower fence\n",
    "lower_fence = 16.800000 - (1.5*IQR)\n",
    "lower_fence"
   ]
  },
  {
   "cell_type": "code",
   "execution_count": 29,
   "metadata": {},
   "outputs": [],
   "source": [
    "index=w[w.Alcalinity<10.500000000000002].index\n",
    "w = w.drop(index,axis=0)"
   ]
  },
  {
   "cell_type": "code",
   "execution_count": 30,
   "metadata": {},
   "outputs": [],
   "source": [
    "index=w[w.Alcalinity>27.299999999999997].index\n",
    "w = w.drop(index,axis=0)"
   ]
  },
  {
   "cell_type": "code",
   "execution_count": 31,
   "metadata": {},
   "outputs": [
    {
     "data": {
      "text/plain": [
       "<AxesSubplot:>"
      ]
     },
     "execution_count": 31,
     "metadata": {},
     "output_type": "execute_result"
    },
    {
     "data": {
      "image/png": "[encoded data removed]",
      "text/plain": [
       "<Figure size 432x288 with 1 Axes>"
      ]
     },
     "metadata": {
      "needs_background": "light"
     },
     "output_type": "display_data"
    }
   ],
   "source": [
    "w.Magnesium.plot(kind='box')"
   ]
  },
  {
   "cell_type": "code",
   "execution_count": 32,
   "metadata": {},
   "outputs": [
    {
     "data": {
      "text/plain": [
       "count    144.000000\n",
       "mean      99.673611\n",
       "std       14.226357\n",
       "min       70.000000\n",
       "25%       88.000000\n",
       "50%       98.000000\n",
       "75%      107.000000\n",
       "max      162.000000\n",
       "Name: Magnesium, dtype: float64"
      ]
     },
     "execution_count": 32,
     "metadata": {},
     "output_type": "execute_result"
    }
   ],
   "source": [
    "w.Magnesium.describe()"
   ]
  },
  {
   "cell_type": "code",
   "execution_count": 33,
   "metadata": {},
   "outputs": [
    {
     "data": {
      "text/plain": [
       "19.0"
      ]
     },
     "execution_count": 33,
     "metadata": {},
     "output_type": "execute_result"
    }
   ],
   "source": [
    "IQR = 107.000000 - 88.000000\n",
    "IQR"
   ]
  },
  {
   "cell_type": "code",
   "execution_count": 34,
   "metadata": {},
   "outputs": [
    {
     "data": {
      "text/plain": [
       "135.5"
      ]
     },
     "execution_count": 34,
     "metadata": {},
     "output_type": "execute_result"
    }
   ],
   "source": [
    "#Calculation of upper fence\n",
    "upper_fence = 107.000000 + (1.5*IQR)\n",
    "upper_fence"
   ]
  },
  {
   "cell_type": "code",
   "execution_count": 35,
   "metadata": {},
   "outputs": [],
   "source": [
    "index=w[w.Magnesium>135.5].index\n",
    "w = w.drop(index,axis=0)"
   ]
  },
  {
   "cell_type": "code",
   "execution_count": 36,
   "metadata": {},
   "outputs": [
    {
     "data": {
      "text/plain": [
       "<AxesSubplot:>"
      ]
     },
     "execution_count": 36,
     "metadata": {},
     "output_type": "execute_result"
    },
    {
     "data": {
      "image/png": "[encoded data removed]",
      "text/plain": [
       "<Figure size 432x288 with 1 Axes>"
      ]
     },
     "metadata": {
      "needs_background": "light"
     },
     "output_type": "display_data"
    }
   ],
   "source": [
    "w.Phenols.plot(kind='box')"
   ]
  },
  {
   "cell_type": "code",
   "execution_count": 37,
   "metadata": {},
   "outputs": [
    {
     "data": {
      "text/plain": [
       "<AxesSubplot:>"
      ]
     },
     "execution_count": 37,
     "metadata": {},
     "output_type": "execute_result"
    },
    {
     "data": {
      "image/png": "[encoded data removed]",
      "text/plain": [
       "<Figure size 432x288 with 1 Axes>"
      ]
     },
     "metadata": {
      "needs_background": "light"
     },
     "output_type": "display_data"
    }
   ],
   "source": [
    "w.Flavanoids.plot(kind='box')"
   ]
  },
  {
   "cell_type": "code",
   "execution_count": 38,
   "metadata": {},
   "outputs": [
    {
     "data": {
      "text/plain": [
       "<AxesSubplot:>"
      ]
     },
     "execution_count": 38,
     "metadata": {},
     "output_type": "execute_result"
    },
    {
     "data": {
      "image/png": "[encoded data removed]",
      "text/plain": [
       "<Figure size 432x288 with 1 Axes>"
      ]
     },
     "metadata": {
      "needs_background": "light"
     },
     "output_type": "display_data"
    }
   ],
   "source": [
    "w.Nonflavanoids.plot(kind='box')"
   ]
  },
  {
   "cell_type": "code",
   "execution_count": 39,
   "metadata": {},
   "outputs": [
    {
     "data": {
      "text/plain": [
       "<AxesSubplot:>"
      ]
     },
     "execution_count": 39,
     "metadata": {},
     "output_type": "execute_result"
    },
    {
     "data": {
      "image/png": "[encoded data removed]",
      "text/plain": [
       "<Figure size 432x288 with 1 Axes>"
      ]
     },
     "metadata": {
      "needs_background": "light"
     },
     "output_type": "display_data"
    }
   ],
   "source": [
    "w.Proanthocyanins.plot(kind='box')"
   ]
  },
  {
   "cell_type": "code",
   "execution_count": 40,
   "metadata": {},
   "outputs": [
    {
     "data": {
      "text/plain": [
       "count    141.000000\n",
       "mean       1.584043\n",
       "std        0.537644\n",
       "min        0.410000\n",
       "25%        1.250000\n",
       "50%        1.560000\n",
       "75%        1.950000\n",
       "max        2.960000\n",
       "Name: Proanthocyanins, dtype: float64"
      ]
     },
     "execution_count": 40,
     "metadata": {},
     "output_type": "execute_result"
    }
   ],
   "source": [
    "w.Proanthocyanins.describe()"
   ]
  },
  {
   "cell_type": "code",
   "execution_count": 41,
   "metadata": {},
   "outputs": [
    {
     "data": {
      "text/plain": [
       "0.7"
      ]
     },
     "execution_count": 41,
     "metadata": {},
     "output_type": "execute_result"
    }
   ],
   "source": [
    "IQR = 1.950000 - 1.250000\n",
    "IQR"
   ]
  },
  {
   "cell_type": "code",
   "execution_count": 42,
   "metadata": {},
   "outputs": [
    {
     "data": {
      "text/plain": [
       "3.0"
      ]
     },
     "execution_count": 42,
     "metadata": {},
     "output_type": "execute_result"
    }
   ],
   "source": [
    "#Calculation of upper fence\n",
    "upper_fence = 1.950000 + (1.5*IQR)\n",
    "upper_fence"
   ]
  },
  {
   "cell_type": "code",
   "execution_count": 43,
   "metadata": {},
   "outputs": [],
   "source": [
    "index=w[w.Proanthocyanins>3.0].index\n",
    "w = w.drop(index,axis=0)"
   ]
  },
  {
   "cell_type": "code",
   "execution_count": 44,
   "metadata": {},
   "outputs": [
    {
     "data": {
      "text/plain": [
       "<AxesSubplot:>"
      ]
     },
     "execution_count": 44,
     "metadata": {},
     "output_type": "execute_result"
    },
    {
     "data": {
      "image/png": "[encoded data removed]",
      "text/plain": [
       "<Figure size 432x288 with 1 Axes>"
      ]
     },
     "metadata": {
      "needs_background": "light"
     },
     "output_type": "display_data"
    }
   ],
   "source": [
    "w.Color.plot(kind='box')"
   ]
  },
  {
   "cell_type": "code",
   "execution_count": 45,
   "metadata": {},
   "outputs": [
    {
     "data": {
      "text/plain": [
       "count    141.000000\n",
       "mean       4.975957\n",
       "std        2.250456\n",
       "min        1.280000\n",
       "25%        3.250000\n",
       "50%        4.680000\n",
       "75%        6.000000\n",
       "max       13.000000\n",
       "Name: Color, dtype: float64"
      ]
     },
     "execution_count": 45,
     "metadata": {},
     "output_type": "execute_result"
    }
   ],
   "source": [
    "w.Color.describe()"
   ]
  },
  {
   "cell_type": "code",
   "execution_count": 46,
   "metadata": {},
   "outputs": [
    {
     "data": {
      "text/plain": [
       "2.75"
      ]
     },
     "execution_count": 46,
     "metadata": {},
     "output_type": "execute_result"
    }
   ],
   "source": [
    "IQR = 6.000000 - 3.250000\n",
    "IQR"
   ]
  },
  {
   "cell_type": "code",
   "execution_count": 47,
   "metadata": {},
   "outputs": [
    {
     "data": {
      "text/plain": [
       "10.125"
      ]
     },
     "execution_count": 47,
     "metadata": {},
     "output_type": "execute_result"
    }
   ],
   "source": [
    "#Calculation of upper fence\n",
    "upper_fence = 6.000000 + (1.5*IQR)\n",
    "upper_fence"
   ]
  },
  {
   "cell_type": "code",
   "execution_count": 48,
   "metadata": {},
   "outputs": [],
   "source": [
    "index=w[w.Color>10.125].index\n",
    "w = w.drop(index,axis=0)"
   ]
  },
  {
   "cell_type": "code",
   "execution_count": 49,
   "metadata": {},
   "outputs": [
    {
     "data": {
      "text/plain": [
       "<AxesSubplot:>"
      ]
     },
     "execution_count": 49,
     "metadata": {},
     "output_type": "execute_result"
    },
    {
     "data": {
      "image/png": "[encoded data removed]",
      "text/plain": [
       "<Figure size 432x288 with 1 Axes>"
      ]
     },
     "metadata": {
      "needs_background": "light"
     },
     "output_type": "display_data"
    }
   ],
   "source": [
    "w.Hue.plot(kind='box')"
   ]
  },
  {
   "cell_type": "code",
   "execution_count": 50,
   "metadata": {},
   "outputs": [
    {
     "data": {
      "text/plain": [
       "count    136.000000\n",
       "mean       1.005559\n",
       "std        0.210596\n",
       "min        0.550000\n",
       "25%        0.880000\n",
       "50%        1.035000\n",
       "75%        1.135000\n",
       "max        1.710000\n",
       "Name: Hue, dtype: float64"
      ]
     },
     "execution_count": 50,
     "metadata": {},
     "output_type": "execute_result"
    }
   ],
   "source": [
    "w.Hue.describe()"
   ]
  },
  {
   "cell_type": "code",
   "execution_count": 51,
   "metadata": {},
   "outputs": [
    {
     "data": {
      "text/plain": [
       "0.255"
      ]
     },
     "execution_count": 51,
     "metadata": {},
     "output_type": "execute_result"
    }
   ],
   "source": [
    "IQR = 1.135000 - 0.880000\n",
    "IQR"
   ]
  },
  {
   "cell_type": "code",
   "execution_count": 52,
   "metadata": {},
   "outputs": [
    {
     "data": {
      "text/plain": [
       "1.5175"
      ]
     },
     "execution_count": 52,
     "metadata": {},
     "output_type": "execute_result"
    }
   ],
   "source": [
    "#Calculation of upper fence\n",
    "upper_fence = 1.135000 + (1.5*IQR)\n",
    "upper_fence"
   ]
  },
  {
   "cell_type": "code",
   "execution_count": 53,
   "metadata": {},
   "outputs": [],
   "source": [
    "index=w[w.Hue>1.5175].index\n",
    "w = w.drop(index,axis=0)"
   ]
  },
  {
   "cell_type": "code",
   "execution_count": 54,
   "metadata": {},
   "outputs": [
    {
     "data": {
      "text/plain": [
       "<AxesSubplot:>"
      ]
     },
     "execution_count": 54,
     "metadata": {},
     "output_type": "execute_result"
    },
    {
     "data": {
      "image/png": "[encoded data removed]",
      "text/plain": [
       "<Figure size 432x288 with 1 Axes>"
      ]
     },
     "metadata": {
      "needs_background": "light"
     },
     "output_type": "display_data"
    }
   ],
   "source": [
    "w.Dilution.plot(kind='box')"
   ]
  },
  {
   "cell_type": "code",
   "execution_count": 55,
   "metadata": {},
   "outputs": [
    {
     "data": {
      "text/plain": [
       "<AxesSubplot:>"
      ]
     },
     "execution_count": 55,
     "metadata": {},
     "output_type": "execute_result"
    },
    {
     "data": {
      "image/png": "[encoded data removed]",
      "text/plain": [
       "<Figure size 432x288 with 1 Axes>"
      ]
     },
     "metadata": {
      "needs_background": "light"
     },
     "output_type": "display_data"
    }
   ],
   "source": [
    "w.Proline.plot(kind='box')"
   ]
  },
  {
   "cell_type": "code",
   "execution_count": 56,
   "metadata": {},
   "outputs": [
    {
     "name": "stderr",
     "output_type": "stream",
     "text": [
      "C:\\Users\\G Saarika\\anaconda3\\lib\\site-packages\\seaborn\\distributions.py:2551: FutureWarning: `distplot` is a deprecated function and will be removed in a future version. Please adapt your code to use either `displot` (a figure-level function with similar flexibility) or `histplot` (an axes-level function for histograms).\n",
      "  warnings.warn(msg, FutureWarning)\n"
     ]
    },
    {
     "data": {
      "text/plain": [
       "<AxesSubplot:xlabel='Alcohol', ylabel='Density'>"
      ]
     },
     "execution_count": 56,
     "metadata": {},
     "output_type": "execute_result"
    },
    {
     "data": {
      "image/png": "[encoded data removed]",
      "text/plain": [
       "<Figure size 432x288 with 1 Axes>"
      ]
     },
     "metadata": {
      "needs_background": "light"
     },
     "output_type": "display_data"
    }
   ],
   "source": [
    "#To check whether the distribution is normal\n",
    "sns.distplot(w['Alcohol'])"
   ]
  },
  {
   "cell_type": "code",
   "execution_count": 57,
   "metadata": {},
   "outputs": [
    {
     "name": "stderr",
     "output_type": "stream",
     "text": [
      "C:\\Users\\G Saarika\\anaconda3\\lib\\site-packages\\seaborn\\distributions.py:2551: FutureWarning: `distplot` is a deprecated function and will be removed in a future version. Please adapt your code to use either `displot` (a figure-level function with similar flexibility) or `histplot` (an axes-level function for histograms).\n",
      "  warnings.warn(msg, FutureWarning)\n"
     ]
    },
    {
     "data": {
      "text/plain": [
       "<AxesSubplot:xlabel='Malic', ylabel='Density'>"
      ]
     },
     "execution_count": 57,
     "metadata": {},
     "output_type": "execute_result"
    },
    {
     "data": {
      "image/png": "[encoded data removed]",
      "text/plain": [
       "<Figure size 432x288 with 1 Axes>"
      ]
     },
     "metadata": {
      "needs_background": "light"
     },
     "output_type": "display_data"
    }
   ],
   "source": [
    "sns.distplot(w['Malic'])"
   ]
  },
  {
   "cell_type": "code",
   "execution_count": 58,
   "metadata": {},
   "outputs": [
    {
     "name": "stderr",
     "output_type": "stream",
     "text": [
      "C:\\Users\\G Saarika\\anaconda3\\lib\\site-packages\\seaborn\\distributions.py:2551: FutureWarning: `distplot` is a deprecated function and will be removed in a future version. Please adapt your code to use either `displot` (a figure-level function with similar flexibility) or `histplot` (an axes-level function for histograms).\n",
      "  warnings.warn(msg, FutureWarning)\n"
     ]
    },
    {
     "data": {
      "text/plain": [
       "<AxesSubplot:xlabel='Ash', ylabel='Density'>"
      ]
     },
     "execution_count": 58,
     "metadata": {},
     "output_type": "execute_result"
    },
    {
     "data": {
      "image/png": "[encoded data removed]",
      "text/plain": [
       "<Figure size 432x288 with 1 Axes>"
      ]
     },
     "metadata": {
      "needs_background": "light"
     },
     "output_type": "display_data"
    }
   ],
   "source": [
    "sns.distplot(w['Ash'])"
   ]
  },
  {
   "cell_type": "code",
   "execution_count": 59,
   "metadata": {},
   "outputs": [
    {
     "name": "stderr",
     "output_type": "stream",
     "text": [
      "C:\\Users\\G Saarika\\anaconda3\\lib\\site-packages\\seaborn\\distributions.py:2551: FutureWarning: `distplot` is a deprecated function and will be removed in a future version. Please adapt your code to use either `displot` (a figure-level function with similar flexibility) or `histplot` (an axes-level function for histograms).\n",
      "  warnings.warn(msg, FutureWarning)\n"
     ]
    },
    {
     "data": {
      "text/plain": [
       "<AxesSubplot:xlabel='Alcalinity', ylabel='Density'>"
      ]
     },
     "execution_count": 59,
     "metadata": {},
     "output_type": "execute_result"
    },
    {
     "data": {
      "image/png": "[encoded data removed]",
      "text/plain": [
       "<Figure size 432x288 with 1 Axes>"
      ]
     },
     "metadata": {
      "needs_background": "light"
     },
     "output_type": "display_data"
    }
   ],
   "source": [
    "sns.distplot(w['Alcalinity'])"
   ]
  },
  {
   "cell_type": "code",
   "execution_count": 60,
   "metadata": {},
   "outputs": [
    {
     "name": "stderr",
     "output_type": "stream",
     "text": [
      "C:\\Users\\G Saarika\\anaconda3\\lib\\site-packages\\seaborn\\distributions.py:2551: FutureWarning: `distplot` is a deprecated function and will be removed in a future version. Please adapt your code to use either `displot` (a figure-level function with similar flexibility) or `histplot` (an axes-level function for histograms).\n",
      "  warnings.warn(msg, FutureWarning)\n"
     ]
    },
    {
     "data": {
      "text/plain": [
       "<AxesSubplot:xlabel='Magnesium', ylabel='Density'>"
      ]
     },
     "execution_count": 60,
     "metadata": {},
     "output_type": "execute_result"
    },
    {
     "data": {
      "image/png": "[encoded data removed]",
      "text/plain": [
       "<Figure size 432x288 with 1 Axes>"
      ]
     },
     "metadata": {
      "needs_background": "light"
     },
     "output_type": "display_data"
    }
   ],
   "source": [
    "sns.distplot(w['Magnesium'])"
   ]
  },
  {
   "cell_type": "code",
   "execution_count": 61,
   "metadata": {},
   "outputs": [
    {
     "name": "stderr",
     "output_type": "stream",
     "text": [
      "C:\\Users\\G Saarika\\anaconda3\\lib\\site-packages\\seaborn\\distributions.py:2551: FutureWarning: `distplot` is a deprecated function and will be removed in a future version. Please adapt your code to use either `displot` (a figure-level function with similar flexibility) or `histplot` (an axes-level function for histograms).\n",
      "  warnings.warn(msg, FutureWarning)\n"
     ]
    },
    {
     "data": {
      "text/plain": [
       "<AxesSubplot:xlabel='Phenols', ylabel='Density'>"
      ]
     },
     "execution_count": 61,
     "metadata": {},
     "output_type": "execute_result"
    },
    {
     "data": {
      "image/png": "[encoded data removed]",
      "text/plain": [
       "<Figure size 432x288 with 1 Axes>"
      ]
     },
     "metadata": {
      "needs_background": "light"
     },
     "output_type": "display_data"
    }
   ],
   "source": [
    "sns.distplot(w['Phenols'])"
   ]
  },
  {
   "cell_type": "code",
   "execution_count": 62,
   "metadata": {},
   "outputs": [
    {
     "name": "stderr",
     "output_type": "stream",
     "text": [
      "C:\\Users\\G Saarika\\anaconda3\\lib\\site-packages\\seaborn\\distributions.py:2551: FutureWarning: `distplot` is a deprecated function and will be removed in a future version. Please adapt your code to use either `displot` (a figure-level function with similar flexibility) or `histplot` (an axes-level function for histograms).\n",
      "  warnings.warn(msg, FutureWarning)\n"
     ]
    },
    {
     "data": {
      "text/plain": [
       "<AxesSubplot:xlabel='Flavanoids', ylabel='Density'>"
      ]
     },
     "execution_count": 62,
     "metadata": {},
     "output_type": "execute_result"
    },
    {
     "data": {
      "image/png": "[encoded data removed]",
      "text/plain": [
       "<Figure size 432x288 with 1 Axes>"
      ]
     },
     "metadata": {
      "needs_background": "light"
     },
     "output_type": "display_data"
    }
   ],
   "source": [
    "sns.distplot(w['Flavanoids'])"
   ]
  },
  {
   "cell_type": "code",
   "execution_count": 63,
   "metadata": {},
   "outputs": [
    {
     "name": "stderr",
     "output_type": "stream",
     "text": [
      "C:\\Users\\G Saarika\\anaconda3\\lib\\site-packages\\seaborn\\distributions.py:2551: FutureWarning: `distplot` is a deprecated function and will be removed in a future version. Please adapt your code to use either `displot` (a figure-level function with similar flexibility) or `histplot` (an axes-level function for histograms).\n",
      "  warnings.warn(msg, FutureWarning)\n"
     ]
    },
    {
     "data": {
      "text/plain": [
       "<AxesSubplot:xlabel='Nonflavanoids', ylabel='Density'>"
      ]
     },
     "execution_count": 63,
     "metadata": {},
     "output_type": "execute_result"
    },
    {
     "data": {
      "image/png": "[encoded data removed]",
      "text/plain": [
       "<Figure size 432x288 with 1 Axes>"
      ]
     },
     "metadata": {
      "needs_background": "light"
     },
     "output_type": "display_data"
    }
   ],
   "source": [
    "sns.distplot(w['Nonflavanoids'])"
   ]
  },
  {
   "cell_type": "code",
   "execution_count": 64,
   "metadata": {},
   "outputs": [
    {
     "name": "stderr",
     "output_type": "stream",
     "text": [
      "C:\\Users\\G Saarika\\anaconda3\\lib\\site-packages\\seaborn\\distributions.py:2551: FutureWarning: `distplot` is a deprecated function and will be removed in a future version. Please adapt your code to use either `displot` (a figure-level function with similar flexibility) or `histplot` (an axes-level function for histograms).\n",
      "  warnings.warn(msg, FutureWarning)\n"
     ]
    },
    {
     "data": {
      "text/plain": [
       "<AxesSubplot:xlabel='Proanthocyanins', ylabel='Density'>"
      ]
     },
     "execution_count": 64,
     "metadata": {},
     "output_type": "execute_result"
    },
    {
     "data": {
      "image/png": "[encoded data removed]",
      "text/plain": [
       "<Figure size 432x288 with 1 Axes>"
      ]
     },
     "metadata": {
      "needs_background": "light"
     },
     "output_type": "display_data"
    }
   ],
   "source": [
    "sns.distplot(w['Proanthocyanins'])"
   ]
  },
  {
   "cell_type": "code",
   "execution_count": 65,
   "metadata": {},
   "outputs": [
    {
     "name": "stderr",
     "output_type": "stream",
     "text": [
      "C:\\Users\\G Saarika\\anaconda3\\lib\\site-packages\\seaborn\\distributions.py:2551: FutureWarning: `distplot` is a deprecated function and will be removed in a future version. Please adapt your code to use either `displot` (a figure-level function with similar flexibility) or `histplot` (an axes-level function for histograms).\n",
      "  warnings.warn(msg, FutureWarning)\n"
     ]
    },
    {
     "data": {
      "text/plain": [
       "<AxesSubplot:xlabel='Color', ylabel='Density'>"
      ]
     },
     "execution_count": 65,
     "metadata": {},
     "output_type": "execute_result"
    },
    {
     "data": {
      "image/png": "[encoded data removed]",
      "text/plain": [
       "<Figure size 432x288 with 1 Axes>"
      ]
     },
     "metadata": {
      "needs_background": "light"
     },
     "output_type": "display_data"
    }
   ],
   "source": [
    "sns.distplot(w['Color'])"
   ]
  },
  {
   "cell_type": "code",
   "execution_count": 66,
   "metadata": {},
   "outputs": [
    {
     "name": "stderr",
     "output_type": "stream",
     "text": [
      "C:\\Users\\G Saarika\\anaconda3\\lib\\site-packages\\seaborn\\distributions.py:2551: FutureWarning: `distplot` is a deprecated function and will be removed in a future version. Please adapt your code to use either `displot` (a figure-level function with similar flexibility) or `histplot` (an axes-level function for histograms).\n",
      "  warnings.warn(msg, FutureWarning)\n"
     ]
    },
    {
     "data": {
      "text/plain": [
       "<AxesSubplot:xlabel='Hue', ylabel='Density'>"
      ]
     },
     "execution_count": 66,
     "metadata": {},
     "output_type": "execute_result"
    },
    {
     "data": {
      "image/png": "[encoded data removed]",
      "text/plain": [
       "<Figure size 432x288 with 1 Axes>"
      ]
     },
     "metadata": {
      "needs_background": "light"
     },
     "output_type": "display_data"
    }
   ],
   "source": [
    "sns.distplot(w['Hue'])"
   ]
  },
  {
   "cell_type": "code",
   "execution_count": 67,
   "metadata": {},
   "outputs": [
    {
     "name": "stderr",
     "output_type": "stream",
     "text": [
      "C:\\Users\\G Saarika\\anaconda3\\lib\\site-packages\\seaborn\\distributions.py:2551: FutureWarning: `distplot` is a deprecated function and will be removed in a future version. Please adapt your code to use either `displot` (a figure-level function with similar flexibility) or `histplot` (an axes-level function for histograms).\n",
      "  warnings.warn(msg, FutureWarning)\n"
     ]
    },
    {
     "data": {
      "text/plain": [
       "<AxesSubplot:xlabel='Dilution', ylabel='Density'>"
      ]
     },
     "execution_count": 67,
     "metadata": {},
     "output_type": "execute_result"
    },
    {
     "data": {
      "image/png": "[encoded data removed]",
      "text/plain": [
       "<Figure size 432x288 with 1 Axes>"
      ]
     },
     "metadata": {
      "needs_background": "light"
     },
     "output_type": "display_data"
    }
   ],
   "source": [
    "sns.distplot(w['Dilution'])"
   ]
  },
  {
   "cell_type": "code",
   "execution_count": 68,
   "metadata": {},
   "outputs": [
    {
     "name": "stderr",
     "output_type": "stream",
     "text": [
      "C:\\Users\\G Saarika\\anaconda3\\lib\\site-packages\\seaborn\\distributions.py:2551: FutureWarning: `distplot` is a deprecated function and will be removed in a future version. Please adapt your code to use either `displot` (a figure-level function with similar flexibility) or `histplot` (an axes-level function for histograms).\n",
      "  warnings.warn(msg, FutureWarning)\n"
     ]
    },
    {
     "data": {
      "text/plain": [
       "<AxesSubplot:xlabel='Proline', ylabel='Density'>"
      ]
     },
     "execution_count": 68,
     "metadata": {},
     "output_type": "execute_result"
    },
    {
     "data": {
      "image/png": "[encoded data removed]",
      "text/plain": [
       "<Figure size 432x288 with 1 Axes>"
      ]
     },
     "metadata": {
      "needs_background": "light"
     },
     "output_type": "display_data"
    }
   ],
   "source": [
    "sns.distplot(w['Proline'])"
   ]
  },
  {
   "cell_type": "markdown",
   "metadata": {},
   "source": [
    "# Hierarchical Clustering on Original Data"
   ]
  },
  {
   "cell_type": "code",
   "execution_count": 69,
   "metadata": {},
   "outputs": [],
   "source": [
    "import scipy.cluster.hierarchy as sch\n",
    "from sklearn.cluster import AgglomerativeClustering\n",
    "from scipy import stats"
   ]
  },
  {
   "cell_type": "code",
   "execution_count": 70,
   "metadata": {},
   "outputs": [],
   "source": [
    "# Normalization function \n",
    "def norm_func(i):\n",
    "    x = (i-i.min())/(i.max()-i.min())\n",
    "    return (x)\n",
    "# Standardization function \n",
    "def std_func(i):\n",
    "    x = (i-i.mean())/(i.std())\n",
    "    return (x)"
   ]
  },
  {
   "cell_type": "code",
   "execution_count": 71,
   "metadata": {},
   "outputs": [
    {
     "data": {
      "text/html": [
       "<div>\n",
       "<style scoped>\n",
       "    .dataframe tbody tr th:only-of-type {\n",
       "        vertical-align: middle;\n",
       "    }\n",
       "\n",
       "    .dataframe tbody tr th {\n",
       "        vertical-align: top;\n",
       "    }\n",
       "\n",
       "    .dataframe thead th {\n",
       "        text-align: right;\n",
       "    }\n",
       "</style>\n",
       "<table border=\"1\" class=\"dataframe\">\n",
       "  <thead>\n",
       "    <tr style=\"text-align: right;\">\n",
       "      <th></th>\n",
       "      <th>Alcohol</th>\n",
       "      <th>Malic</th>\n",
       "      <th>Ash</th>\n",
       "      <th>Alcalinity</th>\n",
       "      <th>Magnesium</th>\n",
       "      <th>Phenols</th>\n",
       "      <th>Flavanoids</th>\n",
       "      <th>Nonflavanoids</th>\n",
       "      <th>Proanthocyanins</th>\n",
       "      <th>Color</th>\n",
       "      <th>Hue</th>\n",
       "      <th>Dilution</th>\n",
       "      <th>Proline</th>\n",
       "    </tr>\n",
       "  </thead>\n",
       "  <tbody>\n",
       "    <tr>\n",
       "      <th>0</th>\n",
       "      <td>1.468751</td>\n",
       "      <td>-0.348245</td>\n",
       "      <td>0.301018</td>\n",
       "      <td>-1.114554</td>\n",
       "      <td>2.289620</td>\n",
       "      <td>0.713767</td>\n",
       "      <td>0.935883</td>\n",
       "      <td>-0.566718</td>\n",
       "      <td>1.348575</td>\n",
       "      <td>0.456813</td>\n",
       "      <td>0.195981</td>\n",
       "      <td>1.825242</td>\n",
       "      <td>0.832450</td>\n",
       "    </tr>\n",
       "    <tr>\n",
       "      <th>1</th>\n",
       "      <td>0.215346</td>\n",
       "      <td>-0.245307</td>\n",
       "      <td>-0.853227</td>\n",
       "      <td>-2.584459</td>\n",
       "      <td>0.099732</td>\n",
       "      <td>0.476470</td>\n",
       "      <td>0.621176</td>\n",
       "      <td>-0.734680</td>\n",
       "      <td>-0.549033</td>\n",
       "      <td>-0.201583</td>\n",
       "      <td>0.245397</td>\n",
       "      <td>1.039156</td>\n",
       "      <td>0.788415</td>\n",
       "    </tr>\n",
       "    <tr>\n",
       "      <th>2</th>\n",
       "      <td>0.166670</td>\n",
       "      <td>0.607604</td>\n",
       "      <td>1.256255</td>\n",
       "      <td>-0.112346</td>\n",
       "      <td>0.180838</td>\n",
       "      <td>0.713767</td>\n",
       "      <td>1.124707</td>\n",
       "      <td>-0.398755</td>\n",
       "      <td>2.325561</td>\n",
       "      <td>0.477715</td>\n",
       "      <td>0.146564</td>\n",
       "      <td>0.691464</td>\n",
       "      <td>1.184732</td>\n",
       "    </tr>\n",
       "    <tr>\n",
       "      <th>3</th>\n",
       "      <td>1.639117</td>\n",
       "      <td>0.004684</td>\n",
       "      <td>0.579629</td>\n",
       "      <td>-0.713671</td>\n",
       "      <td>1.154122</td>\n",
       "      <td>2.374849</td>\n",
       "      <td>1.386963</td>\n",
       "      <td>-0.902642</td>\n",
       "      <td>1.141905</td>\n",
       "      <td>1.585493</td>\n",
       "      <td>-0.693509</td>\n",
       "      <td>1.114741</td>\n",
       "      <td>2.050758</td>\n",
       "    </tr>\n",
       "    <tr>\n",
       "      <th>4</th>\n",
       "      <td>0.264022</td>\n",
       "      <td>0.945828</td>\n",
       "      <td>2.052286</td>\n",
       "      <td>0.689420</td>\n",
       "      <td>1.559657</td>\n",
       "      <td>0.713767</td>\n",
       "      <td>0.547745</td>\n",
       "      <td>0.357076</td>\n",
       "      <td>0.465530</td>\n",
       "      <td>-0.232935</td>\n",
       "      <td>0.195981</td>\n",
       "      <td>0.328655</td>\n",
       "      <td>-0.136324</td>\n",
       "    </tr>\n",
       "    <tr>\n",
       "      <th>...</th>\n",
       "      <td>...</td>\n",
       "      <td>...</td>\n",
       "      <td>...</td>\n",
       "      <td>...</td>\n",
       "      <td>...</td>\n",
       "      <td>...</td>\n",
       "      <td>...</td>\n",
       "      <td>...</td>\n",
       "      <td>...</td>\n",
       "      <td>...</td>\n",
       "      <td>...</td>\n",
       "      <td>...</td>\n",
       "      <td>...</td>\n",
       "    </tr>\n",
       "    <tr>\n",
       "      <th>168</th>\n",
       "      <td>0.677767</td>\n",
       "      <td>0.931122</td>\n",
       "      <td>1.335858</td>\n",
       "      <td>1.858663</td>\n",
       "      <td>0.505266</td>\n",
       "      <td>-1.263711</td>\n",
       "      <td>-1.392946</td>\n",
       "      <td>0.357076</td>\n",
       "      <td>-0.060540</td>\n",
       "      <td>2.034874</td>\n",
       "      <td>-1.286502</td>\n",
       "      <td>-1.379569</td>\n",
       "      <td>-0.092289</td>\n",
       "    </tr>\n",
       "    <tr>\n",
       "      <th>170</th>\n",
       "      <td>-1.001553</td>\n",
       "      <td>1.592864</td>\n",
       "      <td>-0.136799</td>\n",
       "      <td>0.021281</td>\n",
       "      <td>-0.224696</td>\n",
       "      <td>-1.738306</td>\n",
       "      <td>-1.760104</td>\n",
       "      <td>0.441057</td>\n",
       "      <td>-1.582384</td>\n",
       "      <td>0.383658</td>\n",
       "      <td>-1.681831</td>\n",
       "      <td>-1.334218</td>\n",
       "      <td>-0.796853</td>\n",
       "    </tr>\n",
       "    <tr>\n",
       "      <th>171</th>\n",
       "      <td>-0.307920</td>\n",
       "      <td>0.651720</td>\n",
       "      <td>-0.296006</td>\n",
       "      <td>0.188316</td>\n",
       "      <td>-1.035766</td>\n",
       "      <td>-1.516829</td>\n",
       "      <td>-1.739123</td>\n",
       "      <td>1.112906</td>\n",
       "      <td>-1.751477</td>\n",
       "      <td>2.682819</td>\n",
       "      <td>-2.126575</td>\n",
       "      <td>-1.636559</td>\n",
       "      <td>-0.914280</td>\n",
       "    </tr>\n",
       "    <tr>\n",
       "      <th>172</th>\n",
       "      <td>1.383569</td>\n",
       "      <td>0.828185</td>\n",
       "      <td>0.500025</td>\n",
       "      <td>0.355351</td>\n",
       "      <td>-0.630231</td>\n",
       "      <td>-1.058054</td>\n",
       "      <td>-1.539809</td>\n",
       "      <td>0.776982</td>\n",
       "      <td>-0.624186</td>\n",
       "      <td>2.578312</td>\n",
       "      <td>-1.879495</td>\n",
       "      <td>-1.515623</td>\n",
       "      <td>-0.356500</td>\n",
       "    </tr>\n",
       "    <tr>\n",
       "      <th>176</th>\n",
       "      <td>0.178839</td>\n",
       "      <td>0.945828</td>\n",
       "      <td>0.062208</td>\n",
       "      <td>0.355351</td>\n",
       "      <td>1.721871</td>\n",
       "      <td>-1.105513</td>\n",
       "      <td>-1.560789</td>\n",
       "      <td>1.532812</td>\n",
       "      <td>-0.210845</td>\n",
       "      <td>2.369298</td>\n",
       "      <td>-1.978327</td>\n",
       "      <td>-1.651676</td>\n",
       "      <td>0.171922</td>\n",
       "    </tr>\n",
       "  </tbody>\n",
       "</table>\n",
       "<p>135 rows × 13 columns</p>\n",
       "</div>"
      ],
      "text/plain": [
       "      Alcohol     Malic       Ash  Alcalinity  Magnesium   Phenols  \\\n",
       "0    1.468751 -0.348245  0.301018   -1.114554   2.289620  0.713767   \n",
       "1    0.215346 -0.245307 -0.853227   -2.584459   0.099732  0.476470   \n",
       "2    0.166670  0.607604  1.256255   -0.112346   0.180838  0.713767   \n",
       "3    1.639117  0.004684  0.579629   -0.713671   1.154122  2.374849   \n",
       "4    0.264022  0.945828  2.052286    0.689420   1.559657  0.713767   \n",
       "..        ...       ...       ...         ...        ...       ...   \n",
       "168  0.677767  0.931122  1.335858    1.858663   0.505266 -1.263711   \n",
       "170 -1.001553  1.592864 -0.136799    0.021281  -0.224696 -1.738306   \n",
       "171 -0.307920  0.651720 -0.296006    0.188316  -1.035766 -1.516829   \n",
       "172  1.383569  0.828185  0.500025    0.355351  -0.630231 -1.058054   \n",
       "176  0.178839  0.945828  0.062208    0.355351   1.721871 -1.105513   \n",
       "\n",
       "     Flavanoids  Nonflavanoids  Proanthocyanins     Color       Hue  Dilution  \\\n",
       "0      0.935883      -0.566718         1.348575  0.456813  0.195981  1.825242   \n",
       "1      0.621176      -0.734680        -0.549033 -0.201583  0.245397  1.039156   \n",
       "2      1.124707      -0.398755         2.325561  0.477715  0.146564  0.691464   \n",
       "3      1.386963      -0.902642         1.141905  1.585493 -0.693509  1.114741   \n",
       "4      0.547745       0.357076         0.465530 -0.232935  0.195981  0.328655   \n",
       "..          ...            ...              ...       ...       ...       ...   \n",
       "168   -1.392946       0.357076        -0.060540  2.034874 -1.286502 -1.379569   \n",
       "170   -1.760104       0.441057        -1.582384  0.383658 -1.681831 -1.334218   \n",
       "171   -1.739123       1.112906        -1.751477  2.682819 -2.126575 -1.636559   \n",
       "172   -1.539809       0.776982        -0.624186  2.578312 -1.879495 -1.515623   \n",
       "176   -1.560789       1.532812        -0.210845  2.369298 -1.978327 -1.651676   \n",
       "\n",
       "      Proline  \n",
       "0    0.832450  \n",
       "1    0.788415  \n",
       "2    1.184732  \n",
       "3    2.050758  \n",
       "4   -0.136324  \n",
       "..        ...  \n",
       "168 -0.092289  \n",
       "170 -0.796853  \n",
       "171 -0.914280  \n",
       "172 -0.356500  \n",
       "176  0.171922  \n",
       "\n",
       "[135 rows x 13 columns]"
      ]
     },
     "execution_count": 71,
     "metadata": {},
     "output_type": "execute_result"
    }
   ],
   "source": [
    "df_norm = std_func(w.iloc[:,1:])\n",
    "df_norm"
   ]
  },
  {
   "cell_type": "code",
   "execution_count": 72,
   "metadata": {},
   "outputs": [
    {
     "data": {
      "image/png": "[encoded data removed]",
      "text/plain": [
       "<Figure size 432x288 with 1 Axes>"
      ]
     },
     "metadata": {
      "needs_background": "light"
     },
     "output_type": "display_data"
    }
   ],
   "source": [
    "# create dendrogram\n",
    "dendrogram = sch.dendrogram(sch.linkage(df_norm, method='complete'))"
   ]
  },
  {
   "cell_type": "code",
   "execution_count": 73,
   "metadata": {},
   "outputs": [],
   "source": [
    "# create clusters\n",
    "hc = AgglomerativeClustering(n_clusters=6, affinity = 'euclidean', linkage = 'complete')"
   ]
  },
  {
   "cell_type": "code",
   "execution_count": 74,
   "metadata": {},
   "outputs": [
    {
     "data": {
      "text/html": [
       "<div>\n",
       "<style scoped>\n",
       "    .dataframe tbody tr th:only-of-type {\n",
       "        vertical-align: middle;\n",
       "    }\n",
       "\n",
       "    .dataframe tbody tr th {\n",
       "        vertical-align: top;\n",
       "    }\n",
       "\n",
       "    .dataframe thead th {\n",
       "        text-align: right;\n",
       "    }\n",
       "</style>\n",
       "<table border=\"1\" class=\"dataframe\">\n",
       "  <thead>\n",
       "    <tr style=\"text-align: right;\">\n",
       "      <th></th>\n",
       "      <th>Clusters</th>\n",
       "    </tr>\n",
       "  </thead>\n",
       "  <tbody>\n",
       "    <tr>\n",
       "      <th>0</th>\n",
       "      <td>5</td>\n",
       "    </tr>\n",
       "    <tr>\n",
       "      <th>1</th>\n",
       "      <td>2</td>\n",
       "    </tr>\n",
       "    <tr>\n",
       "      <th>2</th>\n",
       "      <td>5</td>\n",
       "    </tr>\n",
       "    <tr>\n",
       "      <th>3</th>\n",
       "      <td>5</td>\n",
       "    </tr>\n",
       "    <tr>\n",
       "      <th>4</th>\n",
       "      <td>2</td>\n",
       "    </tr>\n",
       "    <tr>\n",
       "      <th>...</th>\n",
       "      <td>...</td>\n",
       "    </tr>\n",
       "    <tr>\n",
       "      <th>130</th>\n",
       "      <td>4</td>\n",
       "    </tr>\n",
       "    <tr>\n",
       "      <th>131</th>\n",
       "      <td>3</td>\n",
       "    </tr>\n",
       "    <tr>\n",
       "      <th>132</th>\n",
       "      <td>3</td>\n",
       "    </tr>\n",
       "    <tr>\n",
       "      <th>133</th>\n",
       "      <td>3</td>\n",
       "    </tr>\n",
       "    <tr>\n",
       "      <th>134</th>\n",
       "      <td>4</td>\n",
       "    </tr>\n",
       "  </tbody>\n",
       "</table>\n",
       "<p>135 rows × 1 columns</p>\n",
       "</div>"
      ],
      "text/plain": [
       "     Clusters\n",
       "0           5\n",
       "1           2\n",
       "2           5\n",
       "3           5\n",
       "4           2\n",
       "..        ...\n",
       "130         4\n",
       "131         3\n",
       "132         3\n",
       "133         3\n",
       "134         4\n",
       "\n",
       "[135 rows x 1 columns]"
      ]
     },
     "execution_count": 74,
     "metadata": {},
     "output_type": "execute_result"
    }
   ],
   "source": [
    "# save clusters for chart\n",
    "y_hc = hc.fit_predict(df_norm)\n",
    "Clusters=pd.DataFrame(y_hc,columns=['Clusters'])\n",
    "Clusters"
   ]
  },
  {
   "cell_type": "code",
   "execution_count": 75,
   "metadata": {},
   "outputs": [
    {
     "data": {
      "text/plain": [
       "0      5\n",
       "1      2\n",
       "2      5\n",
       "3      5\n",
       "4      2\n",
       "      ..\n",
       "130    4\n",
       "131    3\n",
       "132    3\n",
       "133    3\n",
       "134    4\n",
       "Length: 135, dtype: int64"
      ]
     },
     "execution_count": 75,
     "metadata": {},
     "output_type": "execute_result"
    }
   ],
   "source": [
    "w1=df_norm['h_clusterid']= pd.Series(y_hc)\n",
    "w1"
   ]
  },
  {
   "cell_type": "code",
   "execution_count": 76,
   "metadata": {},
   "outputs": [
    {
     "data": {
      "text/html": [
       "<div>\n",
       "<style scoped>\n",
       "    .dataframe tbody tr th:only-of-type {\n",
       "        vertical-align: middle;\n",
       "    }\n",
       "\n",
       "    .dataframe tbody tr th {\n",
       "        vertical-align: top;\n",
       "    }\n",
       "\n",
       "    .dataframe thead th {\n",
       "        text-align: right;\n",
       "    }\n",
       "</style>\n",
       "<table border=\"1\" class=\"dataframe\">\n",
       "  <thead>\n",
       "    <tr style=\"text-align: right;\">\n",
       "      <th></th>\n",
       "      <th>Malic</th>\n",
       "      <th>Ash</th>\n",
       "      <th>Alcalinity</th>\n",
       "      <th>Magnesium</th>\n",
       "      <th>Phenols</th>\n",
       "      <th>Flavanoids</th>\n",
       "      <th>Nonflavanoids</th>\n",
       "      <th>Proanthocyanins</th>\n",
       "      <th>Color</th>\n",
       "      <th>Hue</th>\n",
       "      <th>Dilution</th>\n",
       "      <th>Proline</th>\n",
       "      <th>h_clusterid</th>\n",
       "    </tr>\n",
       "    <tr>\n",
       "      <th>h_clusterid</th>\n",
       "      <th></th>\n",
       "      <th></th>\n",
       "      <th></th>\n",
       "      <th></th>\n",
       "      <th></th>\n",
       "      <th></th>\n",
       "      <th></th>\n",
       "      <th></th>\n",
       "      <th></th>\n",
       "      <th></th>\n",
       "      <th></th>\n",
       "      <th></th>\n",
       "      <th></th>\n",
       "    </tr>\n",
       "  </thead>\n",
       "  <tbody>\n",
       "    <tr>\n",
       "      <th>0.0</th>\n",
       "      <td>-0.290760</td>\n",
       "      <td>-0.312288</td>\n",
       "      <td>-0.088050</td>\n",
       "      <td>-0.103036</td>\n",
       "      <td>0.150725</td>\n",
       "      <td>0.077115</td>\n",
       "      <td>-0.017022</td>\n",
       "      <td>-0.266356</td>\n",
       "      <td>-0.551920</td>\n",
       "      <td>0.593555</td>\n",
       "      <td>-0.030718</td>\n",
       "      <td>-0.499281</td>\n",
       "      <td>0.0</td>\n",
       "    </tr>\n",
       "    <tr>\n",
       "      <th>1.0</th>\n",
       "      <td>-0.557796</td>\n",
       "      <td>-0.384138</td>\n",
       "      <td>0.345806</td>\n",
       "      <td>-0.630231</td>\n",
       "      <td>-0.381191</td>\n",
       "      <td>-0.215793</td>\n",
       "      <td>0.063141</td>\n",
       "      <td>0.095134</td>\n",
       "      <td>-0.733824</td>\n",
       "      <td>0.368231</td>\n",
       "      <td>0.188283</td>\n",
       "      <td>-0.613373</td>\n",
       "      <td>1.0</td>\n",
       "    </tr>\n",
       "    <tr>\n",
       "      <th>2.0</th>\n",
       "      <td>-0.299038</td>\n",
       "      <td>0.518395</td>\n",
       "      <td>-0.484962</td>\n",
       "      <td>0.430398</td>\n",
       "      <td>0.534273</td>\n",
       "      <td>0.705098</td>\n",
       "      <td>-0.408445</td>\n",
       "      <td>0.276203</td>\n",
       "      <td>0.179467</td>\n",
       "      <td>0.477272</td>\n",
       "      <td>0.576342</td>\n",
       "      <td>1.046416</td>\n",
       "      <td>2.0</td>\n",
       "    </tr>\n",
       "    <tr>\n",
       "      <th>3.0</th>\n",
       "      <td>0.431140</td>\n",
       "      <td>-0.198713</td>\n",
       "      <td>0.689420</td>\n",
       "      <td>-0.531100</td>\n",
       "      <td>-0.474478</td>\n",
       "      <td>-0.416190</td>\n",
       "      <td>-0.072162</td>\n",
       "      <td>-0.665937</td>\n",
       "      <td>-0.579551</td>\n",
       "      <td>-0.803322</td>\n",
       "      <td>-0.690904</td>\n",
       "      <td>-0.903516</td>\n",
       "      <td>3.0</td>\n",
       "    </tr>\n",
       "    <tr>\n",
       "      <th>4.0</th>\n",
       "      <td>-0.175982</td>\n",
       "      <td>-0.722451</td>\n",
       "      <td>0.369668</td>\n",
       "      <td>-0.375324</td>\n",
       "      <td>-0.364241</td>\n",
       "      <td>-0.331935</td>\n",
       "      <td>0.177116</td>\n",
       "      <td>-0.184005</td>\n",
       "      <td>-0.882374</td>\n",
       "      <td>-0.707628</td>\n",
       "      <td>-0.157249</td>\n",
       "      <td>-0.862276</td>\n",
       "      <td>4.0</td>\n",
       "    </tr>\n",
       "    <tr>\n",
       "      <th>5.0</th>\n",
       "      <td>-0.013364</td>\n",
       "      <td>0.159903</td>\n",
       "      <td>-0.988519</td>\n",
       "      <td>0.619553</td>\n",
       "      <td>1.100634</td>\n",
       "      <td>1.127091</td>\n",
       "      <td>-0.566718</td>\n",
       "      <td>1.106890</td>\n",
       "      <td>0.727820</td>\n",
       "      <td>0.324013</td>\n",
       "      <td>0.776669</td>\n",
       "      <td>1.080916</td>\n",
       "      <td>5.0</td>\n",
       "    </tr>\n",
       "  </tbody>\n",
       "</table>\n",
       "</div>"
      ],
      "text/plain": [
       "                Malic       Ash  Alcalinity  Magnesium   Phenols  Flavanoids  \\\n",
       "h_clusterid                                                                    \n",
       "0.0         -0.290760 -0.312288   -0.088050  -0.103036  0.150725    0.077115   \n",
       "1.0         -0.557796 -0.384138    0.345806  -0.630231 -0.381191   -0.215793   \n",
       "2.0         -0.299038  0.518395   -0.484962   0.430398  0.534273    0.705098   \n",
       "3.0          0.431140 -0.198713    0.689420  -0.531100 -0.474478   -0.416190   \n",
       "4.0         -0.175982 -0.722451    0.369668  -0.375324 -0.364241   -0.331935   \n",
       "5.0         -0.013364  0.159903   -0.988519   0.619553  1.100634    1.127091   \n",
       "\n",
       "             Nonflavanoids  Proanthocyanins     Color       Hue  Dilution  \\\n",
       "h_clusterid                                                                 \n",
       "0.0              -0.017022        -0.266356 -0.551920  0.593555 -0.030718   \n",
       "1.0               0.063141         0.095134 -0.733824  0.368231  0.188283   \n",
       "2.0              -0.408445         0.276203  0.179467  0.477272  0.576342   \n",
       "3.0              -0.072162        -0.665937 -0.579551 -0.803322 -0.690904   \n",
       "4.0               0.177116        -0.184005 -0.882374 -0.707628 -0.157249   \n",
       "5.0              -0.566718         1.106890  0.727820  0.324013  0.776669   \n",
       "\n",
       "              Proline  h_clusterid  \n",
       "h_clusterid                         \n",
       "0.0         -0.499281          0.0  \n",
       "1.0         -0.613373          1.0  \n",
       "2.0          1.046416          2.0  \n",
       "3.0         -0.903516          3.0  \n",
       "4.0         -0.862276          4.0  \n",
       "5.0          1.080916          5.0  "
      ]
     },
     "execution_count": 76,
     "metadata": {},
     "output_type": "execute_result"
    }
   ],
   "source": [
    "result=df_norm.iloc[:,1:].groupby(df_norm.h_clusterid).mean()\n",
    "result"
   ]
  },
  {
   "cell_type": "markdown",
   "metadata": {},
   "source": [
    "# Non Hierarchical Clustering on Original data"
   ]
  },
  {
   "cell_type": "code",
   "execution_count": 77,
   "metadata": {},
   "outputs": [],
   "source": [
    "import matplotlib.pylab as plt\n",
    "from sklearn.cluster import KMeans\n",
    "from scipy.spatial.distance import cdist "
   ]
  },
  {
   "cell_type": "code",
   "execution_count": 78,
   "metadata": {},
   "outputs": [
    {
     "data": {
      "text/html": [
       "<div>\n",
       "<style scoped>\n",
       "    .dataframe tbody tr th:only-of-type {\n",
       "        vertical-align: middle;\n",
       "    }\n",
       "\n",
       "    .dataframe tbody tr th {\n",
       "        vertical-align: top;\n",
       "    }\n",
       "\n",
       "    .dataframe thead th {\n",
       "        text-align: right;\n",
       "    }\n",
       "</style>\n",
       "<table border=\"1\" class=\"dataframe\">\n",
       "  <thead>\n",
       "    <tr style=\"text-align: right;\">\n",
       "      <th></th>\n",
       "      <th>Type</th>\n",
       "      <th>Alcohol</th>\n",
       "      <th>Malic</th>\n",
       "      <th>Ash</th>\n",
       "      <th>Alcalinity</th>\n",
       "      <th>Magnesium</th>\n",
       "      <th>Phenols</th>\n",
       "      <th>Flavanoids</th>\n",
       "      <th>Nonflavanoids</th>\n",
       "      <th>Proanthocyanins</th>\n",
       "      <th>Color</th>\n",
       "      <th>Hue</th>\n",
       "      <th>Dilution</th>\n",
       "    </tr>\n",
       "  </thead>\n",
       "  <tbody>\n",
       "    <tr>\n",
       "      <th>0</th>\n",
       "      <td>1</td>\n",
       "      <td>14.23</td>\n",
       "      <td>1.71</td>\n",
       "      <td>2.43</td>\n",
       "      <td>15.6</td>\n",
       "      <td>127</td>\n",
       "      <td>2.80</td>\n",
       "      <td>3.06</td>\n",
       "      <td>0.28</td>\n",
       "      <td>2.29</td>\n",
       "      <td>5.640000</td>\n",
       "      <td>1.04</td>\n",
       "      <td>3.92</td>\n",
       "    </tr>\n",
       "    <tr>\n",
       "      <th>1</th>\n",
       "      <td>1</td>\n",
       "      <td>13.20</td>\n",
       "      <td>1.78</td>\n",
       "      <td>2.14</td>\n",
       "      <td>11.2</td>\n",
       "      <td>100</td>\n",
       "      <td>2.65</td>\n",
       "      <td>2.76</td>\n",
       "      <td>0.26</td>\n",
       "      <td>1.28</td>\n",
       "      <td>4.380000</td>\n",
       "      <td>1.05</td>\n",
       "      <td>3.40</td>\n",
       "    </tr>\n",
       "    <tr>\n",
       "      <th>2</th>\n",
       "      <td>1</td>\n",
       "      <td>13.16</td>\n",
       "      <td>2.36</td>\n",
       "      <td>2.67</td>\n",
       "      <td>18.6</td>\n",
       "      <td>101</td>\n",
       "      <td>2.80</td>\n",
       "      <td>3.24</td>\n",
       "      <td>0.30</td>\n",
       "      <td>2.81</td>\n",
       "      <td>5.680000</td>\n",
       "      <td>1.03</td>\n",
       "      <td>3.17</td>\n",
       "    </tr>\n",
       "    <tr>\n",
       "      <th>3</th>\n",
       "      <td>1</td>\n",
       "      <td>14.37</td>\n",
       "      <td>1.95</td>\n",
       "      <td>2.50</td>\n",
       "      <td>16.8</td>\n",
       "      <td>113</td>\n",
       "      <td>3.85</td>\n",
       "      <td>3.49</td>\n",
       "      <td>0.24</td>\n",
       "      <td>2.18</td>\n",
       "      <td>7.800000</td>\n",
       "      <td>0.86</td>\n",
       "      <td>3.45</td>\n",
       "    </tr>\n",
       "    <tr>\n",
       "      <th>4</th>\n",
       "      <td>1</td>\n",
       "      <td>13.24</td>\n",
       "      <td>2.59</td>\n",
       "      <td>2.87</td>\n",
       "      <td>21.0</td>\n",
       "      <td>118</td>\n",
       "      <td>2.80</td>\n",
       "      <td>2.69</td>\n",
       "      <td>0.39</td>\n",
       "      <td>1.82</td>\n",
       "      <td>4.320000</td>\n",
       "      <td>1.04</td>\n",
       "      <td>2.93</td>\n",
       "    </tr>\n",
       "    <tr>\n",
       "      <th>...</th>\n",
       "      <td>...</td>\n",
       "      <td>...</td>\n",
       "      <td>...</td>\n",
       "      <td>...</td>\n",
       "      <td>...</td>\n",
       "      <td>...</td>\n",
       "      <td>...</td>\n",
       "      <td>...</td>\n",
       "      <td>...</td>\n",
       "      <td>...</td>\n",
       "      <td>...</td>\n",
       "      <td>...</td>\n",
       "      <td>...</td>\n",
       "    </tr>\n",
       "    <tr>\n",
       "      <th>168</th>\n",
       "      <td>3</td>\n",
       "      <td>13.58</td>\n",
       "      <td>2.58</td>\n",
       "      <td>2.69</td>\n",
       "      <td>24.5</td>\n",
       "      <td>105</td>\n",
       "      <td>1.55</td>\n",
       "      <td>0.84</td>\n",
       "      <td>0.39</td>\n",
       "      <td>1.54</td>\n",
       "      <td>8.660000</td>\n",
       "      <td>0.74</td>\n",
       "      <td>1.80</td>\n",
       "    </tr>\n",
       "    <tr>\n",
       "      <th>170</th>\n",
       "      <td>3</td>\n",
       "      <td>12.20</td>\n",
       "      <td>3.03</td>\n",
       "      <td>2.32</td>\n",
       "      <td>19.0</td>\n",
       "      <td>96</td>\n",
       "      <td>1.25</td>\n",
       "      <td>0.49</td>\n",
       "      <td>0.40</td>\n",
       "      <td>0.73</td>\n",
       "      <td>5.500000</td>\n",
       "      <td>0.66</td>\n",
       "      <td>1.83</td>\n",
       "    </tr>\n",
       "    <tr>\n",
       "      <th>171</th>\n",
       "      <td>3</td>\n",
       "      <td>12.77</td>\n",
       "      <td>2.39</td>\n",
       "      <td>2.28</td>\n",
       "      <td>19.5</td>\n",
       "      <td>86</td>\n",
       "      <td>1.39</td>\n",
       "      <td>0.51</td>\n",
       "      <td>0.48</td>\n",
       "      <td>0.64</td>\n",
       "      <td>9.899999</td>\n",
       "      <td>0.57</td>\n",
       "      <td>1.63</td>\n",
       "    </tr>\n",
       "    <tr>\n",
       "      <th>172</th>\n",
       "      <td>3</td>\n",
       "      <td>14.16</td>\n",
       "      <td>2.51</td>\n",
       "      <td>2.48</td>\n",
       "      <td>20.0</td>\n",
       "      <td>91</td>\n",
       "      <td>1.68</td>\n",
       "      <td>0.70</td>\n",
       "      <td>0.44</td>\n",
       "      <td>1.24</td>\n",
       "      <td>9.700000</td>\n",
       "      <td>0.62</td>\n",
       "      <td>1.71</td>\n",
       "    </tr>\n",
       "    <tr>\n",
       "      <th>176</th>\n",
       "      <td>3</td>\n",
       "      <td>13.17</td>\n",
       "      <td>2.59</td>\n",
       "      <td>2.37</td>\n",
       "      <td>20.0</td>\n",
       "      <td>120</td>\n",
       "      <td>1.65</td>\n",
       "      <td>0.68</td>\n",
       "      <td>0.53</td>\n",
       "      <td>1.46</td>\n",
       "      <td>9.300000</td>\n",
       "      <td>0.60</td>\n",
       "      <td>1.62</td>\n",
       "    </tr>\n",
       "  </tbody>\n",
       "</table>\n",
       "<p>135 rows × 13 columns</p>\n",
       "</div>"
      ],
      "text/plain": [
       "     Type  Alcohol  Malic   Ash  Alcalinity  Magnesium  Phenols  Flavanoids  \\\n",
       "0       1    14.23   1.71  2.43        15.6        127     2.80        3.06   \n",
       "1       1    13.20   1.78  2.14        11.2        100     2.65        2.76   \n",
       "2       1    13.16   2.36  2.67        18.6        101     2.80        3.24   \n",
       "3       1    14.37   1.95  2.50        16.8        113     3.85        3.49   \n",
       "4       1    13.24   2.59  2.87        21.0        118     2.80        2.69   \n",
       "..    ...      ...    ...   ...         ...        ...      ...         ...   \n",
       "168     3    13.58   2.58  2.69        24.5        105     1.55        0.84   \n",
       "170     3    12.20   3.03  2.32        19.0         96     1.25        0.49   \n",
       "171     3    12.77   2.39  2.28        19.5         86     1.39        0.51   \n",
       "172     3    14.16   2.51  2.48        20.0         91     1.68        0.70   \n",
       "176     3    13.17   2.59  2.37        20.0        120     1.65        0.68   \n",
       "\n",
       "     Nonflavanoids  Proanthocyanins     Color   Hue  Dilution  \n",
       "0             0.28             2.29  5.640000  1.04      3.92  \n",
       "1             0.26             1.28  4.380000  1.05      3.40  \n",
       "2             0.30             2.81  5.680000  1.03      3.17  \n",
       "3             0.24             2.18  7.800000  0.86      3.45  \n",
       "4             0.39             1.82  4.320000  1.04      2.93  \n",
       "..             ...              ...       ...   ...       ...  \n",
       "168           0.39             1.54  8.660000  0.74      1.80  \n",
       "170           0.40             0.73  5.500000  0.66      1.83  \n",
       "171           0.48             0.64  9.899999  0.57      1.63  \n",
       "172           0.44             1.24  9.700000  0.62      1.71  \n",
       "176           0.53             1.46  9.300000  0.60      1.62  \n",
       "\n",
       "[135 rows x 13 columns]"
      ]
     },
     "execution_count": 78,
     "metadata": {},
     "output_type": "execute_result"
    }
   ],
   "source": [
    "w2 = df_norm.fillna(0)\n",
    "w2 = w.iloc[:,0:13]\n",
    "w2"
   ]
  },
  {
   "cell_type": "code",
   "execution_count": 79,
   "metadata": {},
   "outputs": [
    {
     "data": {
      "text/html": [
       "<div>\n",
       "<style scoped>\n",
       "    .dataframe tbody tr th:only-of-type {\n",
       "        vertical-align: middle;\n",
       "    }\n",
       "\n",
       "    .dataframe tbody tr th {\n",
       "        vertical-align: top;\n",
       "    }\n",
       "\n",
       "    .dataframe thead th {\n",
       "        text-align: right;\n",
       "    }\n",
       "</style>\n",
       "<table border=\"1\" class=\"dataframe\">\n",
       "  <thead>\n",
       "    <tr style=\"text-align: right;\">\n",
       "      <th></th>\n",
       "      <th>Type</th>\n",
       "      <th>Alcohol</th>\n",
       "      <th>Malic</th>\n",
       "      <th>Ash</th>\n",
       "      <th>Alcalinity</th>\n",
       "      <th>Magnesium</th>\n",
       "      <th>Phenols</th>\n",
       "      <th>Flavanoids</th>\n",
       "      <th>Nonflavanoids</th>\n",
       "      <th>Proanthocyanins</th>\n",
       "      <th>Color</th>\n",
       "      <th>Hue</th>\n",
       "      <th>Dilution</th>\n",
       "      <th>Proline</th>\n",
       "      <th>clusterID</th>\n",
       "    </tr>\n",
       "  </thead>\n",
       "  <tbody>\n",
       "    <tr>\n",
       "      <th>0</th>\n",
       "      <td>1</td>\n",
       "      <td>14.23</td>\n",
       "      <td>1.71</td>\n",
       "      <td>2.43</td>\n",
       "      <td>15.6</td>\n",
       "      <td>127</td>\n",
       "      <td>2.80</td>\n",
       "      <td>3.06</td>\n",
       "      <td>0.28</td>\n",
       "      <td>2.29</td>\n",
       "      <td>5.640000</td>\n",
       "      <td>1.04</td>\n",
       "      <td>3.92</td>\n",
       "      <td>1065</td>\n",
       "      <td>1.0</td>\n",
       "    </tr>\n",
       "    <tr>\n",
       "      <th>1</th>\n",
       "      <td>1</td>\n",
       "      <td>13.20</td>\n",
       "      <td>1.78</td>\n",
       "      <td>2.14</td>\n",
       "      <td>11.2</td>\n",
       "      <td>100</td>\n",
       "      <td>2.65</td>\n",
       "      <td>2.76</td>\n",
       "      <td>0.26</td>\n",
       "      <td>1.28</td>\n",
       "      <td>4.380000</td>\n",
       "      <td>1.05</td>\n",
       "      <td>3.40</td>\n",
       "      <td>1050</td>\n",
       "      <td>1.0</td>\n",
       "    </tr>\n",
       "    <tr>\n",
       "      <th>2</th>\n",
       "      <td>1</td>\n",
       "      <td>13.16</td>\n",
       "      <td>2.36</td>\n",
       "      <td>2.67</td>\n",
       "      <td>18.6</td>\n",
       "      <td>101</td>\n",
       "      <td>2.80</td>\n",
       "      <td>3.24</td>\n",
       "      <td>0.30</td>\n",
       "      <td>2.81</td>\n",
       "      <td>5.680000</td>\n",
       "      <td>1.03</td>\n",
       "      <td>3.17</td>\n",
       "      <td>1185</td>\n",
       "      <td>1.0</td>\n",
       "    </tr>\n",
       "    <tr>\n",
       "      <th>3</th>\n",
       "      <td>1</td>\n",
       "      <td>14.37</td>\n",
       "      <td>1.95</td>\n",
       "      <td>2.50</td>\n",
       "      <td>16.8</td>\n",
       "      <td>113</td>\n",
       "      <td>3.85</td>\n",
       "      <td>3.49</td>\n",
       "      <td>0.24</td>\n",
       "      <td>2.18</td>\n",
       "      <td>7.800000</td>\n",
       "      <td>0.86</td>\n",
       "      <td>3.45</td>\n",
       "      <td>1480</td>\n",
       "      <td>2.0</td>\n",
       "    </tr>\n",
       "    <tr>\n",
       "      <th>4</th>\n",
       "      <td>1</td>\n",
       "      <td>13.24</td>\n",
       "      <td>2.59</td>\n",
       "      <td>2.87</td>\n",
       "      <td>21.0</td>\n",
       "      <td>118</td>\n",
       "      <td>2.80</td>\n",
       "      <td>2.69</td>\n",
       "      <td>0.39</td>\n",
       "      <td>1.82</td>\n",
       "      <td>4.320000</td>\n",
       "      <td>1.04</td>\n",
       "      <td>2.93</td>\n",
       "      <td>735</td>\n",
       "      <td>4.0</td>\n",
       "    </tr>\n",
       "    <tr>\n",
       "      <th>...</th>\n",
       "      <td>...</td>\n",
       "      <td>...</td>\n",
       "      <td>...</td>\n",
       "      <td>...</td>\n",
       "      <td>...</td>\n",
       "      <td>...</td>\n",
       "      <td>...</td>\n",
       "      <td>...</td>\n",
       "      <td>...</td>\n",
       "      <td>...</td>\n",
       "      <td>...</td>\n",
       "      <td>...</td>\n",
       "      <td>...</td>\n",
       "      <td>...</td>\n",
       "      <td>...</td>\n",
       "    </tr>\n",
       "    <tr>\n",
       "      <th>168</th>\n",
       "      <td>3</td>\n",
       "      <td>13.58</td>\n",
       "      <td>2.58</td>\n",
       "      <td>2.69</td>\n",
       "      <td>24.5</td>\n",
       "      <td>105</td>\n",
       "      <td>1.55</td>\n",
       "      <td>0.84</td>\n",
       "      <td>0.39</td>\n",
       "      <td>1.54</td>\n",
       "      <td>8.660000</td>\n",
       "      <td>0.74</td>\n",
       "      <td>1.80</td>\n",
       "      <td>750</td>\n",
       "      <td>NaN</td>\n",
       "    </tr>\n",
       "    <tr>\n",
       "      <th>170</th>\n",
       "      <td>3</td>\n",
       "      <td>12.20</td>\n",
       "      <td>3.03</td>\n",
       "      <td>2.32</td>\n",
       "      <td>19.0</td>\n",
       "      <td>96</td>\n",
       "      <td>1.25</td>\n",
       "      <td>0.49</td>\n",
       "      <td>0.40</td>\n",
       "      <td>0.73</td>\n",
       "      <td>5.500000</td>\n",
       "      <td>0.66</td>\n",
       "      <td>1.83</td>\n",
       "      <td>510</td>\n",
       "      <td>NaN</td>\n",
       "    </tr>\n",
       "    <tr>\n",
       "      <th>171</th>\n",
       "      <td>3</td>\n",
       "      <td>12.77</td>\n",
       "      <td>2.39</td>\n",
       "      <td>2.28</td>\n",
       "      <td>19.5</td>\n",
       "      <td>86</td>\n",
       "      <td>1.39</td>\n",
       "      <td>0.51</td>\n",
       "      <td>0.48</td>\n",
       "      <td>0.64</td>\n",
       "      <td>9.899999</td>\n",
       "      <td>0.57</td>\n",
       "      <td>1.63</td>\n",
       "      <td>470</td>\n",
       "      <td>NaN</td>\n",
       "    </tr>\n",
       "    <tr>\n",
       "      <th>172</th>\n",
       "      <td>3</td>\n",
       "      <td>14.16</td>\n",
       "      <td>2.51</td>\n",
       "      <td>2.48</td>\n",
       "      <td>20.0</td>\n",
       "      <td>91</td>\n",
       "      <td>1.68</td>\n",
       "      <td>0.70</td>\n",
       "      <td>0.44</td>\n",
       "      <td>1.24</td>\n",
       "      <td>9.700000</td>\n",
       "      <td>0.62</td>\n",
       "      <td>1.71</td>\n",
       "      <td>660</td>\n",
       "      <td>NaN</td>\n",
       "    </tr>\n",
       "    <tr>\n",
       "      <th>176</th>\n",
       "      <td>3</td>\n",
       "      <td>13.17</td>\n",
       "      <td>2.59</td>\n",
       "      <td>2.37</td>\n",
       "      <td>20.0</td>\n",
       "      <td>120</td>\n",
       "      <td>1.65</td>\n",
       "      <td>0.68</td>\n",
       "      <td>0.53</td>\n",
       "      <td>1.46</td>\n",
       "      <td>9.300000</td>\n",
       "      <td>0.60</td>\n",
       "      <td>1.62</td>\n",
       "      <td>840</td>\n",
       "      <td>NaN</td>\n",
       "    </tr>\n",
       "  </tbody>\n",
       "</table>\n",
       "<p>135 rows × 15 columns</p>\n",
       "</div>"
      ],
      "text/plain": [
       "     Type  Alcohol  Malic   Ash  Alcalinity  Magnesium  Phenols  Flavanoids  \\\n",
       "0       1    14.23   1.71  2.43        15.6        127     2.80        3.06   \n",
       "1       1    13.20   1.78  2.14        11.2        100     2.65        2.76   \n",
       "2       1    13.16   2.36  2.67        18.6        101     2.80        3.24   \n",
       "3       1    14.37   1.95  2.50        16.8        113     3.85        3.49   \n",
       "4       1    13.24   2.59  2.87        21.0        118     2.80        2.69   \n",
       "..    ...      ...    ...   ...         ...        ...      ...         ...   \n",
       "168     3    13.58   2.58  2.69        24.5        105     1.55        0.84   \n",
       "170     3    12.20   3.03  2.32        19.0         96     1.25        0.49   \n",
       "171     3    12.77   2.39  2.28        19.5         86     1.39        0.51   \n",
       "172     3    14.16   2.51  2.48        20.0         91     1.68        0.70   \n",
       "176     3    13.17   2.59  2.37        20.0        120     1.65        0.68   \n",
       "\n",
       "     Nonflavanoids  Proanthocyanins     Color   Hue  Dilution  Proline  \\\n",
       "0             0.28             2.29  5.640000  1.04      3.92     1065   \n",
       "1             0.26             1.28  4.380000  1.05      3.40     1050   \n",
       "2             0.30             2.81  5.680000  1.03      3.17     1185   \n",
       "3             0.24             2.18  7.800000  0.86      3.45     1480   \n",
       "4             0.39             1.82  4.320000  1.04      2.93      735   \n",
       "..             ...              ...       ...   ...       ...      ...   \n",
       "168           0.39             1.54  8.660000  0.74      1.80      750   \n",
       "170           0.40             0.73  5.500000  0.66      1.83      510   \n",
       "171           0.48             0.64  9.899999  0.57      1.63      470   \n",
       "172           0.44             1.24  9.700000  0.62      1.71      660   \n",
       "176           0.53             1.46  9.300000  0.60      1.62      840   \n",
       "\n",
       "     clusterID  \n",
       "0          1.0  \n",
       "1          1.0  \n",
       "2          1.0  \n",
       "3          2.0  \n",
       "4          4.0  \n",
       "..         ...  \n",
       "168        NaN  \n",
       "170        NaN  \n",
       "171        NaN  \n",
       "172        NaN  \n",
       "176        NaN  \n",
       "\n",
       "[135 rows x 15 columns]"
      ]
     },
     "execution_count": 79,
     "metadata": {},
     "output_type": "execute_result"
    }
   ],
   "source": [
    "kmeans_clust=KMeans(n_clusters=5)\n",
    "kmeans_clust.fit(w)\n",
    "w[\"clusterID\"]=pd.Series(kmeans_clust.labels_)\n",
    "w"
   ]
  },
  {
   "cell_type": "code",
   "execution_count": 80,
   "metadata": {},
   "outputs": [
    {
     "data": {
      "text/html": [
       "<div>\n",
       "<style scoped>\n",
       "    .dataframe tbody tr th:only-of-type {\n",
       "        vertical-align: middle;\n",
       "    }\n",
       "\n",
       "    .dataframe tbody tr th {\n",
       "        vertical-align: top;\n",
       "    }\n",
       "\n",
       "    .dataframe thead th {\n",
       "        text-align: right;\n",
       "    }\n",
       "</style>\n",
       "<table border=\"1\" class=\"dataframe\">\n",
       "  <thead>\n",
       "    <tr style=\"text-align: right;\">\n",
       "      <th></th>\n",
       "      <th>Type</th>\n",
       "      <th>Alcohol</th>\n",
       "      <th>Malic</th>\n",
       "      <th>Ash</th>\n",
       "      <th>Alcalinity</th>\n",
       "      <th>Magnesium</th>\n",
       "      <th>Phenols</th>\n",
       "      <th>Flavanoids</th>\n",
       "      <th>Nonflavanoids</th>\n",
       "      <th>Proanthocyanins</th>\n",
       "      <th>Color</th>\n",
       "      <th>Hue</th>\n",
       "      <th>Dilution</th>\n",
       "      <th>Proline</th>\n",
       "      <th>clusterID</th>\n",
       "    </tr>\n",
       "  </thead>\n",
       "  <tbody>\n",
       "    <tr>\n",
       "      <th>0</th>\n",
       "      <td>1</td>\n",
       "      <td>14.23</td>\n",
       "      <td>1.71</td>\n",
       "      <td>2.43</td>\n",
       "      <td>15.6</td>\n",
       "      <td>127</td>\n",
       "      <td>2.80</td>\n",
       "      <td>3.06</td>\n",
       "      <td>0.28</td>\n",
       "      <td>2.29</td>\n",
       "      <td>5.640000</td>\n",
       "      <td>1.04</td>\n",
       "      <td>3.92</td>\n",
       "      <td>1065</td>\n",
       "      <td>1.0</td>\n",
       "    </tr>\n",
       "    <tr>\n",
       "      <th>1</th>\n",
       "      <td>1</td>\n",
       "      <td>13.20</td>\n",
       "      <td>1.78</td>\n",
       "      <td>2.14</td>\n",
       "      <td>11.2</td>\n",
       "      <td>100</td>\n",
       "      <td>2.65</td>\n",
       "      <td>2.76</td>\n",
       "      <td>0.26</td>\n",
       "      <td>1.28</td>\n",
       "      <td>4.380000</td>\n",
       "      <td>1.05</td>\n",
       "      <td>3.40</td>\n",
       "      <td>1050</td>\n",
       "      <td>1.0</td>\n",
       "    </tr>\n",
       "    <tr>\n",
       "      <th>2</th>\n",
       "      <td>1</td>\n",
       "      <td>13.16</td>\n",
       "      <td>2.36</td>\n",
       "      <td>2.67</td>\n",
       "      <td>18.6</td>\n",
       "      <td>101</td>\n",
       "      <td>2.80</td>\n",
       "      <td>3.24</td>\n",
       "      <td>0.30</td>\n",
       "      <td>2.81</td>\n",
       "      <td>5.680000</td>\n",
       "      <td>1.03</td>\n",
       "      <td>3.17</td>\n",
       "      <td>1185</td>\n",
       "      <td>1.0</td>\n",
       "    </tr>\n",
       "    <tr>\n",
       "      <th>3</th>\n",
       "      <td>1</td>\n",
       "      <td>14.37</td>\n",
       "      <td>1.95</td>\n",
       "      <td>2.50</td>\n",
       "      <td>16.8</td>\n",
       "      <td>113</td>\n",
       "      <td>3.85</td>\n",
       "      <td>3.49</td>\n",
       "      <td>0.24</td>\n",
       "      <td>2.18</td>\n",
       "      <td>7.800000</td>\n",
       "      <td>0.86</td>\n",
       "      <td>3.45</td>\n",
       "      <td>1480</td>\n",
       "      <td>2.0</td>\n",
       "    </tr>\n",
       "    <tr>\n",
       "      <th>4</th>\n",
       "      <td>1</td>\n",
       "      <td>13.24</td>\n",
       "      <td>2.59</td>\n",
       "      <td>2.87</td>\n",
       "      <td>21.0</td>\n",
       "      <td>118</td>\n",
       "      <td>2.80</td>\n",
       "      <td>2.69</td>\n",
       "      <td>0.39</td>\n",
       "      <td>1.82</td>\n",
       "      <td>4.320000</td>\n",
       "      <td>1.04</td>\n",
       "      <td>2.93</td>\n",
       "      <td>735</td>\n",
       "      <td>4.0</td>\n",
       "    </tr>\n",
       "    <tr>\n",
       "      <th>...</th>\n",
       "      <td>...</td>\n",
       "      <td>...</td>\n",
       "      <td>...</td>\n",
       "      <td>...</td>\n",
       "      <td>...</td>\n",
       "      <td>...</td>\n",
       "      <td>...</td>\n",
       "      <td>...</td>\n",
       "      <td>...</td>\n",
       "      <td>...</td>\n",
       "      <td>...</td>\n",
       "      <td>...</td>\n",
       "      <td>...</td>\n",
       "      <td>...</td>\n",
       "      <td>...</td>\n",
       "    </tr>\n",
       "    <tr>\n",
       "      <th>168</th>\n",
       "      <td>3</td>\n",
       "      <td>13.58</td>\n",
       "      <td>2.58</td>\n",
       "      <td>2.69</td>\n",
       "      <td>24.5</td>\n",
       "      <td>105</td>\n",
       "      <td>1.55</td>\n",
       "      <td>0.84</td>\n",
       "      <td>0.39</td>\n",
       "      <td>1.54</td>\n",
       "      <td>8.660000</td>\n",
       "      <td>0.74</td>\n",
       "      <td>1.80</td>\n",
       "      <td>750</td>\n",
       "      <td>1.0</td>\n",
       "    </tr>\n",
       "    <tr>\n",
       "      <th>170</th>\n",
       "      <td>3</td>\n",
       "      <td>12.20</td>\n",
       "      <td>3.03</td>\n",
       "      <td>2.32</td>\n",
       "      <td>19.0</td>\n",
       "      <td>96</td>\n",
       "      <td>1.25</td>\n",
       "      <td>0.49</td>\n",
       "      <td>0.40</td>\n",
       "      <td>0.73</td>\n",
       "      <td>5.500000</td>\n",
       "      <td>0.66</td>\n",
       "      <td>1.83</td>\n",
       "      <td>510</td>\n",
       "      <td>1.0</td>\n",
       "    </tr>\n",
       "    <tr>\n",
       "      <th>171</th>\n",
       "      <td>3</td>\n",
       "      <td>12.77</td>\n",
       "      <td>2.39</td>\n",
       "      <td>2.28</td>\n",
       "      <td>19.5</td>\n",
       "      <td>86</td>\n",
       "      <td>1.39</td>\n",
       "      <td>0.51</td>\n",
       "      <td>0.48</td>\n",
       "      <td>0.64</td>\n",
       "      <td>9.899999</td>\n",
       "      <td>0.57</td>\n",
       "      <td>1.63</td>\n",
       "      <td>470</td>\n",
       "      <td>1.0</td>\n",
       "    </tr>\n",
       "    <tr>\n",
       "      <th>172</th>\n",
       "      <td>3</td>\n",
       "      <td>14.16</td>\n",
       "      <td>2.51</td>\n",
       "      <td>2.48</td>\n",
       "      <td>20.0</td>\n",
       "      <td>91</td>\n",
       "      <td>1.68</td>\n",
       "      <td>0.70</td>\n",
       "      <td>0.44</td>\n",
       "      <td>1.24</td>\n",
       "      <td>9.700000</td>\n",
       "      <td>0.62</td>\n",
       "      <td>1.71</td>\n",
       "      <td>660</td>\n",
       "      <td>1.0</td>\n",
       "    </tr>\n",
       "    <tr>\n",
       "      <th>176</th>\n",
       "      <td>3</td>\n",
       "      <td>13.17</td>\n",
       "      <td>2.59</td>\n",
       "      <td>2.37</td>\n",
       "      <td>20.0</td>\n",
       "      <td>120</td>\n",
       "      <td>1.65</td>\n",
       "      <td>0.68</td>\n",
       "      <td>0.53</td>\n",
       "      <td>1.46</td>\n",
       "      <td>9.300000</td>\n",
       "      <td>0.60</td>\n",
       "      <td>1.62</td>\n",
       "      <td>840</td>\n",
       "      <td>1.0</td>\n",
       "    </tr>\n",
       "  </tbody>\n",
       "</table>\n",
       "<p>135 rows × 15 columns</p>\n",
       "</div>"
      ],
      "text/plain": [
       "     Type  Alcohol  Malic   Ash  Alcalinity  Magnesium  Phenols  Flavanoids  \\\n",
       "0       1    14.23   1.71  2.43        15.6        127     2.80        3.06   \n",
       "1       1    13.20   1.78  2.14        11.2        100     2.65        2.76   \n",
       "2       1    13.16   2.36  2.67        18.6        101     2.80        3.24   \n",
       "3       1    14.37   1.95  2.50        16.8        113     3.85        3.49   \n",
       "4       1    13.24   2.59  2.87        21.0        118     2.80        2.69   \n",
       "..    ...      ...    ...   ...         ...        ...      ...         ...   \n",
       "168     3    13.58   2.58  2.69        24.5        105     1.55        0.84   \n",
       "170     3    12.20   3.03  2.32        19.0         96     1.25        0.49   \n",
       "171     3    12.77   2.39  2.28        19.5         86     1.39        0.51   \n",
       "172     3    14.16   2.51  2.48        20.0         91     1.68        0.70   \n",
       "176     3    13.17   2.59  2.37        20.0        120     1.65        0.68   \n",
       "\n",
       "     Nonflavanoids  Proanthocyanins     Color   Hue  Dilution  Proline  \\\n",
       "0             0.28             2.29  5.640000  1.04      3.92     1065   \n",
       "1             0.26             1.28  4.380000  1.05      3.40     1050   \n",
       "2             0.30             2.81  5.680000  1.03      3.17     1185   \n",
       "3             0.24             2.18  7.800000  0.86      3.45     1480   \n",
       "4             0.39             1.82  4.320000  1.04      2.93      735   \n",
       "..             ...              ...       ...   ...       ...      ...   \n",
       "168           0.39             1.54  8.660000  0.74      1.80      750   \n",
       "170           0.40             0.73  5.500000  0.66      1.83      510   \n",
       "171           0.48             0.64  9.899999  0.57      1.63      470   \n",
       "172           0.44             1.24  9.700000  0.62      1.71      660   \n",
       "176           0.53             1.46  9.300000  0.60      1.62      840   \n",
       "\n",
       "     clusterID  \n",
       "0          1.0  \n",
       "1          1.0  \n",
       "2          1.0  \n",
       "3          2.0  \n",
       "4          4.0  \n",
       "..         ...  \n",
       "168        1.0  \n",
       "170        1.0  \n",
       "171        1.0  \n",
       "172        1.0  \n",
       "176        1.0  \n",
       "\n",
       "[135 rows x 15 columns]"
      ]
     },
     "execution_count": 80,
     "metadata": {},
     "output_type": "execute_result"
    }
   ],
   "source": [
    "r = w.fillna(1)\n",
    "r"
   ]
  },
  {
   "cell_type": "code",
   "execution_count": 81,
   "metadata": {},
   "outputs": [
    {
     "data": {
      "text/html": [
       "<div>\n",
       "<style scoped>\n",
       "    .dataframe tbody tr th:only-of-type {\n",
       "        vertical-align: middle;\n",
       "    }\n",
       "\n",
       "    .dataframe tbody tr th {\n",
       "        vertical-align: top;\n",
       "    }\n",
       "\n",
       "    .dataframe thead th {\n",
       "        text-align: right;\n",
       "    }\n",
       "</style>\n",
       "<table border=\"1\" class=\"dataframe\">\n",
       "  <thead>\n",
       "    <tr style=\"text-align: right;\">\n",
       "      <th></th>\n",
       "      <th>Type</th>\n",
       "      <th>Alcohol</th>\n",
       "      <th>Malic</th>\n",
       "      <th>Ash</th>\n",
       "      <th>Alcalinity</th>\n",
       "      <th>Magnesium</th>\n",
       "      <th>Phenols</th>\n",
       "      <th>Flavanoids</th>\n",
       "      <th>Nonflavanoids</th>\n",
       "      <th>Proanthocyanins</th>\n",
       "      <th>Color</th>\n",
       "      <th>Hue</th>\n",
       "      <th>Dilution</th>\n",
       "      <th>Proline</th>\n",
       "      <th>clusterID</th>\n",
       "    </tr>\n",
       "    <tr>\n",
       "      <th>clusterID</th>\n",
       "      <th></th>\n",
       "      <th></th>\n",
       "      <th></th>\n",
       "      <th></th>\n",
       "      <th></th>\n",
       "      <th></th>\n",
       "      <th></th>\n",
       "      <th></th>\n",
       "      <th></th>\n",
       "      <th></th>\n",
       "      <th></th>\n",
       "      <th></th>\n",
       "      <th></th>\n",
       "      <th></th>\n",
       "      <th></th>\n",
       "    </tr>\n",
       "  </thead>\n",
       "  <tbody>\n",
       "    <tr>\n",
       "      <th>0.0</th>\n",
       "      <td>1.923077</td>\n",
       "      <td>12.381538</td>\n",
       "      <td>1.766154</td>\n",
       "      <td>2.351154</td>\n",
       "      <td>20.580769</td>\n",
       "      <td>96.461538</td>\n",
       "      <td>2.228077</td>\n",
       "      <td>2.116923</td>\n",
       "      <td>0.346538</td>\n",
       "      <td>1.543846</td>\n",
       "      <td>3.484231</td>\n",
       "      <td>1.025615</td>\n",
       "      <td>2.763846</td>\n",
       "      <td>590.730769</td>\n",
       "      <td>0.0</td>\n",
       "    </tr>\n",
       "    <tr>\n",
       "      <th>1.0</th>\n",
       "      <td>1.000000</td>\n",
       "      <td>13.707727</td>\n",
       "      <td>1.829545</td>\n",
       "      <td>2.372727</td>\n",
       "      <td>16.563636</td>\n",
       "      <td>102.863636</td>\n",
       "      <td>2.806364</td>\n",
       "      <td>3.043182</td>\n",
       "      <td>0.293636</td>\n",
       "      <td>2.000455</td>\n",
       "      <td>5.369545</td>\n",
       "      <td>1.074091</td>\n",
       "      <td>3.172273</td>\n",
       "      <td>1056.363636</td>\n",
       "      <td>1.0</td>\n",
       "    </tr>\n",
       "    <tr>\n",
       "      <th>2.0</th>\n",
       "      <td>1.000000</td>\n",
       "      <td>14.030000</td>\n",
       "      <td>1.800588</td>\n",
       "      <td>2.460588</td>\n",
       "      <td>16.611765</td>\n",
       "      <td>105.176471</td>\n",
       "      <td>2.947647</td>\n",
       "      <td>3.097059</td>\n",
       "      <td>0.282353</td>\n",
       "      <td>1.963529</td>\n",
       "      <td>6.220588</td>\n",
       "      <td>1.110588</td>\n",
       "      <td>3.148824</td>\n",
       "      <td>1314.529412</td>\n",
       "      <td>2.0</td>\n",
       "    </tr>\n",
       "    <tr>\n",
       "      <th>3.0</th>\n",
       "      <td>1.969697</td>\n",
       "      <td>12.492424</td>\n",
       "      <td>1.710000</td>\n",
       "      <td>2.211212</td>\n",
       "      <td>19.257576</td>\n",
       "      <td>91.575758</td>\n",
       "      <td>2.253030</td>\n",
       "      <td>2.042727</td>\n",
       "      <td>0.339394</td>\n",
       "      <td>1.529091</td>\n",
       "      <td>3.432727</td>\n",
       "      <td>1.067879</td>\n",
       "      <td>2.736364</td>\n",
       "      <td>565.757576</td>\n",
       "      <td>3.0</td>\n",
       "    </tr>\n",
       "    <tr>\n",
       "      <th>4.0</th>\n",
       "      <td>1.625000</td>\n",
       "      <td>12.990000</td>\n",
       "      <td>1.879375</td>\n",
       "      <td>2.399375</td>\n",
       "      <td>18.000000</td>\n",
       "      <td>103.000000</td>\n",
       "      <td>2.422500</td>\n",
       "      <td>2.266875</td>\n",
       "      <td>0.351875</td>\n",
       "      <td>1.403125</td>\n",
       "      <td>4.422500</td>\n",
       "      <td>0.990000</td>\n",
       "      <td>2.698125</td>\n",
       "      <td>776.125000</td>\n",
       "      <td>4.0</td>\n",
       "    </tr>\n",
       "  </tbody>\n",
       "</table>\n",
       "</div>"
      ],
      "text/plain": [
       "               Type    Alcohol     Malic       Ash  Alcalinity   Magnesium  \\\n",
       "clusterID                                                                    \n",
       "0.0        1.923077  12.381538  1.766154  2.351154   20.580769   96.461538   \n",
       "1.0        1.000000  13.707727  1.829545  2.372727   16.563636  102.863636   \n",
       "2.0        1.000000  14.030000  1.800588  2.460588   16.611765  105.176471   \n",
       "3.0        1.969697  12.492424  1.710000  2.211212   19.257576   91.575758   \n",
       "4.0        1.625000  12.990000  1.879375  2.399375   18.000000  103.000000   \n",
       "\n",
       "            Phenols  Flavanoids  Nonflavanoids  Proanthocyanins     Color  \\\n",
       "clusterID                                                                   \n",
       "0.0        2.228077    2.116923       0.346538         1.543846  3.484231   \n",
       "1.0        2.806364    3.043182       0.293636         2.000455  5.369545   \n",
       "2.0        2.947647    3.097059       0.282353         1.963529  6.220588   \n",
       "3.0        2.253030    2.042727       0.339394         1.529091  3.432727   \n",
       "4.0        2.422500    2.266875       0.351875         1.403125  4.422500   \n",
       "\n",
       "                Hue  Dilution      Proline  clusterID  \n",
       "clusterID                                              \n",
       "0.0        1.025615  2.763846   590.730769        0.0  \n",
       "1.0        1.074091  3.172273  1056.363636        1.0  \n",
       "2.0        1.110588  3.148824  1314.529412        2.0  \n",
       "3.0        1.067879  2.736364   565.757576        3.0  \n",
       "4.0        0.990000  2.698125   776.125000        4.0  "
      ]
     },
     "execution_count": 81,
     "metadata": {},
     "output_type": "execute_result"
    }
   ],
   "source": [
    "result1=r.iloc[:,0:].groupby(w.clusterID).mean()\n",
    "result1"
   ]
  },
  {
   "cell_type": "code",
   "execution_count": 82,
   "metadata": {},
   "outputs": [
    {
     "data": {
      "text/plain": [
       "[array([18517.86997739]),\n",
       " array([13413.20948672]),\n",
       " array([9884.29907913]),\n",
       " array([8170.88362151]),\n",
       " array([6675.46370787]),\n",
       " array([5459.89890812]),\n",
       " array([4908.82157624]),\n",
       " array([4398.83380181]),\n",
       " array([3976.770795]),\n",
       " array([3524.34208503]),\n",
       " array([3333.37239318]),\n",
       " array([3158.67681762]),\n",
       " array([3042.51398004])]"
      ]
     },
     "execution_count": 82,
     "metadata": {},
     "output_type": "execute_result"
    }
   ],
   "source": [
    "k = list(range(2,15))\n",
    "k\n",
    "TWSS = [] # variable for storing total within sum of squares for each kmeans \n",
    "for i in k:\n",
    "    kmeans = KMeans(n_clusters = i)\n",
    "    kmeans.fit(r)\n",
    "    WSS = [] # variable for storing within sum of squares for each cluster \n",
    "    for j in range(i):\n",
    "        WSS.append(sum(cdist(r.iloc[kmeans.labels_==j,:],kmeans.cluster_centers_[j].reshape(1,r.shape[1]),\"euclidean\")))\n",
    "    TWSS.append(sum(WSS))\n",
    "    \n",
    "TWSS"
   ]
  },
  {
   "cell_type": "code",
   "execution_count": 83,
   "metadata": {},
   "outputs": [
    {
     "data": {
      "text/plain": [
       "([<matplotlib.axis.XTick at 0x204e2062910>,\n",
       "  <matplotlib.axis.XTick at 0x204e20628e0>,\n",
       "  <matplotlib.axis.XTick at 0x204e2058430>,\n",
       "  <matplotlib.axis.XTick at 0x204e207e5b0>,\n",
       "  <matplotlib.axis.XTick at 0x204e207eac0>,\n",
       "  <matplotlib.axis.XTick at 0x204e207e0d0>,\n",
       "  <matplotlib.axis.XTick at 0x204e28d51c0>,\n",
       "  <matplotlib.axis.XTick at 0x204e28d56d0>,\n",
       "  <matplotlib.axis.XTick at 0x204e28d5be0>,\n",
       "  <matplotlib.axis.XTick at 0x204e28dc130>,\n",
       "  <matplotlib.axis.XTick at 0x204e28dc640>,\n",
       "  <matplotlib.axis.XTick at 0x204e28dcb50>,\n",
       "  <matplotlib.axis.XTick at 0x204e28e30a0>],\n",
       " [Text(0, 0, ''),\n",
       "  Text(0, 0, ''),\n",
       "  Text(0, 0, ''),\n",
       "  Text(0, 0, ''),\n",
       "  Text(0, 0, ''),\n",
       "  Text(0, 0, ''),\n",
       "  Text(0, 0, ''),\n",
       "  Text(0, 0, ''),\n",
       "  Text(0, 0, ''),\n",
       "  Text(0, 0, ''),\n",
       "  Text(0, 0, ''),\n",
       "  Text(0, 0, ''),\n",
       "  Text(0, 0, '')])"
      ]
     },
     "execution_count": 83,
     "metadata": {},
     "output_type": "execute_result"
    },
    {
     "data": {
      "image/png": "[encoded data removed]",
      "text/plain": [
       "<Figure size 432x288 with 1 Axes>"
      ]
     },
     "metadata": {
      "needs_background": "light"
     },
     "output_type": "display_data"
    }
   ],
   "source": [
    "plt.plot(k,TWSS, 'ro-');plt.xlabel(\"No_of_Clusters\");plt.ylabel(\"total_within_SS\");plt.xticks(k)"
   ]
  },
  {
   "cell_type": "markdown",
   "metadata": {},
   "source": [
    "# PCA"
   ]
  },
  {
   "cell_type": "code",
   "execution_count": 84,
   "metadata": {},
   "outputs": [
    {
     "name": "stderr",
     "output_type": "stream",
     "text": [
      "<ipython-input-84-dca1b0b57030>:2: UserWarning: Pandas doesn't allow columns to be created via a new attribute name - see https://pandas.pydata.org/pandas-docs/stable/indexing.html#attribute-access\n",
      "  w.data = w.iloc[:,1:]\n"
     ]
    },
    {
     "data": {
      "text/html": [
       "<div>\n",
       "<style scoped>\n",
       "    .dataframe tbody tr th:only-of-type {\n",
       "        vertical-align: middle;\n",
       "    }\n",
       "\n",
       "    .dataframe tbody tr th {\n",
       "        vertical-align: top;\n",
       "    }\n",
       "\n",
       "    .dataframe thead th {\n",
       "        text-align: right;\n",
       "    }\n",
       "</style>\n",
       "<table border=\"1\" class=\"dataframe\">\n",
       "  <thead>\n",
       "    <tr style=\"text-align: right;\">\n",
       "      <th></th>\n",
       "      <th>Type</th>\n",
       "      <th>Alcohol</th>\n",
       "      <th>Malic</th>\n",
       "      <th>Ash</th>\n",
       "      <th>Alcalinity</th>\n",
       "      <th>Magnesium</th>\n",
       "      <th>Phenols</th>\n",
       "      <th>Flavanoids</th>\n",
       "      <th>Nonflavanoids</th>\n",
       "      <th>Proanthocyanins</th>\n",
       "      <th>Color</th>\n",
       "      <th>Hue</th>\n",
       "      <th>Dilution</th>\n",
       "      <th>Proline</th>\n",
       "      <th>clusterID</th>\n",
       "    </tr>\n",
       "  </thead>\n",
       "  <tbody>\n",
       "    <tr>\n",
       "      <th>0</th>\n",
       "      <td>1</td>\n",
       "      <td>14.23</td>\n",
       "      <td>1.71</td>\n",
       "      <td>2.43</td>\n",
       "      <td>15.6</td>\n",
       "      <td>127</td>\n",
       "      <td>2.80</td>\n",
       "      <td>3.06</td>\n",
       "      <td>0.28</td>\n",
       "      <td>2.29</td>\n",
       "      <td>5.640000</td>\n",
       "      <td>1.04</td>\n",
       "      <td>3.92</td>\n",
       "      <td>1065</td>\n",
       "      <td>1.0</td>\n",
       "    </tr>\n",
       "    <tr>\n",
       "      <th>1</th>\n",
       "      <td>1</td>\n",
       "      <td>13.20</td>\n",
       "      <td>1.78</td>\n",
       "      <td>2.14</td>\n",
       "      <td>11.2</td>\n",
       "      <td>100</td>\n",
       "      <td>2.65</td>\n",
       "      <td>2.76</td>\n",
       "      <td>0.26</td>\n",
       "      <td>1.28</td>\n",
       "      <td>4.380000</td>\n",
       "      <td>1.05</td>\n",
       "      <td>3.40</td>\n",
       "      <td>1050</td>\n",
       "      <td>1.0</td>\n",
       "    </tr>\n",
       "    <tr>\n",
       "      <th>2</th>\n",
       "      <td>1</td>\n",
       "      <td>13.16</td>\n",
       "      <td>2.36</td>\n",
       "      <td>2.67</td>\n",
       "      <td>18.6</td>\n",
       "      <td>101</td>\n",
       "      <td>2.80</td>\n",
       "      <td>3.24</td>\n",
       "      <td>0.30</td>\n",
       "      <td>2.81</td>\n",
       "      <td>5.680000</td>\n",
       "      <td>1.03</td>\n",
       "      <td>3.17</td>\n",
       "      <td>1185</td>\n",
       "      <td>1.0</td>\n",
       "    </tr>\n",
       "    <tr>\n",
       "      <th>3</th>\n",
       "      <td>1</td>\n",
       "      <td>14.37</td>\n",
       "      <td>1.95</td>\n",
       "      <td>2.50</td>\n",
       "      <td>16.8</td>\n",
       "      <td>113</td>\n",
       "      <td>3.85</td>\n",
       "      <td>3.49</td>\n",
       "      <td>0.24</td>\n",
       "      <td>2.18</td>\n",
       "      <td>7.800000</td>\n",
       "      <td>0.86</td>\n",
       "      <td>3.45</td>\n",
       "      <td>1480</td>\n",
       "      <td>2.0</td>\n",
       "    </tr>\n",
       "    <tr>\n",
       "      <th>4</th>\n",
       "      <td>1</td>\n",
       "      <td>13.24</td>\n",
       "      <td>2.59</td>\n",
       "      <td>2.87</td>\n",
       "      <td>21.0</td>\n",
       "      <td>118</td>\n",
       "      <td>2.80</td>\n",
       "      <td>2.69</td>\n",
       "      <td>0.39</td>\n",
       "      <td>1.82</td>\n",
       "      <td>4.320000</td>\n",
       "      <td>1.04</td>\n",
       "      <td>2.93</td>\n",
       "      <td>735</td>\n",
       "      <td>4.0</td>\n",
       "    </tr>\n",
       "    <tr>\n",
       "      <th>...</th>\n",
       "      <td>...</td>\n",
       "      <td>...</td>\n",
       "      <td>...</td>\n",
       "      <td>...</td>\n",
       "      <td>...</td>\n",
       "      <td>...</td>\n",
       "      <td>...</td>\n",
       "      <td>...</td>\n",
       "      <td>...</td>\n",
       "      <td>...</td>\n",
       "      <td>...</td>\n",
       "      <td>...</td>\n",
       "      <td>...</td>\n",
       "      <td>...</td>\n",
       "      <td>...</td>\n",
       "    </tr>\n",
       "    <tr>\n",
       "      <th>168</th>\n",
       "      <td>3</td>\n",
       "      <td>13.58</td>\n",
       "      <td>2.58</td>\n",
       "      <td>2.69</td>\n",
       "      <td>24.5</td>\n",
       "      <td>105</td>\n",
       "      <td>1.55</td>\n",
       "      <td>0.84</td>\n",
       "      <td>0.39</td>\n",
       "      <td>1.54</td>\n",
       "      <td>8.660000</td>\n",
       "      <td>0.74</td>\n",
       "      <td>1.80</td>\n",
       "      <td>750</td>\n",
       "      <td>1.0</td>\n",
       "    </tr>\n",
       "    <tr>\n",
       "      <th>170</th>\n",
       "      <td>3</td>\n",
       "      <td>12.20</td>\n",
       "      <td>3.03</td>\n",
       "      <td>2.32</td>\n",
       "      <td>19.0</td>\n",
       "      <td>96</td>\n",
       "      <td>1.25</td>\n",
       "      <td>0.49</td>\n",
       "      <td>0.40</td>\n",
       "      <td>0.73</td>\n",
       "      <td>5.500000</td>\n",
       "      <td>0.66</td>\n",
       "      <td>1.83</td>\n",
       "      <td>510</td>\n",
       "      <td>1.0</td>\n",
       "    </tr>\n",
       "    <tr>\n",
       "      <th>171</th>\n",
       "      <td>3</td>\n",
       "      <td>12.77</td>\n",
       "      <td>2.39</td>\n",
       "      <td>2.28</td>\n",
       "      <td>19.5</td>\n",
       "      <td>86</td>\n",
       "      <td>1.39</td>\n",
       "      <td>0.51</td>\n",
       "      <td>0.48</td>\n",
       "      <td>0.64</td>\n",
       "      <td>9.899999</td>\n",
       "      <td>0.57</td>\n",
       "      <td>1.63</td>\n",
       "      <td>470</td>\n",
       "      <td>1.0</td>\n",
       "    </tr>\n",
       "    <tr>\n",
       "      <th>172</th>\n",
       "      <td>3</td>\n",
       "      <td>14.16</td>\n",
       "      <td>2.51</td>\n",
       "      <td>2.48</td>\n",
       "      <td>20.0</td>\n",
       "      <td>91</td>\n",
       "      <td>1.68</td>\n",
       "      <td>0.70</td>\n",
       "      <td>0.44</td>\n",
       "      <td>1.24</td>\n",
       "      <td>9.700000</td>\n",
       "      <td>0.62</td>\n",
       "      <td>1.71</td>\n",
       "      <td>660</td>\n",
       "      <td>1.0</td>\n",
       "    </tr>\n",
       "    <tr>\n",
       "      <th>176</th>\n",
       "      <td>3</td>\n",
       "      <td>13.17</td>\n",
       "      <td>2.59</td>\n",
       "      <td>2.37</td>\n",
       "      <td>20.0</td>\n",
       "      <td>120</td>\n",
       "      <td>1.65</td>\n",
       "      <td>0.68</td>\n",
       "      <td>0.53</td>\n",
       "      <td>1.46</td>\n",
       "      <td>9.300000</td>\n",
       "      <td>0.60</td>\n",
       "      <td>1.62</td>\n",
       "      <td>840</td>\n",
       "      <td>1.0</td>\n",
       "    </tr>\n",
       "  </tbody>\n",
       "</table>\n",
       "<p>135 rows × 15 columns</p>\n",
       "</div>"
      ],
      "text/plain": [
       "     Type  Alcohol  Malic   Ash  Alcalinity  Magnesium  Phenols  Flavanoids  \\\n",
       "0       1    14.23   1.71  2.43        15.6        127     2.80        3.06   \n",
       "1       1    13.20   1.78  2.14        11.2        100     2.65        2.76   \n",
       "2       1    13.16   2.36  2.67        18.6        101     2.80        3.24   \n",
       "3       1    14.37   1.95  2.50        16.8        113     3.85        3.49   \n",
       "4       1    13.24   2.59  2.87        21.0        118     2.80        2.69   \n",
       "..    ...      ...    ...   ...         ...        ...      ...         ...   \n",
       "168     3    13.58   2.58  2.69        24.5        105     1.55        0.84   \n",
       "170     3    12.20   3.03  2.32        19.0         96     1.25        0.49   \n",
       "171     3    12.77   2.39  2.28        19.5         86     1.39        0.51   \n",
       "172     3    14.16   2.51  2.48        20.0         91     1.68        0.70   \n",
       "176     3    13.17   2.59  2.37        20.0        120     1.65        0.68   \n",
       "\n",
       "     Nonflavanoids  Proanthocyanins     Color   Hue  Dilution  Proline  \\\n",
       "0             0.28             2.29  5.640000  1.04      3.92     1065   \n",
       "1             0.26             1.28  4.380000  1.05      3.40     1050   \n",
       "2             0.30             2.81  5.680000  1.03      3.17     1185   \n",
       "3             0.24             2.18  7.800000  0.86      3.45     1480   \n",
       "4             0.39             1.82  4.320000  1.04      2.93      735   \n",
       "..             ...              ...       ...   ...       ...      ...   \n",
       "168           0.39             1.54  8.660000  0.74      1.80      750   \n",
       "170           0.40             0.73  5.500000  0.66      1.83      510   \n",
       "171           0.48             0.64  9.899999  0.57      1.63      470   \n",
       "172           0.44             1.24  9.700000  0.62      1.71      660   \n",
       "176           0.53             1.46  9.300000  0.60      1.62      840   \n",
       "\n",
       "     clusterID  \n",
       "0          1.0  \n",
       "1          1.0  \n",
       "2          1.0  \n",
       "3          2.0  \n",
       "4          4.0  \n",
       "..         ...  \n",
       "168        1.0  \n",
       "170        1.0  \n",
       "171        1.0  \n",
       "172        1.0  \n",
       "176        1.0  \n",
       "\n",
       "[135 rows x 15 columns]"
      ]
     },
     "execution_count": 84,
     "metadata": {},
     "output_type": "execute_result"
    }
   ],
   "source": [
    "# Considering only numerical data \n",
    "w.data = w.iloc[:,1:]\n",
    "w = w.fillna(1)\n",
    "w"
   ]
  },
  {
   "cell_type": "code",
   "execution_count": 85,
   "metadata": {},
   "outputs": [
    {
     "data": {
      "text/plain": [
       "array([[1.000e+00, 1.423e+01, 1.710e+00, ..., 3.920e+00, 1.065e+03,\n",
       "        1.000e+00],\n",
       "       [1.000e+00, 1.320e+01, 1.780e+00, ..., 3.400e+00, 1.050e+03,\n",
       "        1.000e+00],\n",
       "       [1.000e+00, 1.316e+01, 2.360e+00, ..., 3.170e+00, 1.185e+03,\n",
       "        1.000e+00],\n",
       "       ...,\n",
       "       [3.000e+00, 1.277e+01, 2.390e+00, ..., 1.630e+00, 4.700e+02,\n",
       "        1.000e+00],\n",
       "       [3.000e+00, 1.416e+01, 2.510e+00, ..., 1.710e+00, 6.600e+02,\n",
       "        1.000e+00],\n",
       "       [3.000e+00, 1.317e+01, 2.590e+00, ..., 1.620e+00, 8.400e+02,\n",
       "        1.000e+00]])"
      ]
     },
     "execution_count": 85,
     "metadata": {},
     "output_type": "execute_result"
    }
   ],
   "source": [
    "# Converting into numpy array\n",
    "W = w.values\n",
    "W"
   ]
  },
  {
   "cell_type": "code",
   "execution_count": 86,
   "metadata": {},
   "outputs": [
    {
     "data": {
      "text/plain": [
       "array([[-1.08347268,  1.47422171, -0.34954192, ...,  1.83203968,\n",
       "         0.83555084, -0.58660133],\n",
       "       [-1.08347268,  0.21614801, -0.24622096, ...,  1.04302627,\n",
       "         0.79135161, -0.58660133],\n",
       "       [-1.08347268,  0.16729078,  0.60986701, ...,  0.69403957,\n",
       "         1.18914462, -0.58660133],\n",
       "       ...,\n",
       "       [ 1.62520902, -0.30906722,  0.65414742, ..., -1.64265398,\n",
       "        -0.917685  , -0.58660133],\n",
       "       [ 1.62520902,  1.38872155,  0.83126907, ..., -1.52126731,\n",
       "        -0.35782818, -0.58660133],\n",
       "       [ 1.62520902,  0.17950509,  0.94935016, ..., -1.65782732,\n",
       "         0.1725625 , -0.58660133]])"
      ]
     },
     "execution_count": 86,
     "metadata": {},
     "output_type": "execute_result"
    }
   ],
   "source": [
    "# Normalizing the numerical data \n",
    "w_normal = scale(W)\n",
    "w_normal"
   ]
  },
  {
   "cell_type": "code",
   "execution_count": 87,
   "metadata": {},
   "outputs": [
    {
     "data": {
      "text/html": [
       "<div>\n",
       "<style scoped>\n",
       "    .dataframe tbody tr th:only-of-type {\n",
       "        vertical-align: middle;\n",
       "    }\n",
       "\n",
       "    .dataframe tbody tr th {\n",
       "        vertical-align: top;\n",
       "    }\n",
       "\n",
       "    .dataframe thead th {\n",
       "        text-align: right;\n",
       "    }\n",
       "</style>\n",
       "<table border=\"1\" class=\"dataframe\">\n",
       "  <thead>\n",
       "    <tr style=\"text-align: right;\">\n",
       "      <th></th>\n",
       "      <th>0</th>\n",
       "      <th>1</th>\n",
       "      <th>2</th>\n",
       "      <th>3</th>\n",
       "      <th>4</th>\n",
       "      <th>5</th>\n",
       "      <th>6</th>\n",
       "      <th>7</th>\n",
       "      <th>8</th>\n",
       "      <th>9</th>\n",
       "      <th>10</th>\n",
       "      <th>11</th>\n",
       "      <th>12</th>\n",
       "    </tr>\n",
       "  </thead>\n",
       "  <tbody>\n",
       "    <tr>\n",
       "      <th>0</th>\n",
       "      <td>3.474341</td>\n",
       "      <td>1.298374</td>\n",
       "      <td>0.326033</td>\n",
       "      <td>-0.329183</td>\n",
       "      <td>0.261029</td>\n",
       "      <td>-0.030108</td>\n",
       "      <td>1.045954</td>\n",
       "      <td>-0.636675</td>\n",
       "      <td>-0.412148</td>\n",
       "      <td>0.249325</td>\n",
       "      <td>1.253705</td>\n",
       "      <td>-0.531551</td>\n",
       "      <td>0.659897</td>\n",
       "    </tr>\n",
       "    <tr>\n",
       "      <th>1</th>\n",
       "      <td>2.160399</td>\n",
       "      <td>-0.453667</td>\n",
       "      <td>-1.413227</td>\n",
       "      <td>-0.499509</td>\n",
       "      <td>-0.483222</td>\n",
       "      <td>0.318144</td>\n",
       "      <td>1.774002</td>\n",
       "      <td>-0.000294</td>\n",
       "      <td>-0.941595</td>\n",
       "      <td>0.174198</td>\n",
       "      <td>-0.877324</td>\n",
       "      <td>-0.207631</td>\n",
       "      <td>0.203051</td>\n",
       "    </tr>\n",
       "    <tr>\n",
       "      <th>2</th>\n",
       "      <td>2.594896</td>\n",
       "      <td>0.921464</td>\n",
       "      <td>1.323661</td>\n",
       "      <td>-0.795802</td>\n",
       "      <td>0.095492</td>\n",
       "      <td>0.842909</td>\n",
       "      <td>-0.768314</td>\n",
       "      <td>-0.567068</td>\n",
       "      <td>0.734028</td>\n",
       "      <td>0.897765</td>\n",
       "      <td>-0.300196</td>\n",
       "      <td>0.145027</td>\n",
       "      <td>0.136972</td>\n",
       "    </tr>\n",
       "    <tr>\n",
       "      <th>3</th>\n",
       "      <td>4.065505</td>\n",
       "      <td>2.290104</td>\n",
       "      <td>-0.273746</td>\n",
       "      <td>-0.410533</td>\n",
       "      <td>0.576137</td>\n",
       "      <td>0.061003</td>\n",
       "      <td>-0.819784</td>\n",
       "      <td>-0.220192</td>\n",
       "      <td>-0.824656</td>\n",
       "      <td>-0.353983</td>\n",
       "      <td>-0.065626</td>\n",
       "      <td>0.474647</td>\n",
       "      <td>-0.159090</td>\n",
       "    </tr>\n",
       "    <tr>\n",
       "      <th>4</th>\n",
       "      <td>1.131670</td>\n",
       "      <td>1.037127</td>\n",
       "      <td>1.488666</td>\n",
       "      <td>2.184980</td>\n",
       "      <td>1.349441</td>\n",
       "      <td>0.976715</td>\n",
       "      <td>-0.472982</td>\n",
       "      <td>-0.671810</td>\n",
       "      <td>0.090007</td>\n",
       "      <td>-0.144617</td>\n",
       "      <td>0.450287</td>\n",
       "      <td>-0.225838</td>\n",
       "      <td>-0.047409</td>\n",
       "    </tr>\n",
       "    <tr>\n",
       "      <th>...</th>\n",
       "      <td>...</td>\n",
       "      <td>...</td>\n",
       "      <td>...</td>\n",
       "      <td>...</td>\n",
       "      <td>...</td>\n",
       "      <td>...</td>\n",
       "      <td>...</td>\n",
       "      <td>...</td>\n",
       "      <td>...</td>\n",
       "      <td>...</td>\n",
       "      <td>...</td>\n",
       "      <td>...</td>\n",
       "      <td>...</td>\n",
       "    </tr>\n",
       "    <tr>\n",
       "      <th>130</th>\n",
       "      <td>-2.732570</td>\n",
       "      <td>3.164746</td>\n",
       "      <td>0.751618</td>\n",
       "      <td>-0.424664</td>\n",
       "      <td>0.238172</td>\n",
       "      <td>-0.653203</td>\n",
       "      <td>-1.154499</td>\n",
       "      <td>0.494608</td>\n",
       "      <td>0.700294</td>\n",
       "      <td>0.123755</td>\n",
       "      <td>0.379389</td>\n",
       "      <td>-0.146399</td>\n",
       "      <td>0.557600</td>\n",
       "    </tr>\n",
       "    <tr>\n",
       "      <th>131</th>\n",
       "      <td>-4.128140</td>\n",
       "      <td>1.137942</td>\n",
       "      <td>-0.720314</td>\n",
       "      <td>-0.589169</td>\n",
       "      <td>0.411310</td>\n",
       "      <td>0.335180</td>\n",
       "      <td>0.728220</td>\n",
       "      <td>-0.078796</td>\n",
       "      <td>-0.194300</td>\n",
       "      <td>0.326447</td>\n",
       "      <td>-0.806145</td>\n",
       "      <td>-0.025020</td>\n",
       "      <td>0.343840</td>\n",
       "    </tr>\n",
       "    <tr>\n",
       "      <th>132</th>\n",
       "      <td>-4.175913</td>\n",
       "      <td>2.101317</td>\n",
       "      <td>-1.615996</td>\n",
       "      <td>-0.953265</td>\n",
       "      <td>-0.765596</td>\n",
       "      <td>-0.549174</td>\n",
       "      <td>-0.905876</td>\n",
       "      <td>0.182892</td>\n",
       "      <td>-0.649032</td>\n",
       "      <td>-0.290475</td>\n",
       "      <td>-0.754580</td>\n",
       "      <td>-0.183854</td>\n",
       "      <td>1.063548</td>\n",
       "    </tr>\n",
       "    <tr>\n",
       "      <th>133</th>\n",
       "      <td>-2.830012</td>\n",
       "      <td>3.137043</td>\n",
       "      <td>-1.105576</td>\n",
       "      <td>-0.933281</td>\n",
       "      <td>-0.634035</td>\n",
       "      <td>-0.265609</td>\n",
       "      <td>-1.315681</td>\n",
       "      <td>0.607001</td>\n",
       "      <td>-0.017329</td>\n",
       "      <td>-0.186141</td>\n",
       "      <td>-0.102776</td>\n",
       "      <td>-0.871007</td>\n",
       "      <td>0.437252</td>\n",
       "    </tr>\n",
       "    <tr>\n",
       "      <th>134</th>\n",
       "      <td>-2.844043</td>\n",
       "      <td>3.633841</td>\n",
       "      <td>-0.778256</td>\n",
       "      <td>-0.375870</td>\n",
       "      <td>-0.303634</td>\n",
       "      <td>-0.592994</td>\n",
       "      <td>-0.217474</td>\n",
       "      <td>-1.327129</td>\n",
       "      <td>0.087386</td>\n",
       "      <td>0.181924</td>\n",
       "      <td>0.659942</td>\n",
       "      <td>0.400416</td>\n",
       "      <td>0.698997</td>\n",
       "    </tr>\n",
       "  </tbody>\n",
       "</table>\n",
       "<p>135 rows × 13 columns</p>\n",
       "</div>"
      ],
      "text/plain": [
       "           0         1         2         3         4         5         6   \\\n",
       "0    3.474341  1.298374  0.326033 -0.329183  0.261029 -0.030108  1.045954   \n",
       "1    2.160399 -0.453667 -1.413227 -0.499509 -0.483222  0.318144  1.774002   \n",
       "2    2.594896  0.921464  1.323661 -0.795802  0.095492  0.842909 -0.768314   \n",
       "3    4.065505  2.290104 -0.273746 -0.410533  0.576137  0.061003 -0.819784   \n",
       "4    1.131670  1.037127  1.488666  2.184980  1.349441  0.976715 -0.472982   \n",
       "..        ...       ...       ...       ...       ...       ...       ...   \n",
       "130 -2.732570  3.164746  0.751618 -0.424664  0.238172 -0.653203 -1.154499   \n",
       "131 -4.128140  1.137942 -0.720314 -0.589169  0.411310  0.335180  0.728220   \n",
       "132 -4.175913  2.101317 -1.615996 -0.953265 -0.765596 -0.549174 -0.905876   \n",
       "133 -2.830012  3.137043 -1.105576 -0.933281 -0.634035 -0.265609 -1.315681   \n",
       "134 -2.844043  3.633841 -0.778256 -0.375870 -0.303634 -0.592994 -0.217474   \n",
       "\n",
       "           7         8         9         10        11        12  \n",
       "0   -0.636675 -0.412148  0.249325  1.253705 -0.531551  0.659897  \n",
       "1   -0.000294 -0.941595  0.174198 -0.877324 -0.207631  0.203051  \n",
       "2   -0.567068  0.734028  0.897765 -0.300196  0.145027  0.136972  \n",
       "3   -0.220192 -0.824656 -0.353983 -0.065626  0.474647 -0.159090  \n",
       "4   -0.671810  0.090007 -0.144617  0.450287 -0.225838 -0.047409  \n",
       "..        ...       ...       ...       ...       ...       ...  \n",
       "130  0.494608  0.700294  0.123755  0.379389 -0.146399  0.557600  \n",
       "131 -0.078796 -0.194300  0.326447 -0.806145 -0.025020  0.343840  \n",
       "132  0.182892 -0.649032 -0.290475 -0.754580 -0.183854  1.063548  \n",
       "133  0.607001 -0.017329 -0.186141 -0.102776 -0.871007  0.437252  \n",
       "134 -1.327129  0.087386  0.181924  0.659942  0.400416  0.698997  \n",
       "\n",
       "[135 rows x 13 columns]"
      ]
     },
     "execution_count": 87,
     "metadata": {},
     "output_type": "execute_result"
    }
   ],
   "source": [
    "pca = PCA(n_components = 13)\n",
    "pca_values1 = pd.DataFrame(pca.fit_transform(w_normal))\n",
    "pca_values1"
   ]
  },
  {
   "cell_type": "code",
   "execution_count": 88,
   "metadata": {},
   "outputs": [
    {
     "data": {
      "text/plain": [
       "array([[ 3.47434101,  1.29837374,  0.32603287, ...,  1.25370493,\n",
       "        -0.53155105,  0.65989731],\n",
       "       [ 2.16039948, -0.45366701, -1.41322675, ..., -0.87732437,\n",
       "        -0.20763144,  0.20305133],\n",
       "       [ 2.59489584,  0.92146424,  1.32366083, ..., -0.30019581,\n",
       "         0.14502652,  0.13697248],\n",
       "       ...,\n",
       "       [-4.175913  ,  2.10131701, -1.61599626, ..., -0.75458005,\n",
       "        -0.18385358,  1.0635482 ],\n",
       "       [-2.83001187,  3.13704325, -1.10557565, ..., -0.10277615,\n",
       "        -0.87100736,  0.4372517 ],\n",
       "       [-2.84404257,  3.63384136, -0.77825579, ...,  0.65994153,\n",
       "         0.40041579,  0.69899733]])"
      ]
     },
     "execution_count": 88,
     "metadata": {},
     "output_type": "execute_result"
    }
   ],
   "source": [
    "pca = PCA(n_components = 13)\n",
    "pca_values = pca.fit_transform(w_normal)\n",
    "pca_values"
   ]
  },
  {
   "cell_type": "code",
   "execution_count": 89,
   "metadata": {},
   "outputs": [
    {
     "data": {
      "text/plain": [
       "1.1413731483770921"
      ]
     },
     "execution_count": 89,
     "metadata": {},
     "output_type": "execute_result"
    }
   ],
   "source": [
    "pca_values.var()"
   ]
  },
  {
   "cell_type": "code",
   "execution_count": 90,
   "metadata": {},
   "outputs": [
    {
     "data": {
      "text/plain": [
       "array([0.38541487, 0.18188339, 0.08403999, 0.06860425, 0.05505681,\n",
       "       0.04763336, 0.04287624, 0.03062045, 0.02671845, 0.02099982,\n",
       "       0.01940222, 0.0142684 , 0.01167182])"
      ]
     },
     "execution_count": 90,
     "metadata": {},
     "output_type": "execute_result"
    }
   ],
   "source": [
    "# The amount of variance that each PCA explains is \n",
    "var = pca.explained_variance_ratio_\n",
    "var"
   ]
  },
  {
   "cell_type": "code",
   "execution_count": 91,
   "metadata": {},
   "outputs": [
    {
     "data": {
      "text/plain": [
       "array([38.54, 56.73, 65.13, 71.99, 77.5 , 82.26, 86.55, 89.61, 92.28,\n",
       "       94.38, 96.32, 97.75, 98.92])"
      ]
     },
     "execution_count": 91,
     "metadata": {},
     "output_type": "execute_result"
    }
   ],
   "source": [
    "# Cumulative variance \n",
    "var1 = np.cumsum(np.round(var,decimals = 4)*100)\n",
    "var1"
   ]
  },
  {
   "cell_type": "code",
   "execution_count": 92,
   "metadata": {},
   "outputs": [
    {
     "data": {
      "text/plain": [
       "array([[-0.38546903,  0.23358667, -0.16854888,  0.04541663, -0.25880268,\n",
       "         0.13117307,  0.36117983,  0.39046553, -0.24605197,  0.30883263,\n",
       "         0.06394773,  0.22583018,  0.30799056,  0.30250995,  0.04361073],\n",
       "       [ 0.04592554,  0.38151268,  0.30366709,  0.32313828,  0.00574957,\n",
       "         0.38877689, -0.01819743, -0.07149159,  0.06420098, -0.04950665,\n",
       "         0.49504832, -0.2914358 , -0.22623754,  0.30154997, -0.14278657],\n",
       "       [-0.0593741 , -0.18897119,  0.01261339,  0.60462697,  0.52694645,\n",
       "         0.12682486,  0.06808837,  0.07486403,  0.05731474,  0.1072209 ,\n",
       "        -0.2407188 ,  0.16991724,  0.17465464, -0.05529988, -0.39480747],\n",
       "       [-0.10686431,  0.00179356, -0.12451641,  0.35164957, -0.02368441,\n",
       "         0.24821817, -0.03574498, -0.07463639,  0.26816964, -0.30745339,\n",
       "        -0.1422886 ,  0.30826632, -0.10796324,  0.0935668 ,  0.6915678 ],\n",
       "       [ 0.09934608, -0.14302446,  0.28608645,  0.03833249,  0.17362301,\n",
       "         0.28416029,  0.07574652,  0.05045166, -0.64186396,  0.05006734,\n",
       "        -0.13770692, -0.34382084,  0.11445179, -0.2014876 ,  0.40226369],\n",
       "       [-0.10600035,  0.09075935,  0.78164145,  0.02847341, -0.14868688,\n",
       "        -0.25780521,  0.02231635,  0.02653125,  0.33418644,  0.10593741,\n",
       "        -0.21784032,  0.00797223,  0.30782313,  0.02354426,  0.11510278],\n",
       "       [-0.1376673 , -0.0481533 ,  0.17198835, -0.16426674, -0.3604455 ,\n",
       "         0.49798128, -0.20312891, -0.12914547, -0.17858821, -0.36581822,\n",
       "        -0.33548319,  0.2389324 ,  0.03426485,  0.00881991, -0.38692758],\n",
       "       [-0.06331667,  0.44768757,  0.02842851,  0.0264137 ,  0.30957019,\n",
       "        -0.41956127, -0.25101111, -0.12855378, -0.4165828 , -0.38461191,\n",
       "         0.01477175,  0.21473201,  0.16825862,  0.21553445,  0.01006474],\n",
       "       [ 0.16044605,  0.00945263,  0.25478131, -0.04010662,  0.04323721,\n",
       "         0.01577385, -0.21461994,  0.00980488, -0.20505357,  0.48790503,\n",
       "         0.07121986,  0.59059588, -0.47050306, -0.03092625,  0.05537075],\n",
       "       [-0.23172136, -0.14914408, -0.16247721,  0.16329759, -0.13920486,\n",
       "        -0.06687895, -0.58657985, -0.19799612, -0.05368924,  0.37813993,\n",
       "        -0.22812713, -0.32154385,  0.02208087,  0.39885899,  0.0546471 ],\n",
       "       [-0.08618427,  0.44392343, -0.11039878, -0.40918135,  0.40853212,\n",
       "         0.39089718, -0.20513723, -0.08067855,  0.26958222,  0.25535654,\n",
       "        -0.09704481, -0.01145391,  0.23795415, -0.19051263,  0.08514645],\n",
       "       [-0.10446441, -0.44784655,  0.15753482, -0.41518891,  0.40263867,\n",
       "         0.099754  ,  0.1547591 , -0.01558578,  0.06640258, -0.10288673,\n",
       "         0.10719827,  0.06834999, -0.02243819,  0.60121295,  0.04405566],\n",
       "       [ 0.08505227, -0.31289103,  0.0064676 ,  0.06640624, -0.10579454,\n",
       "         0.08656708, -0.30030852, -0.14144279, -0.01129245,  0.01738563,\n",
       "         0.59793911,  0.23086002,  0.56806326, -0.15568228,  0.05784405]])"
      ]
     },
     "execution_count": 92,
     "metadata": {},
     "output_type": "execute_result"
    }
   ],
   "source": [
    "pca.components_"
   ]
  },
  {
   "cell_type": "code",
   "execution_count": 93,
   "metadata": {},
   "outputs": [
    {
     "data": {
      "text/html": [
       "<div>\n",
       "<style scoped>\n",
       "    .dataframe tbody tr th:only-of-type {\n",
       "        vertical-align: middle;\n",
       "    }\n",
       "\n",
       "    .dataframe tbody tr th {\n",
       "        vertical-align: top;\n",
       "    }\n",
       "\n",
       "    .dataframe thead th {\n",
       "        text-align: right;\n",
       "    }\n",
       "</style>\n",
       "<table border=\"1\" class=\"dataframe\">\n",
       "  <thead>\n",
       "    <tr style=\"text-align: right;\">\n",
       "      <th></th>\n",
       "      <th>0</th>\n",
       "      <th>1</th>\n",
       "      <th>2</th>\n",
       "      <th>3</th>\n",
       "      <th>4</th>\n",
       "      <th>5</th>\n",
       "      <th>6</th>\n",
       "      <th>7</th>\n",
       "      <th>8</th>\n",
       "      <th>9</th>\n",
       "      <th>10</th>\n",
       "      <th>11</th>\n",
       "      <th>12</th>\n",
       "      <th>13</th>\n",
       "      <th>14</th>\n",
       "    </tr>\n",
       "  </thead>\n",
       "  <tbody>\n",
       "    <tr>\n",
       "      <th>0</th>\n",
       "      <td>-0.385469</td>\n",
       "      <td>0.233587</td>\n",
       "      <td>-0.168549</td>\n",
       "      <td>0.045417</td>\n",
       "      <td>-0.258803</td>\n",
       "      <td>0.131173</td>\n",
       "      <td>0.361180</td>\n",
       "      <td>0.390466</td>\n",
       "      <td>-0.246052</td>\n",
       "      <td>0.308833</td>\n",
       "      <td>0.063948</td>\n",
       "      <td>0.225830</td>\n",
       "      <td>0.307991</td>\n",
       "      <td>0.302510</td>\n",
       "      <td>0.043611</td>\n",
       "    </tr>\n",
       "    <tr>\n",
       "      <th>1</th>\n",
       "      <td>0.045926</td>\n",
       "      <td>0.381513</td>\n",
       "      <td>0.303667</td>\n",
       "      <td>0.323138</td>\n",
       "      <td>0.005750</td>\n",
       "      <td>0.388777</td>\n",
       "      <td>-0.018197</td>\n",
       "      <td>-0.071492</td>\n",
       "      <td>0.064201</td>\n",
       "      <td>-0.049507</td>\n",
       "      <td>0.495048</td>\n",
       "      <td>-0.291436</td>\n",
       "      <td>-0.226238</td>\n",
       "      <td>0.301550</td>\n",
       "      <td>-0.142787</td>\n",
       "    </tr>\n",
       "    <tr>\n",
       "      <th>2</th>\n",
       "      <td>-0.059374</td>\n",
       "      <td>-0.188971</td>\n",
       "      <td>0.012613</td>\n",
       "      <td>0.604627</td>\n",
       "      <td>0.526946</td>\n",
       "      <td>0.126825</td>\n",
       "      <td>0.068088</td>\n",
       "      <td>0.074864</td>\n",
       "      <td>0.057315</td>\n",
       "      <td>0.107221</td>\n",
       "      <td>-0.240719</td>\n",
       "      <td>0.169917</td>\n",
       "      <td>0.174655</td>\n",
       "      <td>-0.055300</td>\n",
       "      <td>-0.394807</td>\n",
       "    </tr>\n",
       "    <tr>\n",
       "      <th>3</th>\n",
       "      <td>-0.106864</td>\n",
       "      <td>0.001794</td>\n",
       "      <td>-0.124516</td>\n",
       "      <td>0.351650</td>\n",
       "      <td>-0.023684</td>\n",
       "      <td>0.248218</td>\n",
       "      <td>-0.035745</td>\n",
       "      <td>-0.074636</td>\n",
       "      <td>0.268170</td>\n",
       "      <td>-0.307453</td>\n",
       "      <td>-0.142289</td>\n",
       "      <td>0.308266</td>\n",
       "      <td>-0.107963</td>\n",
       "      <td>0.093567</td>\n",
       "      <td>0.691568</td>\n",
       "    </tr>\n",
       "    <tr>\n",
       "      <th>4</th>\n",
       "      <td>0.099346</td>\n",
       "      <td>-0.143024</td>\n",
       "      <td>0.286086</td>\n",
       "      <td>0.038332</td>\n",
       "      <td>0.173623</td>\n",
       "      <td>0.284160</td>\n",
       "      <td>0.075747</td>\n",
       "      <td>0.050452</td>\n",
       "      <td>-0.641864</td>\n",
       "      <td>0.050067</td>\n",
       "      <td>-0.137707</td>\n",
       "      <td>-0.343821</td>\n",
       "      <td>0.114452</td>\n",
       "      <td>-0.201488</td>\n",
       "      <td>0.402264</td>\n",
       "    </tr>\n",
       "    <tr>\n",
       "      <th>5</th>\n",
       "      <td>-0.106000</td>\n",
       "      <td>0.090759</td>\n",
       "      <td>0.781641</td>\n",
       "      <td>0.028473</td>\n",
       "      <td>-0.148687</td>\n",
       "      <td>-0.257805</td>\n",
       "      <td>0.022316</td>\n",
       "      <td>0.026531</td>\n",
       "      <td>0.334186</td>\n",
       "      <td>0.105937</td>\n",
       "      <td>-0.217840</td>\n",
       "      <td>0.007972</td>\n",
       "      <td>0.307823</td>\n",
       "      <td>0.023544</td>\n",
       "      <td>0.115103</td>\n",
       "    </tr>\n",
       "    <tr>\n",
       "      <th>6</th>\n",
       "      <td>-0.137667</td>\n",
       "      <td>-0.048153</td>\n",
       "      <td>0.171988</td>\n",
       "      <td>-0.164267</td>\n",
       "      <td>-0.360446</td>\n",
       "      <td>0.497981</td>\n",
       "      <td>-0.203129</td>\n",
       "      <td>-0.129145</td>\n",
       "      <td>-0.178588</td>\n",
       "      <td>-0.365818</td>\n",
       "      <td>-0.335483</td>\n",
       "      <td>0.238932</td>\n",
       "      <td>0.034265</td>\n",
       "      <td>0.008820</td>\n",
       "      <td>-0.386928</td>\n",
       "    </tr>\n",
       "    <tr>\n",
       "      <th>7</th>\n",
       "      <td>-0.063317</td>\n",
       "      <td>0.447688</td>\n",
       "      <td>0.028429</td>\n",
       "      <td>0.026414</td>\n",
       "      <td>0.309570</td>\n",
       "      <td>-0.419561</td>\n",
       "      <td>-0.251011</td>\n",
       "      <td>-0.128554</td>\n",
       "      <td>-0.416583</td>\n",
       "      <td>-0.384612</td>\n",
       "      <td>0.014772</td>\n",
       "      <td>0.214732</td>\n",
       "      <td>0.168259</td>\n",
       "      <td>0.215534</td>\n",
       "      <td>0.010065</td>\n",
       "    </tr>\n",
       "    <tr>\n",
       "      <th>8</th>\n",
       "      <td>0.160446</td>\n",
       "      <td>0.009453</td>\n",
       "      <td>0.254781</td>\n",
       "      <td>-0.040107</td>\n",
       "      <td>0.043237</td>\n",
       "      <td>0.015774</td>\n",
       "      <td>-0.214620</td>\n",
       "      <td>0.009805</td>\n",
       "      <td>-0.205054</td>\n",
       "      <td>0.487905</td>\n",
       "      <td>0.071220</td>\n",
       "      <td>0.590596</td>\n",
       "      <td>-0.470503</td>\n",
       "      <td>-0.030926</td>\n",
       "      <td>0.055371</td>\n",
       "    </tr>\n",
       "    <tr>\n",
       "      <th>9</th>\n",
       "      <td>-0.231721</td>\n",
       "      <td>-0.149144</td>\n",
       "      <td>-0.162477</td>\n",
       "      <td>0.163298</td>\n",
       "      <td>-0.139205</td>\n",
       "      <td>-0.066879</td>\n",
       "      <td>-0.586580</td>\n",
       "      <td>-0.197996</td>\n",
       "      <td>-0.053689</td>\n",
       "      <td>0.378140</td>\n",
       "      <td>-0.228127</td>\n",
       "      <td>-0.321544</td>\n",
       "      <td>0.022081</td>\n",
       "      <td>0.398859</td>\n",
       "      <td>0.054647</td>\n",
       "    </tr>\n",
       "    <tr>\n",
       "      <th>10</th>\n",
       "      <td>-0.086184</td>\n",
       "      <td>0.443923</td>\n",
       "      <td>-0.110399</td>\n",
       "      <td>-0.409181</td>\n",
       "      <td>0.408532</td>\n",
       "      <td>0.390897</td>\n",
       "      <td>-0.205137</td>\n",
       "      <td>-0.080679</td>\n",
       "      <td>0.269582</td>\n",
       "      <td>0.255357</td>\n",
       "      <td>-0.097045</td>\n",
       "      <td>-0.011454</td>\n",
       "      <td>0.237954</td>\n",
       "      <td>-0.190513</td>\n",
       "      <td>0.085146</td>\n",
       "    </tr>\n",
       "    <tr>\n",
       "      <th>11</th>\n",
       "      <td>-0.104464</td>\n",
       "      <td>-0.447847</td>\n",
       "      <td>0.157535</td>\n",
       "      <td>-0.415189</td>\n",
       "      <td>0.402639</td>\n",
       "      <td>0.099754</td>\n",
       "      <td>0.154759</td>\n",
       "      <td>-0.015586</td>\n",
       "      <td>0.066403</td>\n",
       "      <td>-0.102887</td>\n",
       "      <td>0.107198</td>\n",
       "      <td>0.068350</td>\n",
       "      <td>-0.022438</td>\n",
       "      <td>0.601213</td>\n",
       "      <td>0.044056</td>\n",
       "    </tr>\n",
       "    <tr>\n",
       "      <th>12</th>\n",
       "      <td>0.085052</td>\n",
       "      <td>-0.312891</td>\n",
       "      <td>0.006468</td>\n",
       "      <td>0.066406</td>\n",
       "      <td>-0.105795</td>\n",
       "      <td>0.086567</td>\n",
       "      <td>-0.300309</td>\n",
       "      <td>-0.141443</td>\n",
       "      <td>-0.011292</td>\n",
       "      <td>0.017386</td>\n",
       "      <td>0.597939</td>\n",
       "      <td>0.230860</td>\n",
       "      <td>0.568063</td>\n",
       "      <td>-0.155682</td>\n",
       "      <td>0.057844</td>\n",
       "    </tr>\n",
       "  </tbody>\n",
       "</table>\n",
       "</div>"
      ],
      "text/plain": [
       "          0         1         2         3         4         5         6   \\\n",
       "0  -0.385469  0.233587 -0.168549  0.045417 -0.258803  0.131173  0.361180   \n",
       "1   0.045926  0.381513  0.303667  0.323138  0.005750  0.388777 -0.018197   \n",
       "2  -0.059374 -0.188971  0.012613  0.604627  0.526946  0.126825  0.068088   \n",
       "3  -0.106864  0.001794 -0.124516  0.351650 -0.023684  0.248218 -0.035745   \n",
       "4   0.099346 -0.143024  0.286086  0.038332  0.173623  0.284160  0.075747   \n",
       "5  -0.106000  0.090759  0.781641  0.028473 -0.148687 -0.257805  0.022316   \n",
       "6  -0.137667 -0.048153  0.171988 -0.164267 -0.360446  0.497981 -0.203129   \n",
       "7  -0.063317  0.447688  0.028429  0.026414  0.309570 -0.419561 -0.251011   \n",
       "8   0.160446  0.009453  0.254781 -0.040107  0.043237  0.015774 -0.214620   \n",
       "9  -0.231721 -0.149144 -0.162477  0.163298 -0.139205 -0.066879 -0.586580   \n",
       "10 -0.086184  0.443923 -0.110399 -0.409181  0.408532  0.390897 -0.205137   \n",
       "11 -0.104464 -0.447847  0.157535 -0.415189  0.402639  0.099754  0.154759   \n",
       "12  0.085052 -0.312891  0.006468  0.066406 -0.105795  0.086567 -0.300309   \n",
       "\n",
       "          7         8         9         10        11        12        13  \\\n",
       "0   0.390466 -0.246052  0.308833  0.063948  0.225830  0.307991  0.302510   \n",
       "1  -0.071492  0.064201 -0.049507  0.495048 -0.291436 -0.226238  0.301550   \n",
       "2   0.074864  0.057315  0.107221 -0.240719  0.169917  0.174655 -0.055300   \n",
       "3  -0.074636  0.268170 -0.307453 -0.142289  0.308266 -0.107963  0.093567   \n",
       "4   0.050452 -0.641864  0.050067 -0.137707 -0.343821  0.114452 -0.201488   \n",
       "5   0.026531  0.334186  0.105937 -0.217840  0.007972  0.307823  0.023544   \n",
       "6  -0.129145 -0.178588 -0.365818 -0.335483  0.238932  0.034265  0.008820   \n",
       "7  -0.128554 -0.416583 -0.384612  0.014772  0.214732  0.168259  0.215534   \n",
       "8   0.009805 -0.205054  0.487905  0.071220  0.590596 -0.470503 -0.030926   \n",
       "9  -0.197996 -0.053689  0.378140 -0.228127 -0.321544  0.022081  0.398859   \n",
       "10 -0.080679  0.269582  0.255357 -0.097045 -0.011454  0.237954 -0.190513   \n",
       "11 -0.015586  0.066403 -0.102887  0.107198  0.068350 -0.022438  0.601213   \n",
       "12 -0.141443 -0.011292  0.017386  0.597939  0.230860  0.568063 -0.155682   \n",
       "\n",
       "          14  \n",
       "0   0.043611  \n",
       "1  -0.142787  \n",
       "2  -0.394807  \n",
       "3   0.691568  \n",
       "4   0.402264  \n",
       "5   0.115103  \n",
       "6  -0.386928  \n",
       "7   0.010065  \n",
       "8   0.055371  \n",
       "9   0.054647  \n",
       "10  0.085146  \n",
       "11  0.044056  \n",
       "12  0.057844  "
      ]
     },
     "execution_count": 93,
     "metadata": {},
     "output_type": "execute_result"
    }
   ],
   "source": [
    "pd.DataFrame(pca.components_)"
   ]
  },
  {
   "cell_type": "code",
   "execution_count": 94,
   "metadata": {},
   "outputs": [
    {
     "data": {
      "text/plain": [
       "0.31471994657781827"
      ]
     },
     "execution_count": 94,
     "metadata": {},
     "output_type": "execute_result"
    }
   ],
   "source": [
    "weights=pd.DataFrame(pca.components_)\n",
    "sum(weights.iloc[:,0]**2)"
   ]
  },
  {
   "cell_type": "code",
   "execution_count": 95,
   "metadata": {},
   "outputs": [
    {
     "data": {
      "text/html": [
       "<div>\n",
       "<style scoped>\n",
       "    .dataframe tbody tr th:only-of-type {\n",
       "        vertical-align: middle;\n",
       "    }\n",
       "\n",
       "    .dataframe tbody tr th {\n",
       "        vertical-align: top;\n",
       "    }\n",
       "\n",
       "    .dataframe thead th {\n",
       "        text-align: right;\n",
       "    }\n",
       "</style>\n",
       "<table border=\"1\" class=\"dataframe\">\n",
       "  <thead>\n",
       "    <tr style=\"text-align: right;\">\n",
       "      <th></th>\n",
       "      <th>0</th>\n",
       "      <th>1</th>\n",
       "      <th>2</th>\n",
       "      <th>3</th>\n",
       "      <th>4</th>\n",
       "      <th>5</th>\n",
       "      <th>6</th>\n",
       "      <th>7</th>\n",
       "      <th>8</th>\n",
       "      <th>9</th>\n",
       "      <th>10</th>\n",
       "      <th>11</th>\n",
       "      <th>12</th>\n",
       "    </tr>\n",
       "  </thead>\n",
       "  <tbody>\n",
       "    <tr>\n",
       "      <th>0</th>\n",
       "      <td>1.000000e+00</td>\n",
       "      <td>-2.650540e-17</td>\n",
       "      <td>-7.920477e-17</td>\n",
       "      <td>-1.078935e-17</td>\n",
       "      <td>-1.313533e-16</td>\n",
       "      <td>-2.994312e-17</td>\n",
       "      <td>5.160574e-17</td>\n",
       "      <td>3.028074e-17</td>\n",
       "      <td>6.226676e-17</td>\n",
       "      <td>5.728502e-17</td>\n",
       "      <td>-3.804053e-17</td>\n",
       "      <td>-6.653894e-17</td>\n",
       "      <td>-2.125323e-17</td>\n",
       "    </tr>\n",
       "    <tr>\n",
       "      <th>1</th>\n",
       "      <td>-2.650540e-17</td>\n",
       "      <td>1.000000e+00</td>\n",
       "      <td>-2.270469e-16</td>\n",
       "      <td>8.441928e-17</td>\n",
       "      <td>-1.873740e-16</td>\n",
       "      <td>-1.884877e-17</td>\n",
       "      <td>4.966727e-17</td>\n",
       "      <td>-1.234219e-16</td>\n",
       "      <td>5.780566e-17</td>\n",
       "      <td>-1.188737e-16</td>\n",
       "      <td>7.383341e-17</td>\n",
       "      <td>1.291464e-17</td>\n",
       "      <td>0.000000e+00</td>\n",
       "    </tr>\n",
       "    <tr>\n",
       "      <th>2</th>\n",
       "      <td>-7.920477e-17</td>\n",
       "      <td>-2.270469e-16</td>\n",
       "      <td>1.000000e+00</td>\n",
       "      <td>-1.083074e-16</td>\n",
       "      <td>-2.760560e-17</td>\n",
       "      <td>2.400305e-16</td>\n",
       "      <td>4.543881e-17</td>\n",
       "      <td>-4.323111e-18</td>\n",
       "      <td>-4.425557e-17</td>\n",
       "      <td>2.068539e-16</td>\n",
       "      <td>-1.126924e-16</td>\n",
       "      <td>-5.937258e-17</td>\n",
       "      <td>3.501087e-18</td>\n",
       "    </tr>\n",
       "    <tr>\n",
       "      <th>3</th>\n",
       "      <td>-1.078935e-17</td>\n",
       "      <td>8.441928e-17</td>\n",
       "      <td>-1.083074e-16</td>\n",
       "      <td>1.000000e+00</td>\n",
       "      <td>8.095633e-17</td>\n",
       "      <td>-3.117005e-17</td>\n",
       "      <td>1.250969e-17</td>\n",
       "      <td>-1.190219e-16</td>\n",
       "      <td>3.243849e-16</td>\n",
       "      <td>-5.723626e-17</td>\n",
       "      <td>-1.840857e-17</td>\n",
       "      <td>1.524549e-16</td>\n",
       "      <td>-9.687470e-19</td>\n",
       "    </tr>\n",
       "    <tr>\n",
       "      <th>4</th>\n",
       "      <td>-1.313533e-16</td>\n",
       "      <td>-1.873740e-16</td>\n",
       "      <td>-2.760560e-17</td>\n",
       "      <td>8.095633e-17</td>\n",
       "      <td>1.000000e+00</td>\n",
       "      <td>-3.800602e-16</td>\n",
       "      <td>2.371096e-16</td>\n",
       "      <td>-7.277302e-17</td>\n",
       "      <td>1.387029e-16</td>\n",
       "      <td>-1.203251e-16</td>\n",
       "      <td>-1.677467e-17</td>\n",
       "      <td>-4.107820e-17</td>\n",
       "      <td>-1.032723e-16</td>\n",
       "    </tr>\n",
       "    <tr>\n",
       "      <th>5</th>\n",
       "      <td>-2.994312e-17</td>\n",
       "      <td>-1.884877e-17</td>\n",
       "      <td>2.400305e-16</td>\n",
       "      <td>-3.117005e-17</td>\n",
       "      <td>-3.800602e-16</td>\n",
       "      <td>1.000000e+00</td>\n",
       "      <td>4.331013e-16</td>\n",
       "      <td>2.038507e-16</td>\n",
       "      <td>-8.289241e-17</td>\n",
       "      <td>-2.002183e-16</td>\n",
       "      <td>2.064949e-16</td>\n",
       "      <td>2.886386e-16</td>\n",
       "      <td>-1.697396e-16</td>\n",
       "    </tr>\n",
       "    <tr>\n",
       "      <th>6</th>\n",
       "      <td>5.160574e-17</td>\n",
       "      <td>4.966727e-17</td>\n",
       "      <td>4.543881e-17</td>\n",
       "      <td>1.250969e-17</td>\n",
       "      <td>2.371096e-16</td>\n",
       "      <td>4.331013e-16</td>\n",
       "      <td>1.000000e+00</td>\n",
       "      <td>-7.716871e-17</td>\n",
       "      <td>3.512514e-16</td>\n",
       "      <td>-7.399871e-17</td>\n",
       "      <td>8.126195e-17</td>\n",
       "      <td>-1.933992e-16</td>\n",
       "      <td>4.105087e-17</td>\n",
       "    </tr>\n",
       "    <tr>\n",
       "      <th>7</th>\n",
       "      <td>3.028074e-17</td>\n",
       "      <td>-1.234219e-16</td>\n",
       "      <td>-4.323111e-18</td>\n",
       "      <td>-1.190219e-16</td>\n",
       "      <td>-7.277302e-17</td>\n",
       "      <td>2.038507e-16</td>\n",
       "      <td>-7.716871e-17</td>\n",
       "      <td>1.000000e+00</td>\n",
       "      <td>-2.824864e-16</td>\n",
       "      <td>3.567431e-16</td>\n",
       "      <td>-4.611132e-16</td>\n",
       "      <td>-3.436079e-16</td>\n",
       "      <td>2.291064e-16</td>\n",
       "    </tr>\n",
       "    <tr>\n",
       "      <th>8</th>\n",
       "      <td>6.226676e-17</td>\n",
       "      <td>5.780566e-17</td>\n",
       "      <td>-4.425557e-17</td>\n",
       "      <td>3.243849e-16</td>\n",
       "      <td>1.387029e-16</td>\n",
       "      <td>-8.289241e-17</td>\n",
       "      <td>3.512514e-16</td>\n",
       "      <td>-2.824864e-16</td>\n",
       "      <td>1.000000e+00</td>\n",
       "      <td>-2.566288e-16</td>\n",
       "      <td>-1.294292e-16</td>\n",
       "      <td>-2.070875e-16</td>\n",
       "      <td>-1.835614e-16</td>\n",
       "    </tr>\n",
       "    <tr>\n",
       "      <th>9</th>\n",
       "      <td>5.728502e-17</td>\n",
       "      <td>-1.188737e-16</td>\n",
       "      <td>2.068539e-16</td>\n",
       "      <td>-5.723626e-17</td>\n",
       "      <td>-1.203251e-16</td>\n",
       "      <td>-2.002183e-16</td>\n",
       "      <td>-7.399871e-17</td>\n",
       "      <td>3.567431e-16</td>\n",
       "      <td>-2.566288e-16</td>\n",
       "      <td>1.000000e+00</td>\n",
       "      <td>3.469865e-16</td>\n",
       "      <td>3.135632e-16</td>\n",
       "      <td>-3.221780e-16</td>\n",
       "    </tr>\n",
       "    <tr>\n",
       "      <th>10</th>\n",
       "      <td>-3.804053e-17</td>\n",
       "      <td>7.383341e-17</td>\n",
       "      <td>-1.126924e-16</td>\n",
       "      <td>-1.840857e-17</td>\n",
       "      <td>-1.677467e-17</td>\n",
       "      <td>2.064949e-16</td>\n",
       "      <td>8.126195e-17</td>\n",
       "      <td>-4.611132e-16</td>\n",
       "      <td>-1.294292e-16</td>\n",
       "      <td>3.469865e-16</td>\n",
       "      <td>1.000000e+00</td>\n",
       "      <td>3.954150e-17</td>\n",
       "      <td>-2.805310e-16</td>\n",
       "    </tr>\n",
       "    <tr>\n",
       "      <th>11</th>\n",
       "      <td>-6.653894e-17</td>\n",
       "      <td>1.291464e-17</td>\n",
       "      <td>-5.937258e-17</td>\n",
       "      <td>1.524549e-16</td>\n",
       "      <td>-4.107820e-17</td>\n",
       "      <td>2.886386e-16</td>\n",
       "      <td>-1.933992e-16</td>\n",
       "      <td>-3.436079e-16</td>\n",
       "      <td>-2.070875e-16</td>\n",
       "      <td>3.135632e-16</td>\n",
       "      <td>3.954150e-17</td>\n",
       "      <td>1.000000e+00</td>\n",
       "      <td>-6.797485e-17</td>\n",
       "    </tr>\n",
       "    <tr>\n",
       "      <th>12</th>\n",
       "      <td>-2.125323e-17</td>\n",
       "      <td>0.000000e+00</td>\n",
       "      <td>3.501087e-18</td>\n",
       "      <td>-9.687470e-19</td>\n",
       "      <td>-1.032723e-16</td>\n",
       "      <td>-1.697396e-16</td>\n",
       "      <td>4.105087e-17</td>\n",
       "      <td>2.291064e-16</td>\n",
       "      <td>-1.835614e-16</td>\n",
       "      <td>-3.221780e-16</td>\n",
       "      <td>-2.805310e-16</td>\n",
       "      <td>-6.797485e-17</td>\n",
       "      <td>1.000000e+00</td>\n",
       "    </tr>\n",
       "  </tbody>\n",
       "</table>\n",
       "</div>"
      ],
      "text/plain": [
       "              0             1             2             3             4   \\\n",
       "0   1.000000e+00 -2.650540e-17 -7.920477e-17 -1.078935e-17 -1.313533e-16   \n",
       "1  -2.650540e-17  1.000000e+00 -2.270469e-16  8.441928e-17 -1.873740e-16   \n",
       "2  -7.920477e-17 -2.270469e-16  1.000000e+00 -1.083074e-16 -2.760560e-17   \n",
       "3  -1.078935e-17  8.441928e-17 -1.083074e-16  1.000000e+00  8.095633e-17   \n",
       "4  -1.313533e-16 -1.873740e-16 -2.760560e-17  8.095633e-17  1.000000e+00   \n",
       "5  -2.994312e-17 -1.884877e-17  2.400305e-16 -3.117005e-17 -3.800602e-16   \n",
       "6   5.160574e-17  4.966727e-17  4.543881e-17  1.250969e-17  2.371096e-16   \n",
       "7   3.028074e-17 -1.234219e-16 -4.323111e-18 -1.190219e-16 -7.277302e-17   \n",
       "8   6.226676e-17  5.780566e-17 -4.425557e-17  3.243849e-16  1.387029e-16   \n",
       "9   5.728502e-17 -1.188737e-16  2.068539e-16 -5.723626e-17 -1.203251e-16   \n",
       "10 -3.804053e-17  7.383341e-17 -1.126924e-16 -1.840857e-17 -1.677467e-17   \n",
       "11 -6.653894e-17  1.291464e-17 -5.937258e-17  1.524549e-16 -4.107820e-17   \n",
       "12 -2.125323e-17  0.000000e+00  3.501087e-18 -9.687470e-19 -1.032723e-16   \n",
       "\n",
       "              5             6             7             8             9   \\\n",
       "0  -2.994312e-17  5.160574e-17  3.028074e-17  6.226676e-17  5.728502e-17   \n",
       "1  -1.884877e-17  4.966727e-17 -1.234219e-16  5.780566e-17 -1.188737e-16   \n",
       "2   2.400305e-16  4.543881e-17 -4.323111e-18 -4.425557e-17  2.068539e-16   \n",
       "3  -3.117005e-17  1.250969e-17 -1.190219e-16  3.243849e-16 -5.723626e-17   \n",
       "4  -3.800602e-16  2.371096e-16 -7.277302e-17  1.387029e-16 -1.203251e-16   \n",
       "5   1.000000e+00  4.331013e-16  2.038507e-16 -8.289241e-17 -2.002183e-16   \n",
       "6   4.331013e-16  1.000000e+00 -7.716871e-17  3.512514e-16 -7.399871e-17   \n",
       "7   2.038507e-16 -7.716871e-17  1.000000e+00 -2.824864e-16  3.567431e-16   \n",
       "8  -8.289241e-17  3.512514e-16 -2.824864e-16  1.000000e+00 -2.566288e-16   \n",
       "9  -2.002183e-16 -7.399871e-17  3.567431e-16 -2.566288e-16  1.000000e+00   \n",
       "10  2.064949e-16  8.126195e-17 -4.611132e-16 -1.294292e-16  3.469865e-16   \n",
       "11  2.886386e-16 -1.933992e-16 -3.436079e-16 -2.070875e-16  3.135632e-16   \n",
       "12 -1.697396e-16  4.105087e-17  2.291064e-16 -1.835614e-16 -3.221780e-16   \n",
       "\n",
       "              10            11            12  \n",
       "0  -3.804053e-17 -6.653894e-17 -2.125323e-17  \n",
       "1   7.383341e-17  1.291464e-17  0.000000e+00  \n",
       "2  -1.126924e-16 -5.937258e-17  3.501087e-18  \n",
       "3  -1.840857e-17  1.524549e-16 -9.687470e-19  \n",
       "4  -1.677467e-17 -4.107820e-17 -1.032723e-16  \n",
       "5   2.064949e-16  2.886386e-16 -1.697396e-16  \n",
       "6   8.126195e-17 -1.933992e-16  4.105087e-17  \n",
       "7  -4.611132e-16 -3.436079e-16  2.291064e-16  \n",
       "8  -1.294292e-16 -2.070875e-16 -1.835614e-16  \n",
       "9   3.469865e-16  3.135632e-16 -3.221780e-16  \n",
       "10  1.000000e+00  3.954150e-17 -2.805310e-16  \n",
       "11  3.954150e-17  1.000000e+00 -6.797485e-17  \n",
       "12 -2.805310e-16 -6.797485e-17  1.000000e+00  "
      ]
     },
     "execution_count": 95,
     "metadata": {},
     "output_type": "execute_result"
    }
   ],
   "source": [
    "pca_values1.corr()"
   ]
  },
  {
   "cell_type": "code",
   "execution_count": 96,
   "metadata": {},
   "outputs": [
    {
     "data": {
      "text/plain": [
       "[<matplotlib.lines.Line2D at 0x204e293e490>]"
      ]
     },
     "execution_count": 96,
     "metadata": {},
     "output_type": "execute_result"
    },
    {
     "data": {
      "image/png": "[encoded data removed]",
      "text/plain": [
       "<Figure size 432x288 with 1 Axes>"
      ]
     },
     "metadata": {
      "needs_background": "light"
     },
     "output_type": "display_data"
    }
   ],
   "source": [
    "# Variance plot for PCA components obtained \n",
    "plt.plot(var1,color=\"red\")"
   ]
  },
  {
   "cell_type": "code",
   "execution_count": 97,
   "metadata": {},
   "outputs": [
    {
     "data": {
      "text/plain": [
       "<AxesSubplot:>"
      ]
     },
     "execution_count": 97,
     "metadata": {},
     "output_type": "execute_result"
    },
    {
     "data": {
      "image/png": "[encoded data removed]",
      "text/plain": [
       "<Figure size 432x288 with 1 Axes>"
      ]
     },
     "metadata": {
      "needs_background": "light"
     },
     "output_type": "display_data"
    }
   ],
   "source": [
    "pd.Series(var).plot(kind=\"bar\")"
   ]
  },
  {
   "cell_type": "code",
   "execution_count": 98,
   "metadata": {},
   "outputs": [
    {
     "data": {
      "text/plain": [
       "array([[ 3.47434101],\n",
       "       [ 2.16039948],\n",
       "       [ 2.59489584],\n",
       "       [ 4.06550497],\n",
       "       [ 1.13166957],\n",
       "       [ 3.35037891],\n",
       "       [ 2.66254436],\n",
       "       [ 2.18428972],\n",
       "       [ 2.71226233],\n",
       "       [ 2.92198553],\n",
       "       [ 3.54626757],\n",
       "       [ 1.88802975],\n",
       "       [ 2.25534529],\n",
       "       [ 3.76014457],\n",
       "       [ 4.68258249],\n",
       "       [ 2.5601344 ],\n",
       "       [ 2.46434344],\n",
       "       [ 2.12455779],\n",
       "       [ 3.91438832],\n",
       "       [ 2.22573417],\n",
       "       [ 3.30820077],\n",
       "       [ 2.42720597],\n",
       "       [ 1.59979297],\n",
       "       [ 1.62987435],\n",
       "       [ 1.93827858],\n",
       "       [ 1.1458003 ],\n",
       "       [ 2.2550067 ],\n",
       "       [ 2.31141153],\n",
       "       [ 2.58165452],\n",
       "       [ 2.82119173],\n",
       "       [ 1.63852575],\n",
       "       [ 2.14712211],\n",
       "       [ 1.52996844],\n",
       "       [ 1.86145509],\n",
       "       [ 1.50870136],\n",
       "       [ 1.19928885],\n",
       "       [ 1.37368756],\n",
       "       [ 2.72511595],\n",
       "       [ 3.15357236],\n",
       "       [ 2.04025114],\n",
       "       [ 2.73720457],\n",
       "       [ 2.94027151],\n",
       "       [ 2.20508006],\n",
       "       [ 3.02601511],\n",
       "       [ 3.34127611],\n",
       "       [ 2.98650255],\n",
       "       [ 3.734542  ],\n",
       "       [ 2.4068911 ],\n",
       "       [ 2.31827303],\n",
       "       [ 2.53018523],\n",
       "       [ 2.9971677 ],\n",
       "       [ 2.36066544],\n",
       "       [ 3.2922105 ],\n",
       "       [-2.01166581],\n",
       "       [-2.09987758],\n",
       "       [-0.48161573],\n",
       "       [ 1.31653334],\n",
       "       [-1.22803068],\n",
       "       [ 0.47726667],\n",
       "       [ 1.68779309],\n",
       "       [-0.52288665],\n",
       "       [-1.20356402],\n",
       "       [-2.19787699],\n",
       "       [ 0.90156654],\n",
       "       [-1.30576136],\n",
       "       [ 0.98132868],\n",
       "       [-1.63573299],\n",
       "       [-0.27572827],\n",
       "       [-2.23486365],\n",
       "       [-0.12156879],\n",
       "       [ 0.38041389],\n",
       "       [-1.28474064],\n",
       "       [ 0.22729228],\n",
       "       [-0.00710893],\n",
       "       [-1.53984139],\n",
       "       [-1.51794824],\n",
       "       [-1.92406597],\n",
       "       [-1.41735766],\n",
       "       [-1.9503628 ],\n",
       "       [-2.220111  ],\n",
       "       [-2.39026124],\n",
       "       [-0.09755484],\n",
       "       [ 0.10036589],\n",
       "       [-1.30219094],\n",
       "       [ 0.27880806],\n",
       "       [ 1.46481774],\n",
       "       [ 0.60366353],\n",
       "       [-0.06068047],\n",
       "       [-1.25337042],\n",
       "       [-0.87686436],\n",
       "       [-1.50041383],\n",
       "       [-0.50362623],\n",
       "       [-2.48277796],\n",
       "       [-1.02421317],\n",
       "       [-2.12895115],\n",
       "       [-0.62280862],\n",
       "       [ 0.73846459],\n",
       "       [-1.20099534],\n",
       "       [-1.90812833],\n",
       "       [-1.25037376],\n",
       "       [-1.31540159],\n",
       "       [-1.24042799],\n",
       "       [-0.98353885],\n",
       "       [-2.9032052 ],\n",
       "       [-1.44278314],\n",
       "       [-0.0219473 ],\n",
       "       [-0.86862409],\n",
       "       [-0.6423424 ],\n",
       "       [-1.326524  ],\n",
       "       [-2.1611668 ],\n",
       "       [-3.21385693],\n",
       "       [-3.75839152],\n",
       "       [-3.21405079],\n",
       "       [-3.06614723],\n",
       "       [-3.76444597],\n",
       "       [-3.89724948],\n",
       "       [-3.36114565],\n",
       "       [-3.65972982],\n",
       "       [-3.14847839],\n",
       "       [-3.88601303],\n",
       "       [-3.59349756],\n",
       "       [-3.40810079],\n",
       "       [-2.89557233],\n",
       "       [-2.52824532],\n",
       "       [-3.38344879],\n",
       "       [-4.14942394],\n",
       "       [-2.99922768],\n",
       "       [-3.69276639],\n",
       "       [-3.44652312],\n",
       "       [-3.4436321 ],\n",
       "       [-2.73256959],\n",
       "       [-4.12813972],\n",
       "       [-4.175913  ],\n",
       "       [-2.83001187],\n",
       "       [-2.84404257]])"
      ]
     },
     "execution_count": 98,
     "metadata": {},
     "output_type": "execute_result"
    }
   ],
   "source": [
    " pca_values[:,0:1]"
   ]
  },
  {
   "cell_type": "code",
   "execution_count": 99,
   "metadata": {},
   "outputs": [
    {
     "data": {
      "text/plain": [
       "<matplotlib.collections.PathCollection at 0x204e002b310>"
      ]
     },
     "execution_count": 99,
     "metadata": {},
     "output_type": "execute_result"
    },
    {
     "data": {
      "image/png": "[encoded data removed]",
      "text/plain": [
       "<Figure size 432x288 with 1 Axes>"
      ]
     },
     "metadata": {
      "needs_background": "light"
     },
     "output_type": "display_data"
    }
   ],
   "source": [
    "# plot between PCA1 and PCA2 \n",
    "x = pca_values[:,0]\n",
    "y = pca_values[:,1]\n",
    "plt.scatter(x,y)"
   ]
  },
  {
   "cell_type": "code",
   "execution_count": 100,
   "metadata": {},
   "outputs": [],
   "source": [
    "finalDf = pd.concat([pd.DataFrame(pca_values[:,0:2],columns=['pc1','pc2']), w[['Type']]], axis = 1)"
   ]
  },
  {
   "cell_type": "code",
   "execution_count": 101,
   "metadata": {},
   "outputs": [
    {
     "data": {
      "text/plain": [
       "<AxesSubplot:xlabel='pc1', ylabel='pc2'>"
      ]
     },
     "execution_count": 101,
     "metadata": {},
     "output_type": "execute_result"
    },
    {
     "data": {
      "image/png": "[encoded data removed]",
      "text/plain": [
       "<Figure size 432x288 with 1 Axes>"
      ]
     },
     "metadata": {
      "needs_background": "light"
     },
     "output_type": "display_data"
    }
   ],
   "source": [
    "import seaborn as sns\n",
    "sns.scatterplot(data=finalDf,x='pc1',y='pc2',hue='Type')"
   ]
  },
  {
   "cell_type": "code",
   "execution_count": 102,
   "metadata": {},
   "outputs": [
    {
     "data": {
      "text/html": [
       "<div>\n",
       "<style scoped>\n",
       "    .dataframe tbody tr th:only-of-type {\n",
       "        vertical-align: middle;\n",
       "    }\n",
       "\n",
       "    .dataframe tbody tr th {\n",
       "        vertical-align: top;\n",
       "    }\n",
       "\n",
       "    .dataframe thead th {\n",
       "        text-align: right;\n",
       "    }\n",
       "</style>\n",
       "<table border=\"1\" class=\"dataframe\">\n",
       "  <thead>\n",
       "    <tr style=\"text-align: right;\">\n",
       "      <th></th>\n",
       "      <th>0</th>\n",
       "      <th>1</th>\n",
       "      <th>2</th>\n",
       "      <th>3</th>\n",
       "      <th>4</th>\n",
       "      <th>5</th>\n",
       "      <th>6</th>\n",
       "      <th>7</th>\n",
       "      <th>8</th>\n",
       "      <th>9</th>\n",
       "      <th>10</th>\n",
       "      <th>11</th>\n",
       "      <th>12</th>\n",
       "      <th>13</th>\n",
       "      <th>14</th>\n",
       "    </tr>\n",
       "  </thead>\n",
       "  <tbody>\n",
       "    <tr>\n",
       "      <th>0</th>\n",
       "      <td>-0.385469</td>\n",
       "      <td>0.233587</td>\n",
       "      <td>-0.168549</td>\n",
       "      <td>0.045417</td>\n",
       "      <td>-0.258803</td>\n",
       "      <td>0.131173</td>\n",
       "      <td>0.361180</td>\n",
       "      <td>0.390466</td>\n",
       "      <td>-0.246052</td>\n",
       "      <td>0.308833</td>\n",
       "      <td>0.063948</td>\n",
       "      <td>0.225830</td>\n",
       "      <td>0.307991</td>\n",
       "      <td>0.302510</td>\n",
       "      <td>0.043611</td>\n",
       "    </tr>\n",
       "    <tr>\n",
       "      <th>1</th>\n",
       "      <td>0.045926</td>\n",
       "      <td>0.381513</td>\n",
       "      <td>0.303667</td>\n",
       "      <td>0.323138</td>\n",
       "      <td>0.005750</td>\n",
       "      <td>0.388777</td>\n",
       "      <td>-0.018197</td>\n",
       "      <td>-0.071492</td>\n",
       "      <td>0.064201</td>\n",
       "      <td>-0.049507</td>\n",
       "      <td>0.495048</td>\n",
       "      <td>-0.291436</td>\n",
       "      <td>-0.226238</td>\n",
       "      <td>0.301550</td>\n",
       "      <td>-0.142787</td>\n",
       "    </tr>\n",
       "    <tr>\n",
       "      <th>2</th>\n",
       "      <td>-0.059374</td>\n",
       "      <td>-0.188971</td>\n",
       "      <td>0.012613</td>\n",
       "      <td>0.604627</td>\n",
       "      <td>0.526946</td>\n",
       "      <td>0.126825</td>\n",
       "      <td>0.068088</td>\n",
       "      <td>0.074864</td>\n",
       "      <td>0.057315</td>\n",
       "      <td>0.107221</td>\n",
       "      <td>-0.240719</td>\n",
       "      <td>0.169917</td>\n",
       "      <td>0.174655</td>\n",
       "      <td>-0.055300</td>\n",
       "      <td>-0.394807</td>\n",
       "    </tr>\n",
       "    <tr>\n",
       "      <th>3</th>\n",
       "      <td>-0.106864</td>\n",
       "      <td>0.001794</td>\n",
       "      <td>-0.124516</td>\n",
       "      <td>0.351650</td>\n",
       "      <td>-0.023684</td>\n",
       "      <td>0.248218</td>\n",
       "      <td>-0.035745</td>\n",
       "      <td>-0.074636</td>\n",
       "      <td>0.268170</td>\n",
       "      <td>-0.307453</td>\n",
       "      <td>-0.142289</td>\n",
       "      <td>0.308266</td>\n",
       "      <td>-0.107963</td>\n",
       "      <td>0.093567</td>\n",
       "      <td>0.691568</td>\n",
       "    </tr>\n",
       "    <tr>\n",
       "      <th>4</th>\n",
       "      <td>0.099346</td>\n",
       "      <td>-0.143024</td>\n",
       "      <td>0.286086</td>\n",
       "      <td>0.038332</td>\n",
       "      <td>0.173623</td>\n",
       "      <td>0.284160</td>\n",
       "      <td>0.075747</td>\n",
       "      <td>0.050452</td>\n",
       "      <td>-0.641864</td>\n",
       "      <td>0.050067</td>\n",
       "      <td>-0.137707</td>\n",
       "      <td>-0.343821</td>\n",
       "      <td>0.114452</td>\n",
       "      <td>-0.201488</td>\n",
       "      <td>0.402264</td>\n",
       "    </tr>\n",
       "    <tr>\n",
       "      <th>5</th>\n",
       "      <td>-0.106000</td>\n",
       "      <td>0.090759</td>\n",
       "      <td>0.781641</td>\n",
       "      <td>0.028473</td>\n",
       "      <td>-0.148687</td>\n",
       "      <td>-0.257805</td>\n",
       "      <td>0.022316</td>\n",
       "      <td>0.026531</td>\n",
       "      <td>0.334186</td>\n",
       "      <td>0.105937</td>\n",
       "      <td>-0.217840</td>\n",
       "      <td>0.007972</td>\n",
       "      <td>0.307823</td>\n",
       "      <td>0.023544</td>\n",
       "      <td>0.115103</td>\n",
       "    </tr>\n",
       "    <tr>\n",
       "      <th>6</th>\n",
       "      <td>-0.137667</td>\n",
       "      <td>-0.048153</td>\n",
       "      <td>0.171988</td>\n",
       "      <td>-0.164267</td>\n",
       "      <td>-0.360446</td>\n",
       "      <td>0.497981</td>\n",
       "      <td>-0.203129</td>\n",
       "      <td>-0.129145</td>\n",
       "      <td>-0.178588</td>\n",
       "      <td>-0.365818</td>\n",
       "      <td>-0.335483</td>\n",
       "      <td>0.238932</td>\n",
       "      <td>0.034265</td>\n",
       "      <td>0.008820</td>\n",
       "      <td>-0.386928</td>\n",
       "    </tr>\n",
       "    <tr>\n",
       "      <th>7</th>\n",
       "      <td>-0.063317</td>\n",
       "      <td>0.447688</td>\n",
       "      <td>0.028429</td>\n",
       "      <td>0.026414</td>\n",
       "      <td>0.309570</td>\n",
       "      <td>-0.419561</td>\n",
       "      <td>-0.251011</td>\n",
       "      <td>-0.128554</td>\n",
       "      <td>-0.416583</td>\n",
       "      <td>-0.384612</td>\n",
       "      <td>0.014772</td>\n",
       "      <td>0.214732</td>\n",
       "      <td>0.168259</td>\n",
       "      <td>0.215534</td>\n",
       "      <td>0.010065</td>\n",
       "    </tr>\n",
       "    <tr>\n",
       "      <th>8</th>\n",
       "      <td>0.160446</td>\n",
       "      <td>0.009453</td>\n",
       "      <td>0.254781</td>\n",
       "      <td>-0.040107</td>\n",
       "      <td>0.043237</td>\n",
       "      <td>0.015774</td>\n",
       "      <td>-0.214620</td>\n",
       "      <td>0.009805</td>\n",
       "      <td>-0.205054</td>\n",
       "      <td>0.487905</td>\n",
       "      <td>0.071220</td>\n",
       "      <td>0.590596</td>\n",
       "      <td>-0.470503</td>\n",
       "      <td>-0.030926</td>\n",
       "      <td>0.055371</td>\n",
       "    </tr>\n",
       "    <tr>\n",
       "      <th>9</th>\n",
       "      <td>-0.231721</td>\n",
       "      <td>-0.149144</td>\n",
       "      <td>-0.162477</td>\n",
       "      <td>0.163298</td>\n",
       "      <td>-0.139205</td>\n",
       "      <td>-0.066879</td>\n",
       "      <td>-0.586580</td>\n",
       "      <td>-0.197996</td>\n",
       "      <td>-0.053689</td>\n",
       "      <td>0.378140</td>\n",
       "      <td>-0.228127</td>\n",
       "      <td>-0.321544</td>\n",
       "      <td>0.022081</td>\n",
       "      <td>0.398859</td>\n",
       "      <td>0.054647</td>\n",
       "    </tr>\n",
       "    <tr>\n",
       "      <th>10</th>\n",
       "      <td>-0.086184</td>\n",
       "      <td>0.443923</td>\n",
       "      <td>-0.110399</td>\n",
       "      <td>-0.409181</td>\n",
       "      <td>0.408532</td>\n",
       "      <td>0.390897</td>\n",
       "      <td>-0.205137</td>\n",
       "      <td>-0.080679</td>\n",
       "      <td>0.269582</td>\n",
       "      <td>0.255357</td>\n",
       "      <td>-0.097045</td>\n",
       "      <td>-0.011454</td>\n",
       "      <td>0.237954</td>\n",
       "      <td>-0.190513</td>\n",
       "      <td>0.085146</td>\n",
       "    </tr>\n",
       "    <tr>\n",
       "      <th>11</th>\n",
       "      <td>-0.104464</td>\n",
       "      <td>-0.447847</td>\n",
       "      <td>0.157535</td>\n",
       "      <td>-0.415189</td>\n",
       "      <td>0.402639</td>\n",
       "      <td>0.099754</td>\n",
       "      <td>0.154759</td>\n",
       "      <td>-0.015586</td>\n",
       "      <td>0.066403</td>\n",
       "      <td>-0.102887</td>\n",
       "      <td>0.107198</td>\n",
       "      <td>0.068350</td>\n",
       "      <td>-0.022438</td>\n",
       "      <td>0.601213</td>\n",
       "      <td>0.044056</td>\n",
       "    </tr>\n",
       "    <tr>\n",
       "      <th>12</th>\n",
       "      <td>0.085052</td>\n",
       "      <td>-0.312891</td>\n",
       "      <td>0.006468</td>\n",
       "      <td>0.066406</td>\n",
       "      <td>-0.105795</td>\n",
       "      <td>0.086567</td>\n",
       "      <td>-0.300309</td>\n",
       "      <td>-0.141443</td>\n",
       "      <td>-0.011292</td>\n",
       "      <td>0.017386</td>\n",
       "      <td>0.597939</td>\n",
       "      <td>0.230860</td>\n",
       "      <td>0.568063</td>\n",
       "      <td>-0.155682</td>\n",
       "      <td>0.057844</td>\n",
       "    </tr>\n",
       "  </tbody>\n",
       "</table>\n",
       "</div>"
      ],
      "text/plain": [
       "          0         1         2         3         4         5         6   \\\n",
       "0  -0.385469  0.233587 -0.168549  0.045417 -0.258803  0.131173  0.361180   \n",
       "1   0.045926  0.381513  0.303667  0.323138  0.005750  0.388777 -0.018197   \n",
       "2  -0.059374 -0.188971  0.012613  0.604627  0.526946  0.126825  0.068088   \n",
       "3  -0.106864  0.001794 -0.124516  0.351650 -0.023684  0.248218 -0.035745   \n",
       "4   0.099346 -0.143024  0.286086  0.038332  0.173623  0.284160  0.075747   \n",
       "5  -0.106000  0.090759  0.781641  0.028473 -0.148687 -0.257805  0.022316   \n",
       "6  -0.137667 -0.048153  0.171988 -0.164267 -0.360446  0.497981 -0.203129   \n",
       "7  -0.063317  0.447688  0.028429  0.026414  0.309570 -0.419561 -0.251011   \n",
       "8   0.160446  0.009453  0.254781 -0.040107  0.043237  0.015774 -0.214620   \n",
       "9  -0.231721 -0.149144 -0.162477  0.163298 -0.139205 -0.066879 -0.586580   \n",
       "10 -0.086184  0.443923 -0.110399 -0.409181  0.408532  0.390897 -0.205137   \n",
       "11 -0.104464 -0.447847  0.157535 -0.415189  0.402639  0.099754  0.154759   \n",
       "12  0.085052 -0.312891  0.006468  0.066406 -0.105795  0.086567 -0.300309   \n",
       "\n",
       "          7         8         9         10        11        12        13  \\\n",
       "0   0.390466 -0.246052  0.308833  0.063948  0.225830  0.307991  0.302510   \n",
       "1  -0.071492  0.064201 -0.049507  0.495048 -0.291436 -0.226238  0.301550   \n",
       "2   0.074864  0.057315  0.107221 -0.240719  0.169917  0.174655 -0.055300   \n",
       "3  -0.074636  0.268170 -0.307453 -0.142289  0.308266 -0.107963  0.093567   \n",
       "4   0.050452 -0.641864  0.050067 -0.137707 -0.343821  0.114452 -0.201488   \n",
       "5   0.026531  0.334186  0.105937 -0.217840  0.007972  0.307823  0.023544   \n",
       "6  -0.129145 -0.178588 -0.365818 -0.335483  0.238932  0.034265  0.008820   \n",
       "7  -0.128554 -0.416583 -0.384612  0.014772  0.214732  0.168259  0.215534   \n",
       "8   0.009805 -0.205054  0.487905  0.071220  0.590596 -0.470503 -0.030926   \n",
       "9  -0.197996 -0.053689  0.378140 -0.228127 -0.321544  0.022081  0.398859   \n",
       "10 -0.080679  0.269582  0.255357 -0.097045 -0.011454  0.237954 -0.190513   \n",
       "11 -0.015586  0.066403 -0.102887  0.107198  0.068350 -0.022438  0.601213   \n",
       "12 -0.141443 -0.011292  0.017386  0.597939  0.230860  0.568063 -0.155682   \n",
       "\n",
       "          14  \n",
       "0   0.043611  \n",
       "1  -0.142787  \n",
       "2  -0.394807  \n",
       "3   0.691568  \n",
       "4   0.402264  \n",
       "5   0.115103  \n",
       "6  -0.386928  \n",
       "7   0.010065  \n",
       "8   0.055371  \n",
       "9   0.054647  \n",
       "10  0.085146  \n",
       "11  0.044056  \n",
       "12  0.057844  "
      ]
     },
     "execution_count": 102,
     "metadata": {},
     "output_type": "execute_result"
    }
   ],
   "source": [
    "pca1 = pd.DataFrame(pca.components_)\n",
    "pca1"
   ]
  },
  {
   "cell_type": "code",
   "execution_count": 103,
   "metadata": {},
   "outputs": [
    {
     "data": {
      "text/html": [
       "<div>\n",
       "<style scoped>\n",
       "    .dataframe tbody tr th:only-of-type {\n",
       "        vertical-align: middle;\n",
       "    }\n",
       "\n",
       "    .dataframe tbody tr th {\n",
       "        vertical-align: top;\n",
       "    }\n",
       "\n",
       "    .dataframe thead th {\n",
       "        text-align: right;\n",
       "    }\n",
       "</style>\n",
       "<table border=\"1\" class=\"dataframe\">\n",
       "  <thead>\n",
       "    <tr style=\"text-align: right;\">\n",
       "      <th></th>\n",
       "      <th>0</th>\n",
       "      <th>1</th>\n",
       "      <th>2</th>\n",
       "    </tr>\n",
       "  </thead>\n",
       "  <tbody>\n",
       "    <tr>\n",
       "      <th>0</th>\n",
       "      <td>-0.385469</td>\n",
       "      <td>0.233587</td>\n",
       "      <td>-0.168549</td>\n",
       "    </tr>\n",
       "    <tr>\n",
       "      <th>1</th>\n",
       "      <td>0.045926</td>\n",
       "      <td>0.381513</td>\n",
       "      <td>0.303667</td>\n",
       "    </tr>\n",
       "    <tr>\n",
       "      <th>2</th>\n",
       "      <td>-0.059374</td>\n",
       "      <td>-0.188971</td>\n",
       "      <td>0.012613</td>\n",
       "    </tr>\n",
       "    <tr>\n",
       "      <th>3</th>\n",
       "      <td>-0.106864</td>\n",
       "      <td>0.001794</td>\n",
       "      <td>-0.124516</td>\n",
       "    </tr>\n",
       "    <tr>\n",
       "      <th>4</th>\n",
       "      <td>0.099346</td>\n",
       "      <td>-0.143024</td>\n",
       "      <td>0.286086</td>\n",
       "    </tr>\n",
       "    <tr>\n",
       "      <th>5</th>\n",
       "      <td>-0.106000</td>\n",
       "      <td>0.090759</td>\n",
       "      <td>0.781641</td>\n",
       "    </tr>\n",
       "    <tr>\n",
       "      <th>6</th>\n",
       "      <td>-0.137667</td>\n",
       "      <td>-0.048153</td>\n",
       "      <td>0.171988</td>\n",
       "    </tr>\n",
       "    <tr>\n",
       "      <th>7</th>\n",
       "      <td>-0.063317</td>\n",
       "      <td>0.447688</td>\n",
       "      <td>0.028429</td>\n",
       "    </tr>\n",
       "    <tr>\n",
       "      <th>8</th>\n",
       "      <td>0.160446</td>\n",
       "      <td>0.009453</td>\n",
       "      <td>0.254781</td>\n",
       "    </tr>\n",
       "    <tr>\n",
       "      <th>9</th>\n",
       "      <td>-0.231721</td>\n",
       "      <td>-0.149144</td>\n",
       "      <td>-0.162477</td>\n",
       "    </tr>\n",
       "    <tr>\n",
       "      <th>10</th>\n",
       "      <td>-0.086184</td>\n",
       "      <td>0.443923</td>\n",
       "      <td>-0.110399</td>\n",
       "    </tr>\n",
       "    <tr>\n",
       "      <th>11</th>\n",
       "      <td>-0.104464</td>\n",
       "      <td>-0.447847</td>\n",
       "      <td>0.157535</td>\n",
       "    </tr>\n",
       "    <tr>\n",
       "      <th>12</th>\n",
       "      <td>0.085052</td>\n",
       "      <td>-0.312891</td>\n",
       "      <td>0.006468</td>\n",
       "    </tr>\n",
       "  </tbody>\n",
       "</table>\n",
       "</div>"
      ],
      "text/plain": [
       "           0         1         2\n",
       "0  -0.385469  0.233587 -0.168549\n",
       "1   0.045926  0.381513  0.303667\n",
       "2  -0.059374 -0.188971  0.012613\n",
       "3  -0.106864  0.001794 -0.124516\n",
       "4   0.099346 -0.143024  0.286086\n",
       "5  -0.106000  0.090759  0.781641\n",
       "6  -0.137667 -0.048153  0.171988\n",
       "7  -0.063317  0.447688  0.028429\n",
       "8   0.160446  0.009453  0.254781\n",
       "9  -0.231721 -0.149144 -0.162477\n",
       "10 -0.086184  0.443923 -0.110399\n",
       "11 -0.104464 -0.447847  0.157535\n",
       "12  0.085052 -0.312891  0.006468"
      ]
     },
     "execution_count": 103,
     "metadata": {},
     "output_type": "execute_result"
    }
   ],
   "source": [
    "pca1 = pca1.iloc[:,0:3]\n",
    "pca1"
   ]
  },
  {
   "cell_type": "code",
   "execution_count": 104,
   "metadata": {},
   "outputs": [],
   "source": [
    "# Hierarchical Clustering After PCA"
   ]
  },
  {
   "cell_type": "code",
   "execution_count": 105,
   "metadata": {},
   "outputs": [
    {
     "data": {
      "image/png": "[encoded data removed]",
      "text/plain": [
       "<Figure size 432x288 with 1 Axes>"
      ]
     },
     "metadata": {
      "needs_background": "light"
     },
     "output_type": "display_data"
    }
   ],
   "source": [
    "# create dendrogram\n",
    "dendrogram = sch.dendrogram(sch.linkage(pca1, method='complete'))"
   ]
  },
  {
   "cell_type": "code",
   "execution_count": 106,
   "metadata": {},
   "outputs": [],
   "source": [
    "# create clusters\n",
    "hc = AgglomerativeClustering(n_clusters=5, affinity = 'euclidean', linkage = 'complete')"
   ]
  },
  {
   "cell_type": "code",
   "execution_count": 107,
   "metadata": {},
   "outputs": [
    {
     "data": {
      "text/html": [
       "<div>\n",
       "<style scoped>\n",
       "    .dataframe tbody tr th:only-of-type {\n",
       "        vertical-align: middle;\n",
       "    }\n",
       "\n",
       "    .dataframe tbody tr th {\n",
       "        vertical-align: top;\n",
       "    }\n",
       "\n",
       "    .dataframe thead th {\n",
       "        text-align: right;\n",
       "    }\n",
       "</style>\n",
       "<table border=\"1\" class=\"dataframe\">\n",
       "  <thead>\n",
       "    <tr style=\"text-align: right;\">\n",
       "      <th></th>\n",
       "      <th>Clusters</th>\n",
       "    </tr>\n",
       "  </thead>\n",
       "  <tbody>\n",
       "    <tr>\n",
       "      <th>0</th>\n",
       "      <td>1</td>\n",
       "    </tr>\n",
       "    <tr>\n",
       "      <th>1</th>\n",
       "      <td>0</td>\n",
       "    </tr>\n",
       "    <tr>\n",
       "      <th>2</th>\n",
       "      <td>4</td>\n",
       "    </tr>\n",
       "    <tr>\n",
       "      <th>3</th>\n",
       "      <td>1</td>\n",
       "    </tr>\n",
       "    <tr>\n",
       "      <th>4</th>\n",
       "      <td>3</td>\n",
       "    </tr>\n",
       "    <tr>\n",
       "      <th>5</th>\n",
       "      <td>2</td>\n",
       "    </tr>\n",
       "    <tr>\n",
       "      <th>6</th>\n",
       "      <td>3</td>\n",
       "    </tr>\n",
       "    <tr>\n",
       "      <th>7</th>\n",
       "      <td>0</td>\n",
       "    </tr>\n",
       "    <tr>\n",
       "      <th>8</th>\n",
       "      <td>3</td>\n",
       "    </tr>\n",
       "    <tr>\n",
       "      <th>9</th>\n",
       "      <td>1</td>\n",
       "    </tr>\n",
       "    <tr>\n",
       "      <th>10</th>\n",
       "      <td>0</td>\n",
       "    </tr>\n",
       "    <tr>\n",
       "      <th>11</th>\n",
       "      <td>4</td>\n",
       "    </tr>\n",
       "    <tr>\n",
       "      <th>12</th>\n",
       "      <td>4</td>\n",
       "    </tr>\n",
       "  </tbody>\n",
       "</table>\n",
       "</div>"
      ],
      "text/plain": [
       "    Clusters\n",
       "0          1\n",
       "1          0\n",
       "2          4\n",
       "3          1\n",
       "4          3\n",
       "5          2\n",
       "6          3\n",
       "7          0\n",
       "8          3\n",
       "9          1\n",
       "10         0\n",
       "11         4\n",
       "12         4"
      ]
     },
     "execution_count": 107,
     "metadata": {},
     "output_type": "execute_result"
    }
   ],
   "source": [
    "# save clusters for chart\n",
    "y_hc = hc.fit_predict(pca1)\n",
    "Clusters=pd.DataFrame(y_hc,columns=['Clusters'])\n",
    "Clusters"
   ]
  },
  {
   "cell_type": "code",
   "execution_count": 108,
   "metadata": {},
   "outputs": [
    {
     "name": "stderr",
     "output_type": "stream",
     "text": [
      "<ipython-input-108-7a42affeafc6>:1: SettingWithCopyWarning: \n",
      "A value is trying to be set on a copy of a slice from a DataFrame.\n",
      "Try using .loc[row_indexer,col_indexer] = value instead\n",
      "\n",
      "See the caveats in the documentation: https://pandas.pydata.org/pandas-docs/stable/user_guide/indexing.html#returning-a-view-versus-a-copy\n",
      "  pca2=pca1['h_clusterid']= pd.Series(y_hc)\n"
     ]
    },
    {
     "data": {
      "text/plain": [
       "0     1\n",
       "1     0\n",
       "2     4\n",
       "3     1\n",
       "4     3\n",
       "5     2\n",
       "6     3\n",
       "7     0\n",
       "8     3\n",
       "9     1\n",
       "10    0\n",
       "11    4\n",
       "12    4\n",
       "dtype: int64"
      ]
     },
     "execution_count": 108,
     "metadata": {},
     "output_type": "execute_result"
    }
   ],
   "source": [
    "pca2=pca1['h_clusterid']= pd.Series(y_hc)\n",
    "pca2"
   ]
  },
  {
   "cell_type": "code",
   "execution_count": 109,
   "metadata": {},
   "outputs": [
    {
     "data": {
      "text/html": [
       "<div>\n",
       "<style scoped>\n",
       "    .dataframe tbody tr th:only-of-type {\n",
       "        vertical-align: middle;\n",
       "    }\n",
       "\n",
       "    .dataframe tbody tr th {\n",
       "        vertical-align: top;\n",
       "    }\n",
       "\n",
       "    .dataframe thead th {\n",
       "        text-align: right;\n",
       "    }\n",
       "</style>\n",
       "<table border=\"1\" class=\"dataframe\">\n",
       "  <thead>\n",
       "    <tr style=\"text-align: right;\">\n",
       "      <th></th>\n",
       "      <th>1</th>\n",
       "      <th>2</th>\n",
       "      <th>h_clusterid</th>\n",
       "    </tr>\n",
       "    <tr>\n",
       "      <th>h_clusterid</th>\n",
       "      <th></th>\n",
       "      <th></th>\n",
       "      <th></th>\n",
       "    </tr>\n",
       "  </thead>\n",
       "  <tbody>\n",
       "    <tr>\n",
       "      <th>0</th>\n",
       "      <td>0.424375</td>\n",
       "      <td>0.073899</td>\n",
       "      <td>0</td>\n",
       "    </tr>\n",
       "    <tr>\n",
       "      <th>1</th>\n",
       "      <td>0.028745</td>\n",
       "      <td>-0.151847</td>\n",
       "      <td>1</td>\n",
       "    </tr>\n",
       "    <tr>\n",
       "      <th>2</th>\n",
       "      <td>0.090759</td>\n",
       "      <td>0.781641</td>\n",
       "      <td>2</td>\n",
       "    </tr>\n",
       "    <tr>\n",
       "      <th>3</th>\n",
       "      <td>-0.060575</td>\n",
       "      <td>0.237619</td>\n",
       "      <td>3</td>\n",
       "    </tr>\n",
       "    <tr>\n",
       "      <th>4</th>\n",
       "      <td>-0.316570</td>\n",
       "      <td>0.058872</td>\n",
       "      <td>4</td>\n",
       "    </tr>\n",
       "  </tbody>\n",
       "</table>\n",
       "</div>"
      ],
      "text/plain": [
       "                    1         2  h_clusterid\n",
       "h_clusterid                                 \n",
       "0            0.424375  0.073899            0\n",
       "1            0.028745 -0.151847            1\n",
       "2            0.090759  0.781641            2\n",
       "3           -0.060575  0.237619            3\n",
       "4           -0.316570  0.058872            4"
      ]
     },
     "execution_count": 109,
     "metadata": {},
     "output_type": "execute_result"
    }
   ],
   "source": [
    "result1=pca1.iloc[:,1:].groupby(pca1.h_clusterid).mean()\n",
    "result1"
   ]
  },
  {
   "cell_type": "markdown",
   "metadata": {},
   "source": [
    "# Non Hierarchical Clustering After PCA"
   ]
  },
  {
   "cell_type": "code",
   "execution_count": 110,
   "metadata": {},
   "outputs": [
    {
     "data": {
      "text/html": [
       "<div>\n",
       "<style scoped>\n",
       "    .dataframe tbody tr th:only-of-type {\n",
       "        vertical-align: middle;\n",
       "    }\n",
       "\n",
       "    .dataframe tbody tr th {\n",
       "        vertical-align: top;\n",
       "    }\n",
       "\n",
       "    .dataframe thead th {\n",
       "        text-align: right;\n",
       "    }\n",
       "</style>\n",
       "<table border=\"1\" class=\"dataframe\">\n",
       "  <thead>\n",
       "    <tr style=\"text-align: right;\">\n",
       "      <th></th>\n",
       "      <th>0</th>\n",
       "      <th>1</th>\n",
       "      <th>2</th>\n",
       "    </tr>\n",
       "  </thead>\n",
       "  <tbody>\n",
       "    <tr>\n",
       "      <th>0</th>\n",
       "      <td>-0.385469</td>\n",
       "      <td>0.233587</td>\n",
       "      <td>-0.168549</td>\n",
       "    </tr>\n",
       "    <tr>\n",
       "      <th>1</th>\n",
       "      <td>0.045926</td>\n",
       "      <td>0.381513</td>\n",
       "      <td>0.303667</td>\n",
       "    </tr>\n",
       "    <tr>\n",
       "      <th>2</th>\n",
       "      <td>-0.059374</td>\n",
       "      <td>-0.188971</td>\n",
       "      <td>0.012613</td>\n",
       "    </tr>\n",
       "    <tr>\n",
       "      <th>3</th>\n",
       "      <td>-0.106864</td>\n",
       "      <td>0.001794</td>\n",
       "      <td>-0.124516</td>\n",
       "    </tr>\n",
       "    <tr>\n",
       "      <th>4</th>\n",
       "      <td>0.099346</td>\n",
       "      <td>-0.143024</td>\n",
       "      <td>0.286086</td>\n",
       "    </tr>\n",
       "    <tr>\n",
       "      <th>5</th>\n",
       "      <td>-0.106000</td>\n",
       "      <td>0.090759</td>\n",
       "      <td>0.781641</td>\n",
       "    </tr>\n",
       "    <tr>\n",
       "      <th>6</th>\n",
       "      <td>-0.137667</td>\n",
       "      <td>-0.048153</td>\n",
       "      <td>0.171988</td>\n",
       "    </tr>\n",
       "    <tr>\n",
       "      <th>7</th>\n",
       "      <td>-0.063317</td>\n",
       "      <td>0.447688</td>\n",
       "      <td>0.028429</td>\n",
       "    </tr>\n",
       "    <tr>\n",
       "      <th>8</th>\n",
       "      <td>0.160446</td>\n",
       "      <td>0.009453</td>\n",
       "      <td>0.254781</td>\n",
       "    </tr>\n",
       "    <tr>\n",
       "      <th>9</th>\n",
       "      <td>-0.231721</td>\n",
       "      <td>-0.149144</td>\n",
       "      <td>-0.162477</td>\n",
       "    </tr>\n",
       "    <tr>\n",
       "      <th>10</th>\n",
       "      <td>-0.086184</td>\n",
       "      <td>0.443923</td>\n",
       "      <td>-0.110399</td>\n",
       "    </tr>\n",
       "    <tr>\n",
       "      <th>11</th>\n",
       "      <td>-0.104464</td>\n",
       "      <td>-0.447847</td>\n",
       "      <td>0.157535</td>\n",
       "    </tr>\n",
       "    <tr>\n",
       "      <th>12</th>\n",
       "      <td>0.085052</td>\n",
       "      <td>-0.312891</td>\n",
       "      <td>0.006468</td>\n",
       "    </tr>\n",
       "  </tbody>\n",
       "</table>\n",
       "</div>"
      ],
      "text/plain": [
       "           0         1         2\n",
       "0  -0.385469  0.233587 -0.168549\n",
       "1   0.045926  0.381513  0.303667\n",
       "2  -0.059374 -0.188971  0.012613\n",
       "3  -0.106864  0.001794 -0.124516\n",
       "4   0.099346 -0.143024  0.286086\n",
       "5  -0.106000  0.090759  0.781641\n",
       "6  -0.137667 -0.048153  0.171988\n",
       "7  -0.063317  0.447688  0.028429\n",
       "8   0.160446  0.009453  0.254781\n",
       "9  -0.231721 -0.149144 -0.162477\n",
       "10 -0.086184  0.443923 -0.110399\n",
       "11 -0.104464 -0.447847  0.157535\n",
       "12  0.085052 -0.312891  0.006468"
      ]
     },
     "execution_count": 110,
     "metadata": {},
     "output_type": "execute_result"
    }
   ],
   "source": [
    "pca3 = pca1.iloc[:,0:3]\n",
    "pca3"
   ]
  },
  {
   "cell_type": "code",
   "execution_count": 111,
   "metadata": {},
   "outputs": [
    {
     "data": {
      "text/html": [
       "<div>\n",
       "<style scoped>\n",
       "    .dataframe tbody tr th:only-of-type {\n",
       "        vertical-align: middle;\n",
       "    }\n",
       "\n",
       "    .dataframe tbody tr th {\n",
       "        vertical-align: top;\n",
       "    }\n",
       "\n",
       "    .dataframe thead th {\n",
       "        text-align: right;\n",
       "    }\n",
       "</style>\n",
       "<table border=\"1\" class=\"dataframe\">\n",
       "  <thead>\n",
       "    <tr style=\"text-align: right;\">\n",
       "      <th></th>\n",
       "      <th>0</th>\n",
       "      <th>1</th>\n",
       "      <th>2</th>\n",
       "      <th>clusterID</th>\n",
       "    </tr>\n",
       "  </thead>\n",
       "  <tbody>\n",
       "    <tr>\n",
       "      <th>0</th>\n",
       "      <td>-0.385469</td>\n",
       "      <td>0.233587</td>\n",
       "      <td>-0.168549</td>\n",
       "      <td>1</td>\n",
       "    </tr>\n",
       "    <tr>\n",
       "      <th>1</th>\n",
       "      <td>0.045926</td>\n",
       "      <td>0.381513</td>\n",
       "      <td>0.303667</td>\n",
       "      <td>2</td>\n",
       "    </tr>\n",
       "    <tr>\n",
       "      <th>2</th>\n",
       "      <td>-0.059374</td>\n",
       "      <td>-0.188971</td>\n",
       "      <td>0.012613</td>\n",
       "      <td>4</td>\n",
       "    </tr>\n",
       "    <tr>\n",
       "      <th>3</th>\n",
       "      <td>-0.106864</td>\n",
       "      <td>0.001794</td>\n",
       "      <td>-0.124516</td>\n",
       "      <td>1</td>\n",
       "    </tr>\n",
       "    <tr>\n",
       "      <th>4</th>\n",
       "      <td>0.099346</td>\n",
       "      <td>-0.143024</td>\n",
       "      <td>0.286086</td>\n",
       "      <td>3</td>\n",
       "    </tr>\n",
       "    <tr>\n",
       "      <th>5</th>\n",
       "      <td>-0.106000</td>\n",
       "      <td>0.090759</td>\n",
       "      <td>0.781641</td>\n",
       "      <td>0</td>\n",
       "    </tr>\n",
       "    <tr>\n",
       "      <th>6</th>\n",
       "      <td>-0.137667</td>\n",
       "      <td>-0.048153</td>\n",
       "      <td>0.171988</td>\n",
       "      <td>3</td>\n",
       "    </tr>\n",
       "    <tr>\n",
       "      <th>7</th>\n",
       "      <td>-0.063317</td>\n",
       "      <td>0.447688</td>\n",
       "      <td>0.028429</td>\n",
       "      <td>2</td>\n",
       "    </tr>\n",
       "    <tr>\n",
       "      <th>8</th>\n",
       "      <td>0.160446</td>\n",
       "      <td>0.009453</td>\n",
       "      <td>0.254781</td>\n",
       "      <td>3</td>\n",
       "    </tr>\n",
       "    <tr>\n",
       "      <th>9</th>\n",
       "      <td>-0.231721</td>\n",
       "      <td>-0.149144</td>\n",
       "      <td>-0.162477</td>\n",
       "      <td>1</td>\n",
       "    </tr>\n",
       "    <tr>\n",
       "      <th>10</th>\n",
       "      <td>-0.086184</td>\n",
       "      <td>0.443923</td>\n",
       "      <td>-0.110399</td>\n",
       "      <td>2</td>\n",
       "    </tr>\n",
       "    <tr>\n",
       "      <th>11</th>\n",
       "      <td>-0.104464</td>\n",
       "      <td>-0.447847</td>\n",
       "      <td>0.157535</td>\n",
       "      <td>4</td>\n",
       "    </tr>\n",
       "    <tr>\n",
       "      <th>12</th>\n",
       "      <td>0.085052</td>\n",
       "      <td>-0.312891</td>\n",
       "      <td>0.006468</td>\n",
       "      <td>4</td>\n",
       "    </tr>\n",
       "  </tbody>\n",
       "</table>\n",
       "</div>"
      ],
      "text/plain": [
       "           0         1         2  clusterID\n",
       "0  -0.385469  0.233587 -0.168549          1\n",
       "1   0.045926  0.381513  0.303667          2\n",
       "2  -0.059374 -0.188971  0.012613          4\n",
       "3  -0.106864  0.001794 -0.124516          1\n",
       "4   0.099346 -0.143024  0.286086          3\n",
       "5  -0.106000  0.090759  0.781641          0\n",
       "6  -0.137667 -0.048153  0.171988          3\n",
       "7  -0.063317  0.447688  0.028429          2\n",
       "8   0.160446  0.009453  0.254781          3\n",
       "9  -0.231721 -0.149144 -0.162477          1\n",
       "10 -0.086184  0.443923 -0.110399          2\n",
       "11 -0.104464 -0.447847  0.157535          4\n",
       "12  0.085052 -0.312891  0.006468          4"
      ]
     },
     "execution_count": 111,
     "metadata": {},
     "output_type": "execute_result"
    }
   ],
   "source": [
    "kmeans_clust=KMeans(n_clusters=5)\n",
    "kmeans_clust.fit(pca3)\n",
    "pca3[\"clusterID\"]=pd.Series(kmeans_clust.labels_)\n",
    "pca3"
   ]
  },
  {
   "cell_type": "code",
   "execution_count": 112,
   "metadata": {},
   "outputs": [
    {
     "data": {
      "text/html": [
       "<div>\n",
       "<style scoped>\n",
       "    .dataframe tbody tr th:only-of-type {\n",
       "        vertical-align: middle;\n",
       "    }\n",
       "\n",
       "    .dataframe tbody tr th {\n",
       "        vertical-align: top;\n",
       "    }\n",
       "\n",
       "    .dataframe thead th {\n",
       "        text-align: right;\n",
       "    }\n",
       "</style>\n",
       "<table border=\"1\" class=\"dataframe\">\n",
       "  <thead>\n",
       "    <tr style=\"text-align: right;\">\n",
       "      <th></th>\n",
       "      <th>0</th>\n",
       "      <th>1</th>\n",
       "      <th>2</th>\n",
       "      <th>clusterID</th>\n",
       "    </tr>\n",
       "    <tr>\n",
       "      <th>clusterID</th>\n",
       "      <th></th>\n",
       "      <th></th>\n",
       "      <th></th>\n",
       "      <th></th>\n",
       "    </tr>\n",
       "  </thead>\n",
       "  <tbody>\n",
       "    <tr>\n",
       "      <th>0</th>\n",
       "      <td>-0.106000</td>\n",
       "      <td>0.090759</td>\n",
       "      <td>0.781641</td>\n",
       "      <td>0</td>\n",
       "    </tr>\n",
       "    <tr>\n",
       "      <th>1</th>\n",
       "      <td>-0.241352</td>\n",
       "      <td>0.028745</td>\n",
       "      <td>-0.151847</td>\n",
       "      <td>1</td>\n",
       "    </tr>\n",
       "    <tr>\n",
       "      <th>2</th>\n",
       "      <td>-0.034525</td>\n",
       "      <td>0.424375</td>\n",
       "      <td>0.073899</td>\n",
       "      <td>2</td>\n",
       "    </tr>\n",
       "    <tr>\n",
       "      <th>3</th>\n",
       "      <td>0.040708</td>\n",
       "      <td>-0.060575</td>\n",
       "      <td>0.237619</td>\n",
       "      <td>3</td>\n",
       "    </tr>\n",
       "    <tr>\n",
       "      <th>4</th>\n",
       "      <td>-0.026262</td>\n",
       "      <td>-0.316570</td>\n",
       "      <td>0.058872</td>\n",
       "      <td>4</td>\n",
       "    </tr>\n",
       "  </tbody>\n",
       "</table>\n",
       "</div>"
      ],
      "text/plain": [
       "                  0         1         2  clusterID\n",
       "clusterID                                         \n",
       "0         -0.106000  0.090759  0.781641          0\n",
       "1         -0.241352  0.028745 -0.151847          1\n",
       "2         -0.034525  0.424375  0.073899          2\n",
       "3          0.040708 -0.060575  0.237619          3\n",
       "4         -0.026262 -0.316570  0.058872          4"
      ]
     },
     "execution_count": 112,
     "metadata": {},
     "output_type": "execute_result"
    }
   ],
   "source": [
    "result4=pca3.iloc[:,0:].groupby(pca3.clusterID).mean()\n",
    "result4"
   ]
  },
  {
   "cell_type": "code",
   "execution_count": 113,
   "metadata": {},
   "outputs": [
    {
     "data": {
      "text/plain": [
       "[array([8.45745009]),\n",
       " array([5.98530809]),\n",
       " array([3.59812351]),\n",
       " array([1.95468671]),\n",
       " array([1.58487734])]"
      ]
     },
     "execution_count": 113,
     "metadata": {},
     "output_type": "execute_result"
    }
   ],
   "source": [
    "k = list(range(2,7))\n",
    "k\n",
    "TWSS = [] # variable for storing total within sum of squares for each kmeans \n",
    "for i in k:\n",
    "    kmeans = KMeans(n_clusters = i)\n",
    "    kmeans.fit(pca3)\n",
    "    WSS = [] # variable for storing within sum of squares for each cluster \n",
    "    for j in range(i):\n",
    "        WSS.append(sum(cdist(pca3.iloc[kmeans.labels_==j,:],kmeans.cluster_centers_[j].reshape(1,pca3.shape[1]),\"euclidean\")))\n",
    "    TWSS.append(sum(WSS))\n",
    "    \n",
    "TWSS"
   ]
  },
  {
   "cell_type": "code",
   "execution_count": 114,
   "metadata": {},
   "outputs": [
    {
     "data": {
      "text/plain": [
       "([<matplotlib.axis.XTick at 0x204e1f7dca0>,\n",
       "  <matplotlib.axis.XTick at 0x204e1f06880>,\n",
       "  <matplotlib.axis.XTick at 0x204e1f96400>,\n",
       "  <matplotlib.axis.XTick at 0x204e1f2c6d0>,\n",
       "  <matplotlib.axis.XTick at 0x204e1f2cbb0>],\n",
       " [Text(0, 0, ''),\n",
       "  Text(0, 0, ''),\n",
       "  Text(0, 0, ''),\n",
       "  Text(0, 0, ''),\n",
       "  Text(0, 0, '')])"
      ]
     },
     "execution_count": 114,
     "metadata": {},
     "output_type": "execute_result"
    },
    {
     "data": {
      "image/png": "[encoded data removed]",
      "text/plain": [
       "<Figure size 432x288 with 1 Axes>"
      ]
     },
     "metadata": {
      "needs_background": "light"
     },
     "output_type": "display_data"
    }
   ],
   "source": [
    "plt.plot(k,TWSS, 'ro-');plt.xlabel(\"No_of_Clusters\");plt.ylabel(\"total_within_SS\");plt.xticks(k)"
   ]
  },
  {
   "cell_type": "code",
   "execution_count": 115,
   "metadata": {},
   "outputs": [],
   "source": [
    "#Inferences\n",
    "#There is a lot of difference in forming clusters on original data and on PCA data.\n",
    "#THe majar difference is performance is increased to a greater extent after PCA is performed.\n",
    "#Dendrogram allows to classify clusters easily after PCA is performed.\n",
    "#Elbow curve allows to consider appropriate K-value after PCA is performed."
   ]
  }
 ],
 "metadata": {
  "kernelspec": {
   "display_name": "Python 3",
   "language": "python",
   "name": "python3"
  },
  "language_info": {
   "codemirror_mode": {
    "name": "ipython",
    "version": 3
   },
   "file_extension": ".py",
   "mimetype": "text/x-python",
   "name": "python",
   "nbconvert_exporter": "python",
   "pygments_lexer": "ipython3",
   "version": "3.8.5"
  }
 },
 "nbformat": 4,
 "nbformat_minor": 4
}
